{
 "cells": [
  {
   "cell_type": "code",
   "execution_count": null,
   "metadata": {},
   "outputs": [],
   "source": [
    "import pandas as pd\n",
    "\n",
    "def data_for_classification():\n",
    "    my_dict = {}\n",
    "    \n",
    "    path = input(\"Enter the path of the json file(example --> D:/Machine Learning/data.json) -->\")\n",
    "\n",
    "    r = pd.read_json(path)\n",
    "    \n",
    "    my_dict[\"title\"] = list(dict(r)[\"title\"])\n",
    "    my_dict[\"categories\"] = list(dict(r)[\"categories\"])\n",
    "    my_dict[\"abstract\"] = list(dict(r)[\"abstract\"])\n",
    "    \n",
    "    return my_dict\n",
    "\n",
    "data_for_classification()\n",
    "    \n",
    "    "
   ]
  }
 ],
 "metadata": {
  "kernelspec": {
   "display_name": "Python 3",
   "language": "python",
   "name": "python3"
  },
  "language_info": {
   "codemirror_mode": {
    "name": "ipython",
    "version": 3
   },
   "file_extension": ".py",
   "mimetype": "text/x-python",
   "name": "python",
   "nbconvert_exporter": "python",
   "pygments_lexer": "ipython3",
   "version": "3.6.5"
  }
 },
 "nbformat": 4,
 "nbformat_minor": 2
}
