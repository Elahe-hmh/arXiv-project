{
 "cells": [
  {
   "cell_type": "markdown",
   "metadata": {},
   "source": [
    "به نام خدا\n"
   ]
  },
  {
   "cell_type": "markdown",
   "metadata": {},
   "source": [
    "پروژه یادگیری ماشین در فیزیک\n"
   ]
  },
  {
   "cell_type": "markdown",
   "metadata": {},
   "source": [
    "فهیمه فخری\n",
    "الهه ملاحیدر\n",
    "یگانه بهاری\n",
    " "
   ]
  },
  {
   "cell_type": "markdown",
   "metadata": {},
   "source": [
    "در این مرحله از پروژه داده های مقالات سایت آرکایو از سال 2014 تا 2019 را ذخیره کرده .چکیده های مقالات را به بردار تبدیل کرده و برای هر چکیده زیر شاخه آن مقاله را به عنوان لیبل در نظر گرفتیم.سپس به وسیله الگوریتم های کلسیفیکیشن زیرشاخه تعدادی از مقالات را به وسیله چکیده آن ها پیش بینی کردیم.\n",
    "در ادامه هر مرحله را شرح میدهیم."
   ]
  },
  {
   "cell_type": "code",
   "execution_count": null,
   "metadata": {},
   "outputs": [],
   "source": [
    "import pandas as pd\n"
   ]
  },
  {
   "cell_type": "code",
   "execution_count": 5,
   "metadata": {},
   "outputs": [],
   "source": [
    "def data_for_classification():\n",
    "    my_dict = {}\n",
    "    \n",
    "    path = input(\"Enter the path of the json file(example --> D:/Machine Learning/data.json) -->\")\n",
    "\n",
    "    r = pd.read_json(path)\n",
    "    \n",
    "    my_dict[\"title\"] = list(dict(r)[\"title\"])\n",
    "    my_dict[\"categories\"] = list(dict(r)[\"categories\"])\n",
    "    my_dict[\"abstract\"] = list(dict(r)[\"abstract\"])\n",
    "    \n",
    "    return my_dict\n"
   ]
  },
  {
   "cell_type": "markdown",
   "metadata": {},
   "source": [
    "ابتدا دیتای اصلی گرفته شده از سایت را میخوانیم و زیر شاخه هر مقاله را مشخص میکنیم."
   ]
  },
  {
   "cell_type": "code",
   "execution_count": 6,
   "metadata": {},
   "outputs": [
    {
     "data": {
      "text/html": [
       "<div>\n",
       "<style scoped>\n",
       "    .dataframe tbody tr th:only-of-type {\n",
       "        vertical-align: middle;\n",
       "    }\n",
       "\n",
       "    .dataframe tbody tr th {\n",
       "        vertical-align: top;\n",
       "    }\n",
       "\n",
       "    .dataframe thead th {\n",
       "        text-align: right;\n",
       "    }\n",
       "</style>\n",
       "<table border=\"1\" class=\"dataframe\">\n",
       "  <thead>\n",
       "    <tr style=\"text-align: right;\">\n",
       "      <th></th>\n",
       "      <th>identifier</th>\n",
       "      <th>datestamp</th>\n",
       "      <th>setSpec</th>\n",
       "      <th>id</th>\n",
       "      <th>created</th>\n",
       "      <th>updated</th>\n",
       "      <th>authors</th>\n",
       "      <th>title</th>\n",
       "      <th>categories</th>\n",
       "      <th>comments</th>\n",
       "      <th>journal-ref</th>\n",
       "      <th>doi</th>\n",
       "      <th>abstract</th>\n",
       "      <th>category</th>\n",
       "      <th>sub category</th>\n",
       "    </tr>\n",
       "  </thead>\n",
       "  <tbody>\n",
       "    <tr>\n",
       "      <th>0</th>\n",
       "      <td>oai:arXiv.org:0801.3875</td>\n",
       "      <td>2015-08-03</td>\n",
       "      <td>physics</td>\n",
       "      <td>0801.3875</td>\n",
       "      <td>2008-01-24</td>\n",
       "      <td>2008-01-26</td>\n",
       "      <td>{'keyname': ['Mandel', 'Beezley', 'Chakraborty...</td>\n",
       "      <td>Towards a Real-Time Data Driven Wildland Fire ...</td>\n",
       "      <td>physics.ao-ph cs.CE</td>\n",
       "      <td>5 pages, 4 figures</td>\n",
       "      <td>IEEE International Symposium on Parallel and D...</td>\n",
       "      <td>10.1109/IPDPS.2008.4536414</td>\n",
       "      <td>A wildland fire model based on semi-empirica...</td>\n",
       "      <td>[physics.ao-ph, cs.CE]</td>\n",
       "      <td>[physics, cs]</td>\n",
       "    </tr>\n",
       "    <tr>\n",
       "      <th>1</th>\n",
       "      <td>oai:arXiv.org:1205.1956</td>\n",
       "      <td>2015-08-03</td>\n",
       "      <td>physics</td>\n",
       "      <td>1205.1956</td>\n",
       "      <td>2012-05-09</td>\n",
       "      <td>2015-07-31</td>\n",
       "      <td>{'keyname': ['Masso'], 'forenames': ['E.']}</td>\n",
       "      <td>Slightly Massive Photon and Equivalence Principle</td>\n",
       "      <td>hep-ph</td>\n",
       "      <td>This paper has been withdrawn by the author du...</td>\n",
       "      <td>None</td>\n",
       "      <td>None</td>\n",
       "      <td>We show that in the Higgs model leading to a...</td>\n",
       "      <td>[hep-ph]</td>\n",
       "      <td>[hep-ph]</td>\n",
       "    </tr>\n",
       "    <tr>\n",
       "      <th>2</th>\n",
       "      <td>oai:arXiv.org:1208.4703</td>\n",
       "      <td>2015-08-03</td>\n",
       "      <td>physics</td>\n",
       "      <td>1208.4703</td>\n",
       "      <td>2012-08-23</td>\n",
       "      <td>2015-07-31</td>\n",
       "      <td>{'keyname': ['Baldsiefen', 'Cangi', 'Gross'], ...</td>\n",
       "      <td>Reduced Density Matrix Functional Theory at Fi...</td>\n",
       "      <td>cond-mat.other math-ph math.MP quant-ph</td>\n",
       "      <td>11 pages, 1 table</td>\n",
       "      <td>None</td>\n",
       "      <td>None</td>\n",
       "      <td>We present an ab-initio approach for grand c...</td>\n",
       "      <td>[cond-mat.other, math-ph, math.MP, quant-ph]</td>\n",
       "      <td>[cond-mat, math-ph, math, quant-ph]</td>\n",
       "    </tr>\n",
       "    <tr>\n",
       "      <th>3</th>\n",
       "      <td>oai:arXiv.org:1210.3471</td>\n",
       "      <td>2015-08-03</td>\n",
       "      <td>physics</td>\n",
       "      <td>1210.3471</td>\n",
       "      <td>2012-10-12</td>\n",
       "      <td>None</td>\n",
       "      <td>{'keyname': ['Rowan-Robinson', 'Gonzalez-Solar...</td>\n",
       "      <td>Revised SWIRE photometric redshifts</td>\n",
       "      <td>astro-ph.CO</td>\n",
       "      <td>12 pages, 28 figures, accepted for publication...</td>\n",
       "      <td>MNRAS 428, 1959 (2013)</td>\n",
       "      <td>10.1093/mnras/sts163</td>\n",
       "      <td>We have revised the SWIRE Photometric Redshi...</td>\n",
       "      <td>[astro-ph.CO]</td>\n",
       "      <td>[astro-ph]</td>\n",
       "    </tr>\n",
       "    <tr>\n",
       "      <th>4</th>\n",
       "      <td>oai:arXiv.org:1211.3252</td>\n",
       "      <td>2015-08-03</td>\n",
       "      <td>physics</td>\n",
       "      <td>1211.3252</td>\n",
       "      <td>2012-11-14</td>\n",
       "      <td>None</td>\n",
       "      <td>{'keyname': ['Matsubara', 'Schmehl', 'Mannhart...</td>\n",
       "      <td>Giant third-order magneto-optical rotation in ...</td>\n",
       "      <td>cond-mat.str-el cond-mat.mtrl-sci</td>\n",
       "      <td>None</td>\n",
       "      <td>Phys. Rev. B 86 (2012) 195127</td>\n",
       "      <td>10.1103/PhysRevB.86.195127</td>\n",
       "      <td>A magnetization-induced rotation in the thir...</td>\n",
       "      <td>[cond-mat.str-el, cond-mat.mtrl-sci]</td>\n",
       "      <td>[cond-mat, cond-mat]</td>\n",
       "    </tr>\n",
       "    <tr>\n",
       "      <th>...</th>\n",
       "      <td>...</td>\n",
       "      <td>...</td>\n",
       "      <td>...</td>\n",
       "      <td>...</td>\n",
       "      <td>...</td>\n",
       "      <td>...</td>\n",
       "      <td>...</td>\n",
       "      <td>...</td>\n",
       "      <td>...</td>\n",
       "      <td>...</td>\n",
       "      <td>...</td>\n",
       "      <td>...</td>\n",
       "      <td>...</td>\n",
       "      <td>...</td>\n",
       "      <td>...</td>\n",
       "    </tr>\n",
       "    <tr>\n",
       "      <th>386290</th>\n",
       "      <td>oai:arXiv.org:1903.12134</td>\n",
       "      <td>2019-03-29</td>\n",
       "      <td>physics</td>\n",
       "      <td>1903.12</td>\n",
       "      <td>2019-03-28</td>\n",
       "      <td>None</td>\n",
       "      <td>{'keyname': ['Jouan', 'Singh', 'Lesne', 'Vaz',...</td>\n",
       "      <td>Quantized conductance in a one-dimensional bal...</td>\n",
       "      <td>cond-mat.mes-hall</td>\n",
       "      <td>None</td>\n",
       "      <td>None</td>\n",
       "      <td>None</td>\n",
       "      <td>Electric-field effect control of two-dimensi...</td>\n",
       "      <td>[cond-mat.mes-hall]</td>\n",
       "      <td>[cond-mat]</td>\n",
       "    </tr>\n",
       "    <tr>\n",
       "      <th>386291</th>\n",
       "      <td>oai:arXiv.org:1903.12148</td>\n",
       "      <td>2019-03-29</td>\n",
       "      <td>physics</td>\n",
       "      <td>1903.12</td>\n",
       "      <td>2019-03-28</td>\n",
       "      <td>None</td>\n",
       "      <td>{'keyname': ['Şahin', 'Yurchyshyn', 'Kumar', '...</td>\n",
       "      <td>Magnetic filed dynamics and varying plasma emi...</td>\n",
       "      <td>astro-ph.SR</td>\n",
       "      <td>None</td>\n",
       "      <td>Astrophysical Journal, 873:75 (11pp), 2019 Mar...</td>\n",
       "      <td>10.3847/1538-4357/ab04aa</td>\n",
       "      <td>In this study we report detailed observation...</td>\n",
       "      <td>[astro-ph.SR]</td>\n",
       "      <td>[astro-ph]</td>\n",
       "    </tr>\n",
       "    <tr>\n",
       "      <th>386292</th>\n",
       "      <td>oai:arXiv.org:1903.12155</td>\n",
       "      <td>2019-03-29</td>\n",
       "      <td>physics</td>\n",
       "      <td>1903.12</td>\n",
       "      <td>2019-03-28</td>\n",
       "      <td>None</td>\n",
       "      <td>{'keyname': ['Akao', 'Shirasaka', 'Jimbo', 'Er...</td>\n",
       "      <td>Theta-gamma cross-frequency coupling enables c...</td>\n",
       "      <td>q-bio.NC nlin.PS</td>\n",
       "      <td>13 pages, 4 figures</td>\n",
       "      <td>None</td>\n",
       "      <td>None</td>\n",
       "      <td>Cross-frequency coupling (CFC) is thought to...</td>\n",
       "      <td>[q-bio.NC, nlin.PS]</td>\n",
       "      <td>[q-bio, nlin]</td>\n",
       "    </tr>\n",
       "    <tr>\n",
       "      <th>386293</th>\n",
       "      <td>oai:arXiv.org:1903.12162</td>\n",
       "      <td>2019-03-29</td>\n",
       "      <td>physics</td>\n",
       "      <td>1903.12</td>\n",
       "      <td>2019-03-28</td>\n",
       "      <td>None</td>\n",
       "      <td>{'keyname': ['Djorwé', 'Pennec', 'Djafari-Rouh...</td>\n",
       "      <td>Balanced gain-loss induces collective dynamics...</td>\n",
       "      <td>cond-mat.mes-hall physics.optics</td>\n",
       "      <td>9 pages, 7 figures. Comments are welcome!</td>\n",
       "      <td>None</td>\n",
       "      <td>None</td>\n",
       "      <td>We investigate collective nonlinear dynamics...</td>\n",
       "      <td>[cond-mat.mes-hall, physics.optics]</td>\n",
       "      <td>[cond-mat, physics]</td>\n",
       "    </tr>\n",
       "    <tr>\n",
       "      <th>386294</th>\n",
       "      <td>oai:arXiv.org:1903.12166</td>\n",
       "      <td>2019-03-29</td>\n",
       "      <td>physics</td>\n",
       "      <td>1903.12</td>\n",
       "      <td>2019-03-28</td>\n",
       "      <td>None</td>\n",
       "      <td>{'keyname': ['Nakanishi', 'Fujii', 'Todo'], 'f...</td>\n",
       "      <td>Sequential minimal optimization for quantum-cl...</td>\n",
       "      <td>quant-ph physics.comp-ph</td>\n",
       "      <td>11 pages, 4 figures</td>\n",
       "      <td>None</td>\n",
       "      <td>None</td>\n",
       "      <td>We propose a sequential minimal optimization...</td>\n",
       "      <td>[quant-ph, physics.comp-ph]</td>\n",
       "      <td>[quant-ph, physics]</td>\n",
       "    </tr>\n",
       "  </tbody>\n",
       "</table>\n",
       "<p>386295 rows × 15 columns</p>\n",
       "</div>"
      ],
      "text/plain": [
       "                      identifier   datestamp  setSpec         id     created  \\\n",
       "0        oai:arXiv.org:0801.3875  2015-08-03  physics  0801.3875  2008-01-24   \n",
       "1        oai:arXiv.org:1205.1956  2015-08-03  physics  1205.1956  2012-05-09   \n",
       "2        oai:arXiv.org:1208.4703  2015-08-03  physics  1208.4703  2012-08-23   \n",
       "3        oai:arXiv.org:1210.3471  2015-08-03  physics  1210.3471  2012-10-12   \n",
       "4        oai:arXiv.org:1211.3252  2015-08-03  physics  1211.3252  2012-11-14   \n",
       "...                          ...         ...      ...        ...         ...   \n",
       "386290  oai:arXiv.org:1903.12134  2019-03-29  physics    1903.12  2019-03-28   \n",
       "386291  oai:arXiv.org:1903.12148  2019-03-29  physics    1903.12  2019-03-28   \n",
       "386292  oai:arXiv.org:1903.12155  2019-03-29  physics    1903.12  2019-03-28   \n",
       "386293  oai:arXiv.org:1903.12162  2019-03-29  physics    1903.12  2019-03-28   \n",
       "386294  oai:arXiv.org:1903.12166  2019-03-29  physics    1903.12  2019-03-28   \n",
       "\n",
       "           updated                                            authors  \\\n",
       "0       2008-01-26  {'keyname': ['Mandel', 'Beezley', 'Chakraborty...   \n",
       "1       2015-07-31        {'keyname': ['Masso'], 'forenames': ['E.']}   \n",
       "2       2015-07-31  {'keyname': ['Baldsiefen', 'Cangi', 'Gross'], ...   \n",
       "3             None  {'keyname': ['Rowan-Robinson', 'Gonzalez-Solar...   \n",
       "4             None  {'keyname': ['Matsubara', 'Schmehl', 'Mannhart...   \n",
       "...            ...                                                ...   \n",
       "386290        None  {'keyname': ['Jouan', 'Singh', 'Lesne', 'Vaz',...   \n",
       "386291        None  {'keyname': ['Şahin', 'Yurchyshyn', 'Kumar', '...   \n",
       "386292        None  {'keyname': ['Akao', 'Shirasaka', 'Jimbo', 'Er...   \n",
       "386293        None  {'keyname': ['Djorwé', 'Pennec', 'Djafari-Rouh...   \n",
       "386294        None  {'keyname': ['Nakanishi', 'Fujii', 'Todo'], 'f...   \n",
       "\n",
       "                                                    title  \\\n",
       "0       Towards a Real-Time Data Driven Wildland Fire ...   \n",
       "1       Slightly Massive Photon and Equivalence Principle   \n",
       "2       Reduced Density Matrix Functional Theory at Fi...   \n",
       "3                     Revised SWIRE photometric redshifts   \n",
       "4       Giant third-order magneto-optical rotation in ...   \n",
       "...                                                   ...   \n",
       "386290  Quantized conductance in a one-dimensional bal...   \n",
       "386291  Magnetic filed dynamics and varying plasma emi...   \n",
       "386292  Theta-gamma cross-frequency coupling enables c...   \n",
       "386293  Balanced gain-loss induces collective dynamics...   \n",
       "386294  Sequential minimal optimization for quantum-cl...   \n",
       "\n",
       "                                     categories  \\\n",
       "0                           physics.ao-ph cs.CE   \n",
       "1                                        hep-ph   \n",
       "2       cond-mat.other math-ph math.MP quant-ph   \n",
       "3                                   astro-ph.CO   \n",
       "4             cond-mat.str-el cond-mat.mtrl-sci   \n",
       "...                                         ...   \n",
       "386290                        cond-mat.mes-hall   \n",
       "386291                              astro-ph.SR   \n",
       "386292                         q-bio.NC nlin.PS   \n",
       "386293         cond-mat.mes-hall physics.optics   \n",
       "386294                 quant-ph physics.comp-ph   \n",
       "\n",
       "                                                 comments  \\\n",
       "0                                      5 pages, 4 figures   \n",
       "1       This paper has been withdrawn by the author du...   \n",
       "2                                       11 pages, 1 table   \n",
       "3       12 pages, 28 figures, accepted for publication...   \n",
       "4                                                    None   \n",
       "...                                                   ...   \n",
       "386290                                               None   \n",
       "386291                                               None   \n",
       "386292                                13 pages, 4 figures   \n",
       "386293          9 pages, 7 figures. Comments are welcome!   \n",
       "386294                                11 pages, 4 figures   \n",
       "\n",
       "                                              journal-ref  \\\n",
       "0       IEEE International Symposium on Parallel and D...   \n",
       "1                                                    None   \n",
       "2                                                    None   \n",
       "3                                  MNRAS 428, 1959 (2013)   \n",
       "4                           Phys. Rev. B 86 (2012) 195127   \n",
       "...                                                   ...   \n",
       "386290                                               None   \n",
       "386291  Astrophysical Journal, 873:75 (11pp), 2019 Mar...   \n",
       "386292                                               None   \n",
       "386293                                               None   \n",
       "386294                                               None   \n",
       "\n",
       "                               doi  \\\n",
       "0       10.1109/IPDPS.2008.4536414   \n",
       "1                             None   \n",
       "2                             None   \n",
       "3             10.1093/mnras/sts163   \n",
       "4       10.1103/PhysRevB.86.195127   \n",
       "...                            ...   \n",
       "386290                        None   \n",
       "386291    10.3847/1538-4357/ab04aa   \n",
       "386292                        None   \n",
       "386293                        None   \n",
       "386294                        None   \n",
       "\n",
       "                                                 abstract  \\\n",
       "0         A wildland fire model based on semi-empirica...   \n",
       "1         We show that in the Higgs model leading to a...   \n",
       "2         We present an ab-initio approach for grand c...   \n",
       "3         We have revised the SWIRE Photometric Redshi...   \n",
       "4         A magnetization-induced rotation in the thir...   \n",
       "...                                                   ...   \n",
       "386290    Electric-field effect control of two-dimensi...   \n",
       "386291    In this study we report detailed observation...   \n",
       "386292    Cross-frequency coupling (CFC) is thought to...   \n",
       "386293    We investigate collective nonlinear dynamics...   \n",
       "386294    We propose a sequential minimal optimization...   \n",
       "\n",
       "                                            category  \\\n",
       "0                             [physics.ao-ph, cs.CE]   \n",
       "1                                           [hep-ph]   \n",
       "2       [cond-mat.other, math-ph, math.MP, quant-ph]   \n",
       "3                                      [astro-ph.CO]   \n",
       "4               [cond-mat.str-el, cond-mat.mtrl-sci]   \n",
       "...                                              ...   \n",
       "386290                           [cond-mat.mes-hall]   \n",
       "386291                                 [astro-ph.SR]   \n",
       "386292                           [q-bio.NC, nlin.PS]   \n",
       "386293           [cond-mat.mes-hall, physics.optics]   \n",
       "386294                   [quant-ph, physics.comp-ph]   \n",
       "\n",
       "                               sub category  \n",
       "0                             [physics, cs]  \n",
       "1                                  [hep-ph]  \n",
       "2       [cond-mat, math-ph, math, quant-ph]  \n",
       "3                                [astro-ph]  \n",
       "4                      [cond-mat, cond-mat]  \n",
       "...                                     ...  \n",
       "386290                           [cond-mat]  \n",
       "386291                           [astro-ph]  \n",
       "386292                        [q-bio, nlin]  \n",
       "386293                  [cond-mat, physics]  \n",
       "386294                  [quant-ph, physics]  \n",
       "\n",
       "[386295 rows x 15 columns]"
      ]
     },
     "execution_count": 6,
     "metadata": {},
     "output_type": "execute_result"
    }
   ],
   "source": [
    "path = 'C:/Users/asus/Desktop/Giant.json'\n",
    "r = pd.read_json(path)\n",
    "r"
   ]
  },
  {
   "cell_type": "markdown",
   "metadata": {},
   "source": [
    "ستون های اضافه دیتا برای این مرحله را حذف میکنیم"
   ]
  },
  {
   "cell_type": "code",
   "execution_count": 7,
   "metadata": {},
   "outputs": [
    {
     "data": {
      "text/html": [
       "<div>\n",
       "<style scoped>\n",
       "    .dataframe tbody tr th:only-of-type {\n",
       "        vertical-align: middle;\n",
       "    }\n",
       "\n",
       "    .dataframe tbody tr th {\n",
       "        vertical-align: top;\n",
       "    }\n",
       "\n",
       "    .dataframe thead th {\n",
       "        text-align: right;\n",
       "    }\n",
       "</style>\n",
       "<table border=\"1\" class=\"dataframe\">\n",
       "  <thead>\n",
       "    <tr style=\"text-align: right;\">\n",
       "      <th></th>\n",
       "      <th>abstract</th>\n",
       "      <th>sub category</th>\n",
       "    </tr>\n",
       "  </thead>\n",
       "  <tbody>\n",
       "    <tr>\n",
       "      <th>0</th>\n",
       "      <td>A wildland fire model based on semi-empirica...</td>\n",
       "      <td>[physics, cs]</td>\n",
       "    </tr>\n",
       "    <tr>\n",
       "      <th>1</th>\n",
       "      <td>We show that in the Higgs model leading to a...</td>\n",
       "      <td>[hep-ph]</td>\n",
       "    </tr>\n",
       "    <tr>\n",
       "      <th>2</th>\n",
       "      <td>We present an ab-initio approach for grand c...</td>\n",
       "      <td>[cond-mat, math-ph, math, quant-ph]</td>\n",
       "    </tr>\n",
       "    <tr>\n",
       "      <th>3</th>\n",
       "      <td>We have revised the SWIRE Photometric Redshi...</td>\n",
       "      <td>[astro-ph]</td>\n",
       "    </tr>\n",
       "    <tr>\n",
       "      <th>4</th>\n",
       "      <td>A magnetization-induced rotation in the thir...</td>\n",
       "      <td>[cond-mat, cond-mat]</td>\n",
       "    </tr>\n",
       "    <tr>\n",
       "      <th>...</th>\n",
       "      <td>...</td>\n",
       "      <td>...</td>\n",
       "    </tr>\n",
       "    <tr>\n",
       "      <th>386290</th>\n",
       "      <td>Electric-field effect control of two-dimensi...</td>\n",
       "      <td>[cond-mat]</td>\n",
       "    </tr>\n",
       "    <tr>\n",
       "      <th>386291</th>\n",
       "      <td>In this study we report detailed observation...</td>\n",
       "      <td>[astro-ph]</td>\n",
       "    </tr>\n",
       "    <tr>\n",
       "      <th>386292</th>\n",
       "      <td>Cross-frequency coupling (CFC) is thought to...</td>\n",
       "      <td>[q-bio, nlin]</td>\n",
       "    </tr>\n",
       "    <tr>\n",
       "      <th>386293</th>\n",
       "      <td>We investigate collective nonlinear dynamics...</td>\n",
       "      <td>[cond-mat, physics]</td>\n",
       "    </tr>\n",
       "    <tr>\n",
       "      <th>386294</th>\n",
       "      <td>We propose a sequential minimal optimization...</td>\n",
       "      <td>[quant-ph, physics]</td>\n",
       "    </tr>\n",
       "  </tbody>\n",
       "</table>\n",
       "<p>386295 rows × 2 columns</p>\n",
       "</div>"
      ],
      "text/plain": [
       "                                                 abstract  \\\n",
       "0         A wildland fire model based on semi-empirica...   \n",
       "1         We show that in the Higgs model leading to a...   \n",
       "2         We present an ab-initio approach for grand c...   \n",
       "3         We have revised the SWIRE Photometric Redshi...   \n",
       "4         A magnetization-induced rotation in the thir...   \n",
       "...                                                   ...   \n",
       "386290    Electric-field effect control of two-dimensi...   \n",
       "386291    In this study we report detailed observation...   \n",
       "386292    Cross-frequency coupling (CFC) is thought to...   \n",
       "386293    We investigate collective nonlinear dynamics...   \n",
       "386294    We propose a sequential minimal optimization...   \n",
       "\n",
       "                               sub category  \n",
       "0                             [physics, cs]  \n",
       "1                                  [hep-ph]  \n",
       "2       [cond-mat, math-ph, math, quant-ph]  \n",
       "3                                [astro-ph]  \n",
       "4                      [cond-mat, cond-mat]  \n",
       "...                                     ...  \n",
       "386290                           [cond-mat]  \n",
       "386291                           [astro-ph]  \n",
       "386292                        [q-bio, nlin]  \n",
       "386293                  [cond-mat, physics]  \n",
       "386294                  [quant-ph, physics]  \n",
       "\n",
       "[386295 rows x 2 columns]"
      ]
     },
     "execution_count": 7,
     "metadata": {},
     "output_type": "execute_result"
    }
   ],
   "source": [
    "df_clean=r.drop(['identifier','datestamp','setSpec','created','id','comments','updated','doi','authors','journal-ref','categories','category','title'],axis=1)\n",
    "df_clean"
   ]
  },
  {
   "cell_type": "code",
   "execution_count": 8,
   "metadata": {},
   "outputs": [
    {
     "data": {
      "text/html": [
       "<div>\n",
       "<style scoped>\n",
       "    .dataframe tbody tr th:only-of-type {\n",
       "        vertical-align: middle;\n",
       "    }\n",
       "\n",
       "    .dataframe tbody tr th {\n",
       "        vertical-align: top;\n",
       "    }\n",
       "\n",
       "    .dataframe thead th {\n",
       "        text-align: right;\n",
       "    }\n",
       "</style>\n",
       "<table border=\"1\" class=\"dataframe\">\n",
       "  <thead>\n",
       "    <tr style=\"text-align: right;\">\n",
       "      <th></th>\n",
       "      <th>abstract</th>\n",
       "      <th>sub_cat</th>\n",
       "    </tr>\n",
       "  </thead>\n",
       "  <tbody>\n",
       "    <tr>\n",
       "      <th>0</th>\n",
       "      <td>A wildland fire model based on semi-empirica...</td>\n",
       "      <td>[physics, cs]</td>\n",
       "    </tr>\n",
       "    <tr>\n",
       "      <th>1</th>\n",
       "      <td>We show that in the Higgs model leading to a...</td>\n",
       "      <td>[hep-ph]</td>\n",
       "    </tr>\n",
       "    <tr>\n",
       "      <th>2</th>\n",
       "      <td>We present an ab-initio approach for grand c...</td>\n",
       "      <td>[cond-mat, math-ph, math, quant-ph]</td>\n",
       "    </tr>\n",
       "    <tr>\n",
       "      <th>3</th>\n",
       "      <td>We have revised the SWIRE Photometric Redshi...</td>\n",
       "      <td>[astro-ph]</td>\n",
       "    </tr>\n",
       "    <tr>\n",
       "      <th>4</th>\n",
       "      <td>A magnetization-induced rotation in the thir...</td>\n",
       "      <td>[cond-mat, cond-mat]</td>\n",
       "    </tr>\n",
       "    <tr>\n",
       "      <th>...</th>\n",
       "      <td>...</td>\n",
       "      <td>...</td>\n",
       "    </tr>\n",
       "    <tr>\n",
       "      <th>386290</th>\n",
       "      <td>Electric-field effect control of two-dimensi...</td>\n",
       "      <td>[cond-mat]</td>\n",
       "    </tr>\n",
       "    <tr>\n",
       "      <th>386291</th>\n",
       "      <td>In this study we report detailed observation...</td>\n",
       "      <td>[astro-ph]</td>\n",
       "    </tr>\n",
       "    <tr>\n",
       "      <th>386292</th>\n",
       "      <td>Cross-frequency coupling (CFC) is thought to...</td>\n",
       "      <td>[q-bio, nlin]</td>\n",
       "    </tr>\n",
       "    <tr>\n",
       "      <th>386293</th>\n",
       "      <td>We investigate collective nonlinear dynamics...</td>\n",
       "      <td>[cond-mat, physics]</td>\n",
       "    </tr>\n",
       "    <tr>\n",
       "      <th>386294</th>\n",
       "      <td>We propose a sequential minimal optimization...</td>\n",
       "      <td>[quant-ph, physics]</td>\n",
       "    </tr>\n",
       "  </tbody>\n",
       "</table>\n",
       "<p>386295 rows × 2 columns</p>\n",
       "</div>"
      ],
      "text/plain": [
       "                                                 abstract  \\\n",
       "0         A wildland fire model based on semi-empirica...   \n",
       "1         We show that in the Higgs model leading to a...   \n",
       "2         We present an ab-initio approach for grand c...   \n",
       "3         We have revised the SWIRE Photometric Redshi...   \n",
       "4         A magnetization-induced rotation in the thir...   \n",
       "...                                                   ...   \n",
       "386290    Electric-field effect control of two-dimensi...   \n",
       "386291    In this study we report detailed observation...   \n",
       "386292    Cross-frequency coupling (CFC) is thought to...   \n",
       "386293    We investigate collective nonlinear dynamics...   \n",
       "386294    We propose a sequential minimal optimization...   \n",
       "\n",
       "                                    sub_cat  \n",
       "0                             [physics, cs]  \n",
       "1                                  [hep-ph]  \n",
       "2       [cond-mat, math-ph, math, quant-ph]  \n",
       "3                                [astro-ph]  \n",
       "4                      [cond-mat, cond-mat]  \n",
       "...                                     ...  \n",
       "386290                           [cond-mat]  \n",
       "386291                           [astro-ph]  \n",
       "386292                        [q-bio, nlin]  \n",
       "386293                  [cond-mat, physics]  \n",
       "386294                  [quant-ph, physics]  \n",
       "\n",
       "[386295 rows x 2 columns]"
      ]
     },
     "execution_count": 8,
     "metadata": {},
     "output_type": "execute_result"
    }
   ],
   "source": [
    "df_clean=df_clean.rename(columns={'sub category': 'sub_cat'})\n",
    "df_clean"
   ]
  },
  {
   "cell_type": "markdown",
   "metadata": {},
   "source": [
    "چکیده ها را تمیز کرده(کلمات اضافه و علایم نگارش را حذف میکنیم) و به بردار تبدیل میکنیم"
   ]
  },
  {
   "cell_type": "code",
   "execution_count": 9,
   "metadata": {},
   "outputs": [],
   "source": [
    "import pandas as pd\n",
    "#from gensim.models import Word2Vec\n",
    "import numpy as np\n",
    "from sklearn.decomposition import PCA,NMF\n",
    "import matplotlib.pyplot as plt\n",
    "from nltk import  stem, word_tokenize,download\n",
    "from mpl_toolkits.mplot3d import Axes3D\n",
    "from sklearn.preprocessing import normalize\n",
    "from sklearn.metrics.pairwise import cosine_similarity\n",
    "from sklearn.cluster import KMeans\n",
    "#import pandasql as ps\n",
    "from nltk import  stem, word_tokenize\n",
    "from nltk.corpus import stopwords\n",
    "from bs4 import BeautifulSoup\n",
    "import codecs\n",
    "import re"
   ]
  },
  {
   "cell_type": "code",
   "execution_count": 10,
   "metadata": {},
   "outputs": [
    {
     "name": "stdout",
     "output_type": "stream",
     "text": [
      "[nltk_data] Downloading package stopwords to\n",
      "[nltk_data]     C:\\Users\\asus\\AppData\\Roaming\\nltk_data...\n",
      "[nltk_data]   Package stopwords is already up-to-date!\n"
     ]
    }
   ],
   "source": [
    "import nltk\n",
    "from nltk.corpus import stopwords\n",
    "nltk.download('stopwords')\n",
    "stopwords = stopwords.words('english')"
   ]
  },
  {
   "cell_type": "code",
   "execution_count": 11,
   "metadata": {},
   "outputs": [
    {
     "name": "stdout",
     "output_type": "stream",
     "text": [
      "[nltk_data] Downloading package punkt to\n",
      "[nltk_data]     C:\\Users\\asus\\AppData\\Roaming\\nltk_data...\n",
      "[nltk_data]   Package punkt is already up-to-date!\n",
      "[nltk_data] Downloading package stopwords to\n",
      "[nltk_data]     C:\\Users\\asus\\AppData\\Roaming\\nltk_data...\n",
      "[nltk_data]   Package stopwords is already up-to-date!\n"
     ]
    },
    {
     "data": {
      "text/plain": [
       "True"
      ]
     },
     "execution_count": 11,
     "metadata": {},
     "output_type": "execute_result"
    }
   ],
   "source": [
    "download('punkt')\n",
    "download('stopwords')"
   ]
  },
  {
   "cell_type": "code",
   "execution_count": 12,
   "metadata": {},
   "outputs": [],
   "source": [
    "stopw={'your', 'when', 'it', \"hadn't\", 'very', 'we', 'y', 'themselves', 'only', 'them', 'i', 'of', 'under', 'there', 'hasn', 'yourself', 'over', 'or', 'should', 'myself', 'll', 'being', 'after', \"you'd\", 'his', 'what', 'so', 'm', 'here', 'not', 'will', \"won't\", 'some', 's', 'by', 'any', 'don', 'an', 'aren', \"wouldn't\", \"haven't\", 'do', 'in', 'off', 'wouldn', 'who', 'yours', 'which', 'other', 'didn', 'shouldn', 'is', 'did', \"you're\", 'having', 'between', \"needn't\", 'shan', 'their', 'down', \"weren't\", \"you'll\", 'was', \"didn't\", 'whom', 're', 'against', 'into', 'while', 'doing', 'isn', 'the', 've', 'has', 'to', 'doesn', \"hasn't\", 'he', 'couldn', 'they', \"it's\", 'haven', 'himself', 'our', 'can', 'nor', 'were', 'ourselves', 'herself', 'own', 'had', 'hadn', 'have', 'below', 'she', 'because', 'wasn', 'won', \"couldn't\", 'those', \"wasn't\", 'most', \"mustn't\", 'if', 'during', 'same', 'where', 'on', 'again', \"don't\", 'yourselves', 'ours', 'through', 'am', 'up', 'how', 'me', \"that'll\", 'why', 'these', 'does', 'from', \"you've\", 'are', \"she's\", 'once', 'its', 'been', 'than', 'each', \"doesn't\", 'too', \"should've\", 'about', 'but', 'itself', 'be', 'until', 'hers', 'more', 't', \"shan't\", 'few', 'a', 'then', 'that', 'd', 'with', 'above', 'ain', 'all', 'you', \"mightn't\", 'needn', \"shouldn't\", 'him', 'mustn', 'and', 'o', 'such', 'mightn', 'just', 'this', 'at', 'now', \"isn't\", 'out', 'before', 'both', 'ma', 'my', 'her', \"aren't\", 'weren', 'further', 'as', 'for', 'theirs', 'no'}\n"
   ]
  },
  {
   "cell_type": "code",
   "execution_count": 13,
   "metadata": {},
   "outputs": [],
   "source": [
    "compile_patterns = lambda patterns: [(re.compile(pattern), repl) for pattern, repl in patterns]\n",
    "\n",
    "class PreprocessDescription(object):\n",
    "    def __init__(self, lemmatizer_params, tokenizer_params):\n",
    "        self.lemmatizer = stem.PorterStemmer(**lemmatizer_params)\n",
    "        \n",
    "        junk_chars_regex=r'[^a-zA-Z0-9\\u0621-\\u06CC\\u0698\\u067E\\u0686\\u06AF \\u200c]'\n",
    "        url_regex = r\"\"\"(?i)\\b((?:[a-z][\\w-]+:(?:/{1,3}|[a-z0-9%])|www\\d{0,3}[.]|[a-z0-9.\\-]+[.][a-z]{2,4}/)(?:[^\\s()<>]+|\\(([^\\s()<>]+|(\\([^\\s()<>]+\\)))*\\))+(?:\\(([^\\s()<>]+|(\\([^\\s()<>]+\\)))*\\)|[^\\s`!()\\[\\]{};:\\'\\\".,<>?«»“”‘’]))\"\"\"\n",
    "        RFC_5322_COMPLIANT_EMAIL_REGEX = r\"(^[a-zA-Z0-9_.+-]+@[a-zA-Z0-9-]+\\.[a-zA-Z0-9-.]+$)\"\n",
    "        \n",
    "        remove_url=(url_regex, ' ')\n",
    "        remove_email=(RFC_5322_COMPLIANT_EMAIL_REGEX, ' ')\n",
    "        remove_junk_characters=(junk_chars_regex, ' ')\n",
    "        self.compiled_patterns_before = compile_patterns([remove_url,remove_email])\n",
    "        self.compiled_patterns_after = compile_patterns([remove_junk_characters])\n",
    "        self.stopwords=stopw\n",
    "        \n",
    "    def preprocess(self, text):\n",
    "        # html parser\n",
    "        soup = BeautifulSoup(text, 'html.parser')\n",
    "        for br in soup.find_all(\"br\"):\n",
    "            br.replace_with(\"\\n \")\n",
    "        text = soup.getText()\n",
    "        text = text.lower()\n",
    "        for pattern, repl in self.compiled_patterns_before:\n",
    "            text = pattern.sub(repl, text)\n",
    "        text = re.sub(r'[\\u200c\\s]*\\s[\\s\\u200c]*', ' ', text)\n",
    "        text = re.sub(r'[\\u200c]+', '\\u200c', text)\n",
    "        \n",
    "        for pattern, repl in self.compiled_patterns_after:\n",
    "            text = pattern.sub(repl, text)\n",
    "            \n",
    "        ## tokenized_words\n",
    "        tokenized_words = word_tokenize(text)\n",
    "        ## lemmatized_data\n",
    "        lemmatized_words = [self.lemmatizer.stem(word) for word in tokenized_words]\n",
    "        lemmatized_witout_stopwords = [word for word in lemmatized_words if word not in self.stopwords]\n",
    "        return lemmatized_witout_stopwords"
   ]
  },
  {
   "cell_type": "code",
   "execution_count": 14,
   "metadata": {},
   "outputs": [],
   "source": [
    "preprocessDesc = PreprocessDescription(lemmatizer_params={},tokenizer_params={})\n"
   ]
  },
  {
   "cell_type": "code",
   "execution_count": 15,
   "metadata": {},
   "outputs": [
    {
     "name": "stdout",
     "output_type": "stream",
     "text": [
      "2209.7088906764984\n"
     ]
    }
   ],
   "source": [
    "import time\n",
    "start = time.time()\n",
    "preprocessed_text = []\n",
    "\n",
    "for index, row in df_clean.iterrows():\n",
    "    res = preprocessDesc.preprocess(row['abstract'])\n",
    "    preprocessed_text.append(\" \".join(res))\n",
    "    \n",
    "df_clean['preprocessed_abstract']=preprocessed_text\n",
    "print(time.time() - start)\n"
   ]
  },
  {
   "cell_type": "code",
   "execution_count": 16,
   "metadata": {},
   "outputs": [
    {
     "data": {
      "text/html": [
       "<div>\n",
       "<style scoped>\n",
       "    .dataframe tbody tr th:only-of-type {\n",
       "        vertical-align: middle;\n",
       "    }\n",
       "\n",
       "    .dataframe tbody tr th {\n",
       "        vertical-align: top;\n",
       "    }\n",
       "\n",
       "    .dataframe thead th {\n",
       "        text-align: right;\n",
       "    }\n",
       "</style>\n",
       "<table border=\"1\" class=\"dataframe\">\n",
       "  <thead>\n",
       "    <tr style=\"text-align: right;\">\n",
       "      <th></th>\n",
       "      <th>abstract</th>\n",
       "      <th>sub_cat</th>\n",
       "      <th>preprocessed_abstract</th>\n",
       "    </tr>\n",
       "  </thead>\n",
       "  <tbody>\n",
       "    <tr>\n",
       "      <th>0</th>\n",
       "      <td>A wildland fire model based on semi-empirica...</td>\n",
       "      <td>[physics, cs]</td>\n",
       "      <td>wildland fire model base semi empir relat spre...</td>\n",
       "    </tr>\n",
       "    <tr>\n",
       "      <th>1</th>\n",
       "      <td>We show that in the Higgs model leading to a...</td>\n",
       "      <td>[hep-ph]</td>\n",
       "      <td>show higg model lead slightli massiv photon on...</td>\n",
       "    </tr>\n",
       "    <tr>\n",
       "      <th>2</th>\n",
       "      <td>We present an ab-initio approach for grand c...</td>\n",
       "      <td>[cond-mat, math-ph, math, quant-ph]</td>\n",
       "      <td>present ab initio approach grand canon ensembl...</td>\n",
       "    </tr>\n",
       "    <tr>\n",
       "      <th>3</th>\n",
       "      <td>We have revised the SWIRE Photometric Redshi...</td>\n",
       "      <td>[astro-ph]</td>\n",
       "      <td>revis swire photometr redshift catalogu take a...</td>\n",
       "    </tr>\n",
       "    <tr>\n",
       "      <th>4</th>\n",
       "      <td>A magnetization-induced rotation in the thir...</td>\n",
       "      <td>[cond-mat, cond-mat]</td>\n",
       "      <td>magnet induc rotat third order nonlinear optic...</td>\n",
       "    </tr>\n",
       "    <tr>\n",
       "      <th>...</th>\n",
       "      <td>...</td>\n",
       "      <td>...</td>\n",
       "      <td>...</td>\n",
       "    </tr>\n",
       "    <tr>\n",
       "      <th>386290</th>\n",
       "      <td>Electric-field effect control of two-dimensi...</td>\n",
       "      <td>[cond-mat]</td>\n",
       "      <td>electr field effect control two dimension elec...</td>\n",
       "    </tr>\n",
       "    <tr>\n",
       "      <th>386291</th>\n",
       "      <td>In this study we report detailed observation...</td>\n",
       "      <td>[astro-ph]</td>\n",
       "      <td>thi studi report detail observ magnet environ ...</td>\n",
       "    </tr>\n",
       "    <tr>\n",
       "      <th>386292</th>\n",
       "      <td>Cross-frequency coupling (CFC) is thought to...</td>\n",
       "      <td>[q-bio, nlin]</td>\n",
       "      <td>cross frequenc coupl cfc thought play import r...</td>\n",
       "    </tr>\n",
       "    <tr>\n",
       "      <th>386293</th>\n",
       "      <td>We investigate collective nonlinear dynamics...</td>\n",
       "      <td>[cond-mat, physics]</td>\n",
       "      <td>investig collect nonlinear dynam blue detun op...</td>\n",
       "    </tr>\n",
       "    <tr>\n",
       "      <th>386294</th>\n",
       "      <td>We propose a sequential minimal optimization...</td>\n",
       "      <td>[quant-ph, physics]</td>\n",
       "      <td>propos sequenti minim optim method quantum cla...</td>\n",
       "    </tr>\n",
       "  </tbody>\n",
       "</table>\n",
       "<p>386295 rows × 3 columns</p>\n",
       "</div>"
      ],
      "text/plain": [
       "                                                 abstract  \\\n",
       "0         A wildland fire model based on semi-empirica...   \n",
       "1         We show that in the Higgs model leading to a...   \n",
       "2         We present an ab-initio approach for grand c...   \n",
       "3         We have revised the SWIRE Photometric Redshi...   \n",
       "4         A magnetization-induced rotation in the thir...   \n",
       "...                                                   ...   \n",
       "386290    Electric-field effect control of two-dimensi...   \n",
       "386291    In this study we report detailed observation...   \n",
       "386292    Cross-frequency coupling (CFC) is thought to...   \n",
       "386293    We investigate collective nonlinear dynamics...   \n",
       "386294    We propose a sequential minimal optimization...   \n",
       "\n",
       "                                    sub_cat  \\\n",
       "0                             [physics, cs]   \n",
       "1                                  [hep-ph]   \n",
       "2       [cond-mat, math-ph, math, quant-ph]   \n",
       "3                                [astro-ph]   \n",
       "4                      [cond-mat, cond-mat]   \n",
       "...                                     ...   \n",
       "386290                           [cond-mat]   \n",
       "386291                           [astro-ph]   \n",
       "386292                        [q-bio, nlin]   \n",
       "386293                  [cond-mat, physics]   \n",
       "386294                  [quant-ph, physics]   \n",
       "\n",
       "                                    preprocessed_abstract  \n",
       "0       wildland fire model base semi empir relat spre...  \n",
       "1       show higg model lead slightli massiv photon on...  \n",
       "2       present ab initio approach grand canon ensembl...  \n",
       "3       revis swire photometr redshift catalogu take a...  \n",
       "4       magnet induc rotat third order nonlinear optic...  \n",
       "...                                                   ...  \n",
       "386290  electr field effect control two dimension elec...  \n",
       "386291  thi studi report detail observ magnet environ ...  \n",
       "386292  cross frequenc coupl cfc thought play import r...  \n",
       "386293  investig collect nonlinear dynam blue detun op...  \n",
       "386294  propos sequenti minim optim method quantum cla...  \n",
       "\n",
       "[386295 rows x 3 columns]"
      ]
     },
     "execution_count": 16,
     "metadata": {},
     "output_type": "execute_result"
    }
   ],
   "source": [
    "df_clean"
   ]
  },
  {
   "cell_type": "code",
   "execution_count": 17,
   "metadata": {},
   "outputs": [],
   "source": [
    "DIMENSION = 100\n",
    "words=[]\n",
    "for index,row in df_clean.iterrows():\n",
    "    words.append(row['preprocessed_abstract'].split())"
   ]
  },
  {
   "cell_type": "code",
   "execution_count": 18,
   "metadata": {},
   "outputs": [
    {
     "name": "stderr",
     "output_type": "stream",
     "text": [
      "unable to import 'smart_open.gcs', disabling that module\n"
     ]
    }
   ],
   "source": [
    "from gensim.models import Word2Vec\n"
   ]
  },
  {
   "cell_type": "code",
   "execution_count": 19,
   "metadata": {},
   "outputs": [],
   "source": [
    "w2v_model = Word2Vec(words,sg=1,iter=10,size=DIMENSION)\n"
   ]
  },
  {
   "cell_type": "code",
   "execution_count": 20,
   "metadata": {},
   "outputs": [
    {
     "data": {
      "text/html": [
       "<div>\n",
       "<style scoped>\n",
       "    .dataframe tbody tr th:only-of-type {\n",
       "        vertical-align: middle;\n",
       "    }\n",
       "\n",
       "    .dataframe tbody tr th {\n",
       "        vertical-align: top;\n",
       "    }\n",
       "\n",
       "    .dataframe thead th {\n",
       "        text-align: right;\n",
       "    }\n",
       "</style>\n",
       "<table border=\"1\" class=\"dataframe\">\n",
       "  <thead>\n",
       "    <tr style=\"text-align: right;\">\n",
       "      <th></th>\n",
       "      <th>abstract</th>\n",
       "      <th>sub_cat</th>\n",
       "      <th>preprocessed_abstract</th>\n",
       "      <th>w2v_vector</th>\n",
       "    </tr>\n",
       "  </thead>\n",
       "  <tbody>\n",
       "    <tr>\n",
       "      <th>0</th>\n",
       "      <td>A wildland fire model based on semi-empirica...</td>\n",
       "      <td>[physics, cs]</td>\n",
       "      <td>wildland fire model base semi empir relat spre...</td>\n",
       "      <td>[-12.933845438994467, -2.664905859157443, -12....</td>\n",
       "    </tr>\n",
       "    <tr>\n",
       "      <th>1</th>\n",
       "      <td>We show that in the Higgs model leading to a...</td>\n",
       "      <td>[hep-ph]</td>\n",
       "      <td>show higg model lead slightli massiv photon on...</td>\n",
       "      <td>[-5.791997896507382, 3.035850914893672, -1.795...</td>\n",
       "    </tr>\n",
       "    <tr>\n",
       "      <th>2</th>\n",
       "      <td>We present an ab-initio approach for grand c...</td>\n",
       "      <td>[cond-mat, math-ph, math, quant-ph]</td>\n",
       "      <td>present ab initio approach grand canon ensembl...</td>\n",
       "      <td>[-11.386819799547084, 6.211032953578979, -12.3...</td>\n",
       "    </tr>\n",
       "    <tr>\n",
       "      <th>3</th>\n",
       "      <td>We have revised the SWIRE Photometric Redshi...</td>\n",
       "      <td>[astro-ph]</td>\n",
       "      <td>revis swire photometr redshift catalogu take a...</td>\n",
       "      <td>[-14.372621327638626, -8.768086792901158, -15....</td>\n",
       "    </tr>\n",
       "    <tr>\n",
       "      <th>4</th>\n",
       "      <td>A magnetization-induced rotation in the thir...</td>\n",
       "      <td>[cond-mat, cond-mat]</td>\n",
       "      <td>magnet induc rotat third order nonlinear optic...</td>\n",
       "      <td>[-1.429336885921657, 3.0959001891314983, -5.22...</td>\n",
       "    </tr>\n",
       "  </tbody>\n",
       "</table>\n",
       "</div>"
      ],
      "text/plain": [
       "                                            abstract  \\\n",
       "0    A wildland fire model based on semi-empirica...   \n",
       "1    We show that in the Higgs model leading to a...   \n",
       "2    We present an ab-initio approach for grand c...   \n",
       "3    We have revised the SWIRE Photometric Redshi...   \n",
       "4    A magnetization-induced rotation in the thir...   \n",
       "\n",
       "                               sub_cat  \\\n",
       "0                        [physics, cs]   \n",
       "1                             [hep-ph]   \n",
       "2  [cond-mat, math-ph, math, quant-ph]   \n",
       "3                           [astro-ph]   \n",
       "4                 [cond-mat, cond-mat]   \n",
       "\n",
       "                               preprocessed_abstract  \\\n",
       "0  wildland fire model base semi empir relat spre...   \n",
       "1  show higg model lead slightli massiv photon on...   \n",
       "2  present ab initio approach grand canon ensembl...   \n",
       "3  revis swire photometr redshift catalogu take a...   \n",
       "4  magnet induc rotat third order nonlinear optic...   \n",
       "\n",
       "                                          w2v_vector  \n",
       "0  [-12.933845438994467, -2.664905859157443, -12....  \n",
       "1  [-5.791997896507382, 3.035850914893672, -1.795...  \n",
       "2  [-11.386819799547084, 6.211032953578979, -12.3...  \n",
       "3  [-14.372621327638626, -8.768086792901158, -15....  \n",
       "4  [-1.429336885921657, 3.0959001891314983, -5.22...  "
      ]
     },
     "execution_count": 20,
     "metadata": {},
     "output_type": "execute_result"
    }
   ],
   "source": [
    "df_clean['w2v_vector'] = pd.Series(np.zeros((df_clean.shape[0])), index=df_clean.index)\n",
    "b=[]\n",
    "\n",
    "for index, row in df_clean.iterrows():\n",
    "    a=np.zeros(DIMENSION)\n",
    "    for word in row['preprocessed_abstract'].split():\n",
    "        try:\n",
    "            a = a  + w2v_model.wv[word]\n",
    "        except:\n",
    "            pass\n",
    "    b.append(a)\n",
    "\n",
    "df_clean['w2v_vector']=b\n",
    "df_clean.head()"
   ]
  },
  {
   "cell_type": "code",
   "execution_count": 242,
   "metadata": {},
   "outputs": [],
   "source": [
    "sub_list=[]\n",
    "for i in df_clean['sub_cat']:\n",
    "    sub_list.append(i[0])"
   ]
  },
  {
   "cell_type": "code",
   "execution_count": 251,
   "metadata": {},
   "outputs": [],
   "source": [
    "df_clean['clean_cat']=sub_list"
   ]
  },
  {
   "cell_type": "markdown",
   "metadata": {},
   "source": [
    "زیر شاخه هر چکیده را مشخص میکنیم"
   ]
  },
  {
   "cell_type": "code",
   "execution_count": 252,
   "metadata": {},
   "outputs": [
    {
     "data": {
      "text/html": [
       "<div>\n",
       "<style scoped>\n",
       "    .dataframe tbody tr th:only-of-type {\n",
       "        vertical-align: middle;\n",
       "    }\n",
       "\n",
       "    .dataframe tbody tr th {\n",
       "        vertical-align: top;\n",
       "    }\n",
       "\n",
       "    .dataframe thead th {\n",
       "        text-align: right;\n",
       "    }\n",
       "</style>\n",
       "<table border=\"1\" class=\"dataframe\">\n",
       "  <thead>\n",
       "    <tr style=\"text-align: right;\">\n",
       "      <th></th>\n",
       "      <th>abstract</th>\n",
       "      <th>sub_cat</th>\n",
       "      <th>preprocessed_abstract</th>\n",
       "      <th>w2v_vector</th>\n",
       "      <th>clean_cat</th>\n",
       "    </tr>\n",
       "  </thead>\n",
       "  <tbody>\n",
       "    <tr>\n",
       "      <th>0</th>\n",
       "      <td>A wildland fire model based on semi-empirica...</td>\n",
       "      <td>[physics, cs]</td>\n",
       "      <td>wildland fire model base semi empir relat spre...</td>\n",
       "      <td>[-12.933845438994467, -2.664905859157443, -12....</td>\n",
       "      <td>physics</td>\n",
       "    </tr>\n",
       "    <tr>\n",
       "      <th>1</th>\n",
       "      <td>We show that in the Higgs model leading to a...</td>\n",
       "      <td>[hep-ph]</td>\n",
       "      <td>show higg model lead slightli massiv photon on...</td>\n",
       "      <td>[-5.791997896507382, 3.035850914893672, -1.795...</td>\n",
       "      <td>hep-ph</td>\n",
       "    </tr>\n",
       "    <tr>\n",
       "      <th>2</th>\n",
       "      <td>We present an ab-initio approach for grand c...</td>\n",
       "      <td>[cond-mat, math-ph, math, quant-ph]</td>\n",
       "      <td>present ab initio approach grand canon ensembl...</td>\n",
       "      <td>[-11.386819799547084, 6.211032953578979, -12.3...</td>\n",
       "      <td>cond-mat</td>\n",
       "    </tr>\n",
       "    <tr>\n",
       "      <th>3</th>\n",
       "      <td>We have revised the SWIRE Photometric Redshi...</td>\n",
       "      <td>[astro-ph]</td>\n",
       "      <td>revis swire photometr redshift catalogu take a...</td>\n",
       "      <td>[-14.372621327638626, -8.768086792901158, -15....</td>\n",
       "      <td>astro-ph</td>\n",
       "    </tr>\n",
       "    <tr>\n",
       "      <th>4</th>\n",
       "      <td>A magnetization-induced rotation in the thir...</td>\n",
       "      <td>[cond-mat, cond-mat]</td>\n",
       "      <td>magnet induc rotat third order nonlinear optic...</td>\n",
       "      <td>[-1.429336885921657, 3.0959001891314983, -5.22...</td>\n",
       "      <td>cond-mat</td>\n",
       "    </tr>\n",
       "    <tr>\n",
       "      <th>...</th>\n",
       "      <td>...</td>\n",
       "      <td>...</td>\n",
       "      <td>...</td>\n",
       "      <td>...</td>\n",
       "      <td>...</td>\n",
       "    </tr>\n",
       "    <tr>\n",
       "      <th>386290</th>\n",
       "      <td>Electric-field effect control of two-dimensi...</td>\n",
       "      <td>[cond-mat]</td>\n",
       "      <td>electr field effect control two dimension elec...</td>\n",
       "      <td>[-23.371896388474852, 7.352063544996781, -24.0...</td>\n",
       "      <td>cond-mat</td>\n",
       "    </tr>\n",
       "    <tr>\n",
       "      <th>386291</th>\n",
       "      <td>In this study we report detailed observation...</td>\n",
       "      <td>[astro-ph]</td>\n",
       "      <td>thi studi report detail observ magnet environ ...</td>\n",
       "      <td>[-33.77909780992195, 23.532734685577452, -22.7...</td>\n",
       "      <td>astro-ph</td>\n",
       "    </tr>\n",
       "    <tr>\n",
       "      <th>386292</th>\n",
       "      <td>Cross-frequency coupling (CFC) is thought to...</td>\n",
       "      <td>[q-bio, nlin]</td>\n",
       "      <td>cross frequenc coupl cfc thought play import r...</td>\n",
       "      <td>[-58.265251450939104, 3.4988090652041137, -27....</td>\n",
       "      <td>q-bio</td>\n",
       "    </tr>\n",
       "    <tr>\n",
       "      <th>386293</th>\n",
       "      <td>We investigate collective nonlinear dynamics...</td>\n",
       "      <td>[cond-mat, physics]</td>\n",
       "      <td>investig collect nonlinear dynam blue detun op...</td>\n",
       "      <td>[-21.665655981225427, 5.277025977149606, -0.79...</td>\n",
       "      <td>cond-mat</td>\n",
       "    </tr>\n",
       "    <tr>\n",
       "      <th>386294</th>\n",
       "      <td>We propose a sequential minimal optimization...</td>\n",
       "      <td>[quant-ph, physics]</td>\n",
       "      <td>propos sequenti minim optim method quantum cla...</td>\n",
       "      <td>[-17.437322665937245, -2.1857045772485435, -26...</td>\n",
       "      <td>quant-ph</td>\n",
       "    </tr>\n",
       "  </tbody>\n",
       "</table>\n",
       "<p>386295 rows × 5 columns</p>\n",
       "</div>"
      ],
      "text/plain": [
       "                                                 abstract  \\\n",
       "0         A wildland fire model based on semi-empirica...   \n",
       "1         We show that in the Higgs model leading to a...   \n",
       "2         We present an ab-initio approach for grand c...   \n",
       "3         We have revised the SWIRE Photometric Redshi...   \n",
       "4         A magnetization-induced rotation in the thir...   \n",
       "...                                                   ...   \n",
       "386290    Electric-field effect control of two-dimensi...   \n",
       "386291    In this study we report detailed observation...   \n",
       "386292    Cross-frequency coupling (CFC) is thought to...   \n",
       "386293    We investigate collective nonlinear dynamics...   \n",
       "386294    We propose a sequential minimal optimization...   \n",
       "\n",
       "                                    sub_cat  \\\n",
       "0                             [physics, cs]   \n",
       "1                                  [hep-ph]   \n",
       "2       [cond-mat, math-ph, math, quant-ph]   \n",
       "3                                [astro-ph]   \n",
       "4                      [cond-mat, cond-mat]   \n",
       "...                                     ...   \n",
       "386290                           [cond-mat]   \n",
       "386291                           [astro-ph]   \n",
       "386292                        [q-bio, nlin]   \n",
       "386293                  [cond-mat, physics]   \n",
       "386294                  [quant-ph, physics]   \n",
       "\n",
       "                                    preprocessed_abstract  \\\n",
       "0       wildland fire model base semi empir relat spre...   \n",
       "1       show higg model lead slightli massiv photon on...   \n",
       "2       present ab initio approach grand canon ensembl...   \n",
       "3       revis swire photometr redshift catalogu take a...   \n",
       "4       magnet induc rotat third order nonlinear optic...   \n",
       "...                                                   ...   \n",
       "386290  electr field effect control two dimension elec...   \n",
       "386291  thi studi report detail observ magnet environ ...   \n",
       "386292  cross frequenc coupl cfc thought play import r...   \n",
       "386293  investig collect nonlinear dynam blue detun op...   \n",
       "386294  propos sequenti minim optim method quantum cla...   \n",
       "\n",
       "                                               w2v_vector clean_cat  \n",
       "0       [-12.933845438994467, -2.664905859157443, -12....   physics  \n",
       "1       [-5.791997896507382, 3.035850914893672, -1.795...    hep-ph  \n",
       "2       [-11.386819799547084, 6.211032953578979, -12.3...  cond-mat  \n",
       "3       [-14.372621327638626, -8.768086792901158, -15....  astro-ph  \n",
       "4       [-1.429336885921657, 3.0959001891314983, -5.22...  cond-mat  \n",
       "...                                                   ...       ...  \n",
       "386290  [-23.371896388474852, 7.352063544996781, -24.0...  cond-mat  \n",
       "386291  [-33.77909780992195, 23.532734685577452, -22.7...  astro-ph  \n",
       "386292  [-58.265251450939104, 3.4988090652041137, -27....     q-bio  \n",
       "386293  [-21.665655981225427, 5.277025977149606, -0.79...  cond-mat  \n",
       "386294  [-17.437322665937245, -2.1857045772485435, -26...  quant-ph  \n",
       "\n",
       "[386295 rows x 5 columns]"
      ]
     },
     "execution_count": 252,
     "metadata": {},
     "output_type": "execute_result"
    }
   ],
   "source": [
    "df_clean"
   ]
  },
  {
   "cell_type": "code",
   "execution_count": 253,
   "metadata": {},
   "outputs": [
    {
     "data": {
      "text/plain": [
       "[<matplotlib.lines.Line2D at 0x27892cc75f8>]"
      ]
     },
     "execution_count": 253,
     "metadata": {},
     "output_type": "execute_result"
    },
    {
     "data": {
      "image/png": "[encoded data removed]",
      "text/plain": [
       "<Figure size 432x288 with 1 Axes>"
      ]
     },
     "metadata": {},
     "output_type": "display_data"
    }
   ],
   "source": [
    "import matplotlib.pyplot as plt\n",
    "df_cat_count = pd.DataFrame(df_clean['clean_cat'].value_counts())\n",
    "df_cat_count.reset_index(inplace=True)\n",
    "df_cat_count.columns = ['clean_cat','cat_counts']\n",
    "df_cat_count\n",
    "plt.plot(df_cat_count['clean_cat'],df_cat_count['cat_counts'])"
   ]
  },
  {
   "cell_type": "markdown",
   "metadata": {},
   "source": [
    "نمودار نشان دهنده تعداد چکیده در هر یک از زیر شاخه ها(زیر شاخه هایی که تعداد چکیده آن ها محدود است را حذف میکنیم)"
   ]
  },
  {
   "cell_type": "code",
   "execution_count": 254,
   "metadata": {},
   "outputs": [
    {
     "data": {
      "text/html": [
       "<div>\n",
       "<style scoped>\n",
       "    .dataframe tbody tr th:only-of-type {\n",
       "        vertical-align: middle;\n",
       "    }\n",
       "\n",
       "    .dataframe tbody tr th {\n",
       "        vertical-align: top;\n",
       "    }\n",
       "\n",
       "    .dataframe thead th {\n",
       "        text-align: right;\n",
       "    }\n",
       "</style>\n",
       "<table border=\"1\" class=\"dataframe\">\n",
       "  <thead>\n",
       "    <tr style=\"text-align: right;\">\n",
       "      <th></th>\n",
       "      <th>abstract</th>\n",
       "      <th>sub_cat</th>\n",
       "      <th>preprocessed_abstract</th>\n",
       "      <th>w2v_vector</th>\n",
       "      <th>clean_cat</th>\n",
       "      <th>cat_counts</th>\n",
       "    </tr>\n",
       "  </thead>\n",
       "  <tbody>\n",
       "    <tr>\n",
       "      <th>0</th>\n",
       "      <td>A wildland fire model based on semi-empirica...</td>\n",
       "      <td>[physics, cs]</td>\n",
       "      <td>wildland fire model base semi empir relat spre...</td>\n",
       "      <td>[-12.933845438994467, -2.664905859157443, -12....</td>\n",
       "      <td>physics</td>\n",
       "      <td>60610</td>\n",
       "    </tr>\n",
       "    <tr>\n",
       "      <th>1</th>\n",
       "      <td>We present few-femtosecond shadowgraphic sna...</td>\n",
       "      <td>[physics, physics, physics]</td>\n",
       "      <td>present femtosecond shadowgraph snapshot taken...</td>\n",
       "      <td>[-9.9330103546381, 10.613403514958918, -7.4501...</td>\n",
       "      <td>physics</td>\n",
       "      <td>60610</td>\n",
       "    </tr>\n",
       "    <tr>\n",
       "      <th>2</th>\n",
       "      <td>It is important to identify and reduce the g...</td>\n",
       "      <td>[physics, nucl-ex]</td>\n",
       "      <td>import identifi reduc gamma radiat signific so...</td>\n",
       "      <td>[-12.62926208274439, -0.7040283367969096, -12....</td>\n",
       "      <td>physics</td>\n",
       "      <td>60610</td>\n",
       "    </tr>\n",
       "    <tr>\n",
       "      <th>3</th>\n",
       "      <td>We propose a simple stochastic model describ...</td>\n",
       "      <td>[physics, physics]</td>\n",
       "      <td>propos simpl stochast model describ posit depe...</td>\n",
       "      <td>[-9.197438054834493, 0.4336396874859929, -7.67...</td>\n",
       "      <td>physics</td>\n",
       "      <td>60610</td>\n",
       "    </tr>\n",
       "    <tr>\n",
       "      <th>4</th>\n",
       "      <td>Rayleigh scattering poses an intrinsic limit...</td>\n",
       "      <td>[physics, hep-ex, physics]</td>\n",
       "      <td>rayleigh scatter pose intrins limit transpar o...</td>\n",
       "      <td>[-5.075774980708957, -5.866810740932124, -11.9...</td>\n",
       "      <td>physics</td>\n",
       "      <td>60610</td>\n",
       "    </tr>\n",
       "    <tr>\n",
       "      <th>...</th>\n",
       "      <td>...</td>\n",
       "      <td>...</td>\n",
       "      <td>...</td>\n",
       "      <td>...</td>\n",
       "      <td>...</td>\n",
       "      <td>...</td>\n",
       "    </tr>\n",
       "    <tr>\n",
       "      <th>386290</th>\n",
       "      <td>Lattice current algebras were introduced as ...</td>\n",
       "      <td>[q-alg, hep-th, math]</td>\n",
       "      <td>lattic current algebra introduc regular left r...</td>\n",
       "      <td>[-7.82639643130824, -4.368559826165438, -8.206...</td>\n",
       "      <td>q-alg</td>\n",
       "      <td>5</td>\n",
       "    </tr>\n",
       "    <tr>\n",
       "      <th>386291</th>\n",
       "      <td>We prove that the scalar and $2\\times 2$ mat...</td>\n",
       "      <td>[q-alg, math-ph, math, math]</td>\n",
       "      <td>prove scalar 2 time 2 matrix differenti oper p...</td>\n",
       "      <td>[-3.932812558952719, -5.128147911280394, -9.02...</td>\n",
       "      <td>q-alg</td>\n",
       "      <td>5</td>\n",
       "    </tr>\n",
       "    <tr>\n",
       "      <th>386292</th>\n",
       "      <td>We study representation theory of Drinfel'd ...</td>\n",
       "      <td>[q-alg, cond-mat, hep-th, math-ph, math, math]</td>\n",
       "      <td>studi represent theori drinfel twist term call...</td>\n",
       "      <td>[-5.215453919256106, -6.334656922612339, -7.93...</td>\n",
       "      <td>q-alg</td>\n",
       "      <td>5</td>\n",
       "    </tr>\n",
       "    <tr>\n",
       "      <th>386293</th>\n",
       "      <td>Multiple-integral representations of the (sk...</td>\n",
       "      <td>[q-alg, hep-th, math]</td>\n",
       "      <td>multipl integr represent skew macdonald symmet...</td>\n",
       "      <td>[-0.6354087481740862, -1.6121741719543934, -2....</td>\n",
       "      <td>q-alg</td>\n",
       "      <td>5</td>\n",
       "    </tr>\n",
       "    <tr>\n",
       "      <th>386294</th>\n",
       "      <td>The non-linear microwave surface impedance o...</td>\n",
       "      <td>[supr-con, cond-mat]</td>\n",
       "      <td>non linear microwav surfac imped pattern ybco ...</td>\n",
       "      <td>[-13.258336601778865, 2.7157956110313535, -6.1...</td>\n",
       "      <td>supr-con</td>\n",
       "      <td>1</td>\n",
       "    </tr>\n",
       "  </tbody>\n",
       "</table>\n",
       "<p>386295 rows × 6 columns</p>\n",
       "</div>"
      ],
      "text/plain": [
       "                                                 abstract  \\\n",
       "0         A wildland fire model based on semi-empirica...   \n",
       "1         We present few-femtosecond shadowgraphic sna...   \n",
       "2         It is important to identify and reduce the g...   \n",
       "3         We propose a simple stochastic model describ...   \n",
       "4         Rayleigh scattering poses an intrinsic limit...   \n",
       "...                                                   ...   \n",
       "386290    Lattice current algebras were introduced as ...   \n",
       "386291    We prove that the scalar and $2\\times 2$ mat...   \n",
       "386292    We study representation theory of Drinfel'd ...   \n",
       "386293    Multiple-integral representations of the (sk...   \n",
       "386294    The non-linear microwave surface impedance o...   \n",
       "\n",
       "                                               sub_cat  \\\n",
       "0                                        [physics, cs]   \n",
       "1                          [physics, physics, physics]   \n",
       "2                                   [physics, nucl-ex]   \n",
       "3                                   [physics, physics]   \n",
       "4                           [physics, hep-ex, physics]   \n",
       "...                                                ...   \n",
       "386290                           [q-alg, hep-th, math]   \n",
       "386291                    [q-alg, math-ph, math, math]   \n",
       "386292  [q-alg, cond-mat, hep-th, math-ph, math, math]   \n",
       "386293                           [q-alg, hep-th, math]   \n",
       "386294                            [supr-con, cond-mat]   \n",
       "\n",
       "                                    preprocessed_abstract  \\\n",
       "0       wildland fire model base semi empir relat spre...   \n",
       "1       present femtosecond shadowgraph snapshot taken...   \n",
       "2       import identifi reduc gamma radiat signific so...   \n",
       "3       propos simpl stochast model describ posit depe...   \n",
       "4       rayleigh scatter pose intrins limit transpar o...   \n",
       "...                                                   ...   \n",
       "386290  lattic current algebra introduc regular left r...   \n",
       "386291  prove scalar 2 time 2 matrix differenti oper p...   \n",
       "386292  studi represent theori drinfel twist term call...   \n",
       "386293  multipl integr represent skew macdonald symmet...   \n",
       "386294  non linear microwav surfac imped pattern ybco ...   \n",
       "\n",
       "                                               w2v_vector clean_cat  \\\n",
       "0       [-12.933845438994467, -2.664905859157443, -12....   physics   \n",
       "1       [-9.9330103546381, 10.613403514958918, -7.4501...   physics   \n",
       "2       [-12.62926208274439, -0.7040283367969096, -12....   physics   \n",
       "3       [-9.197438054834493, 0.4336396874859929, -7.67...   physics   \n",
       "4       [-5.075774980708957, -5.866810740932124, -11.9...   physics   \n",
       "...                                                   ...       ...   \n",
       "386290  [-7.82639643130824, -4.368559826165438, -8.206...     q-alg   \n",
       "386291  [-3.932812558952719, -5.128147911280394, -9.02...     q-alg   \n",
       "386292  [-5.215453919256106, -6.334656922612339, -7.93...     q-alg   \n",
       "386293  [-0.6354087481740862, -1.6121741719543934, -2....     q-alg   \n",
       "386294  [-13.258336601778865, 2.7157956110313535, -6.1...  supr-con   \n",
       "\n",
       "        cat_counts  \n",
       "0            60610  \n",
       "1            60610  \n",
       "2            60610  \n",
       "3            60610  \n",
       "4            60610  \n",
       "...            ...  \n",
       "386290           5  \n",
       "386291           5  \n",
       "386292           5  \n",
       "386293           5  \n",
       "386294           1  \n",
       "\n",
       "[386295 rows x 6 columns]"
      ]
     },
     "execution_count": 254,
     "metadata": {},
     "output_type": "execute_result"
    }
   ],
   "source": [
    "Data = df_clean.merge(df_cat_count,on='clean_cat')\n",
    "Data"
   ]
  },
  {
   "cell_type": "code",
   "execution_count": 255,
   "metadata": {},
   "outputs": [
    {
     "data": {
      "text/html": [
       "<div>\n",
       "<style scoped>\n",
       "    .dataframe tbody tr th:only-of-type {\n",
       "        vertical-align: middle;\n",
       "    }\n",
       "\n",
       "    .dataframe tbody tr th {\n",
       "        vertical-align: top;\n",
       "    }\n",
       "\n",
       "    .dataframe thead th {\n",
       "        text-align: right;\n",
       "    }\n",
       "</style>\n",
       "<table border=\"1\" class=\"dataframe\">\n",
       "  <thead>\n",
       "    <tr style=\"text-align: right;\">\n",
       "      <th></th>\n",
       "      <th>abstract</th>\n",
       "      <th>sub_cat</th>\n",
       "      <th>preprocessed_abstract</th>\n",
       "      <th>w2v_vector</th>\n",
       "      <th>clean_cat</th>\n",
       "      <th>cat_counts</th>\n",
       "    </tr>\n",
       "  </thead>\n",
       "  <tbody>\n",
       "    <tr>\n",
       "      <th>0</th>\n",
       "      <td>A wildland fire model based on semi-empirica...</td>\n",
       "      <td>[physics, cs]</td>\n",
       "      <td>wildland fire model base semi empir relat spre...</td>\n",
       "      <td>[-12.933845438994467, -2.664905859157443, -12....</td>\n",
       "      <td>physics</td>\n",
       "      <td>60610</td>\n",
       "    </tr>\n",
       "    <tr>\n",
       "      <th>1</th>\n",
       "      <td>We present few-femtosecond shadowgraphic sna...</td>\n",
       "      <td>[physics, physics, physics]</td>\n",
       "      <td>present femtosecond shadowgraph snapshot taken...</td>\n",
       "      <td>[-9.9330103546381, 10.613403514958918, -7.4501...</td>\n",
       "      <td>physics</td>\n",
       "      <td>60610</td>\n",
       "    </tr>\n",
       "    <tr>\n",
       "      <th>2</th>\n",
       "      <td>It is important to identify and reduce the g...</td>\n",
       "      <td>[physics, nucl-ex]</td>\n",
       "      <td>import identifi reduc gamma radiat signific so...</td>\n",
       "      <td>[-12.62926208274439, -0.7040283367969096, -12....</td>\n",
       "      <td>physics</td>\n",
       "      <td>60610</td>\n",
       "    </tr>\n",
       "    <tr>\n",
       "      <th>3</th>\n",
       "      <td>We propose a simple stochastic model describ...</td>\n",
       "      <td>[physics, physics]</td>\n",
       "      <td>propos simpl stochast model describ posit depe...</td>\n",
       "      <td>[-9.197438054834493, 0.4336396874859929, -7.67...</td>\n",
       "      <td>physics</td>\n",
       "      <td>60610</td>\n",
       "    </tr>\n",
       "    <tr>\n",
       "      <th>4</th>\n",
       "      <td>Rayleigh scattering poses an intrinsic limit...</td>\n",
       "      <td>[physics, hep-ex, physics]</td>\n",
       "      <td>rayleigh scatter pose intrins limit transpar o...</td>\n",
       "      <td>[-5.075774980708957, -5.866810740932124, -11.9...</td>\n",
       "      <td>physics</td>\n",
       "      <td>60610</td>\n",
       "    </tr>\n",
       "    <tr>\n",
       "      <th>...</th>\n",
       "      <td>...</td>\n",
       "      <td>...</td>\n",
       "      <td>...</td>\n",
       "      <td>...</td>\n",
       "      <td>...</td>\n",
       "      <td>...</td>\n",
       "    </tr>\n",
       "    <tr>\n",
       "      <th>385015</th>\n",
       "      <td>Production of the (anti)hypertriton nuclei $...</td>\n",
       "      <td>[nucl-ex]</td>\n",
       "      <td>product anti hypertriton nuclei rm 3 lambda h ...</td>\n",
       "      <td>[-31.646826549898833, 9.503963796421885, -19.3...</td>\n",
       "      <td>nucl-ex</td>\n",
       "      <td>3231</td>\n",
       "    </tr>\n",
       "    <tr>\n",
       "      <th>385016</th>\n",
       "      <td>We report a new measurement of $D^0$-meson p...</td>\n",
       "      <td>[nucl-ex, hep-ex]</td>\n",
       "      <td>report new measur 0 meson product mid rapid 1 ...</td>\n",
       "      <td>[-36.35360133647919, 5.989517741807504, -34.90...</td>\n",
       "      <td>nucl-ex</td>\n",
       "      <td>3231</td>\n",
       "    </tr>\n",
       "    <tr>\n",
       "      <th>385017</th>\n",
       "      <td>The quark and gluon structure of the proton ...</td>\n",
       "      <td>[nucl-ex, nucl-th]</td>\n",
       "      <td>quark gluon structur proton ha intens experime...</td>\n",
       "      <td>[-17.224166378495283, 10.510868952376768, -16....</td>\n",
       "      <td>nucl-ex</td>\n",
       "      <td>3231</td>\n",
       "    </tr>\n",
       "    <tr>\n",
       "      <th>385018</th>\n",
       "      <td>Certain pear-shaped nuclei are expected to h...</td>\n",
       "      <td>[nucl-ex, physics]</td>\n",
       "      <td>certain pear shape nuclei expect enhanc sensit...</td>\n",
       "      <td>[-24.450021791039035, 8.706821842584759, -21.9...</td>\n",
       "      <td>nucl-ex</td>\n",
       "      <td>3231</td>\n",
       "    </tr>\n",
       "    <tr>\n",
       "      <th>385019</th>\n",
       "      <td>The tetraneutron has been drawing the attent...</td>\n",
       "      <td>[nucl-ex]</td>\n",
       "      <td>tetraneutron ha draw attent nuclear physic com...</td>\n",
       "      <td>[-3.6307931090705097, 3.9578566723503172, -3.1...</td>\n",
       "      <td>nucl-ex</td>\n",
       "      <td>3231</td>\n",
       "    </tr>\n",
       "  </tbody>\n",
       "</table>\n",
       "<p>384578 rows × 6 columns</p>\n",
       "</div>"
      ],
      "text/plain": [
       "                                                 abstract  \\\n",
       "0         A wildland fire model based on semi-empirica...   \n",
       "1         We present few-femtosecond shadowgraphic sna...   \n",
       "2         It is important to identify and reduce the g...   \n",
       "3         We propose a simple stochastic model describ...   \n",
       "4         Rayleigh scattering poses an intrinsic limit...   \n",
       "...                                                   ...   \n",
       "385015    Production of the (anti)hypertriton nuclei $...   \n",
       "385016    We report a new measurement of $D^0$-meson p...   \n",
       "385017    The quark and gluon structure of the proton ...   \n",
       "385018    Certain pear-shaped nuclei are expected to h...   \n",
       "385019    The tetraneutron has been drawing the attent...   \n",
       "\n",
       "                            sub_cat  \\\n",
       "0                     [physics, cs]   \n",
       "1       [physics, physics, physics]   \n",
       "2                [physics, nucl-ex]   \n",
       "3                [physics, physics]   \n",
       "4        [physics, hep-ex, physics]   \n",
       "...                             ...   \n",
       "385015                    [nucl-ex]   \n",
       "385016            [nucl-ex, hep-ex]   \n",
       "385017           [nucl-ex, nucl-th]   \n",
       "385018           [nucl-ex, physics]   \n",
       "385019                    [nucl-ex]   \n",
       "\n",
       "                                    preprocessed_abstract  \\\n",
       "0       wildland fire model base semi empir relat spre...   \n",
       "1       present femtosecond shadowgraph snapshot taken...   \n",
       "2       import identifi reduc gamma radiat signific so...   \n",
       "3       propos simpl stochast model describ posit depe...   \n",
       "4       rayleigh scatter pose intrins limit transpar o...   \n",
       "...                                                   ...   \n",
       "385015  product anti hypertriton nuclei rm 3 lambda h ...   \n",
       "385016  report new measur 0 meson product mid rapid 1 ...   \n",
       "385017  quark gluon structur proton ha intens experime...   \n",
       "385018  certain pear shape nuclei expect enhanc sensit...   \n",
       "385019  tetraneutron ha draw attent nuclear physic com...   \n",
       "\n",
       "                                               w2v_vector clean_cat  \\\n",
       "0       [-12.933845438994467, -2.664905859157443, -12....   physics   \n",
       "1       [-9.9330103546381, 10.613403514958918, -7.4501...   physics   \n",
       "2       [-12.62926208274439, -0.7040283367969096, -12....   physics   \n",
       "3       [-9.197438054834493, 0.4336396874859929, -7.67...   physics   \n",
       "4       [-5.075774980708957, -5.866810740932124, -11.9...   physics   \n",
       "...                                                   ...       ...   \n",
       "385015  [-31.646826549898833, 9.503963796421885, -19.3...   nucl-ex   \n",
       "385016  [-36.35360133647919, 5.989517741807504, -34.90...   nucl-ex   \n",
       "385017  [-17.224166378495283, 10.510868952376768, -16....   nucl-ex   \n",
       "385018  [-24.450021791039035, 8.706821842584759, -21.9...   nucl-ex   \n",
       "385019  [-3.6307931090705097, 3.9578566723503172, -3.1...   nucl-ex   \n",
       "\n",
       "        cat_counts  \n",
       "0            60610  \n",
       "1            60610  \n",
       "2            60610  \n",
       "3            60610  \n",
       "4            60610  \n",
       "...            ...  \n",
       "385015        3231  \n",
       "385016        3231  \n",
       "385017        3231  \n",
       "385018        3231  \n",
       "385019        3231  \n",
       "\n",
       "[384578 rows x 6 columns]"
      ]
     },
     "execution_count": 255,
     "metadata": {},
     "output_type": "execute_result"
    }
   ],
   "source": [
    "df_100=Data[Data.cat_counts>1000]\n",
    "df_100"
   ]
  },
  {
   "cell_type": "markdown",
   "metadata": {},
   "source": [
    "تعداد زیر شاخه های نهایی و تعداد چکیده در هر کدام از آن ها برای الگوریتم های کلسیفیکیشن "
   ]
  },
  {
   "cell_type": "code",
   "execution_count": 258,
   "metadata": {},
   "outputs": [
    {
     "data": {
      "text/html": [
       "<div>\n",
       "<style scoped>\n",
       "    .dataframe tbody tr th:only-of-type {\n",
       "        vertical-align: middle;\n",
       "    }\n",
       "\n",
       "    .dataframe tbody tr th {\n",
       "        vertical-align: top;\n",
       "    }\n",
       "\n",
       "    .dataframe thead th {\n",
       "        text-align: right;\n",
       "    }\n",
       "</style>\n",
       "<table border=\"1\" class=\"dataframe\">\n",
       "  <thead>\n",
       "    <tr style=\"text-align: right;\">\n",
       "      <th></th>\n",
       "      <th>clean_cat</th>\n",
       "      <th>cat_counts</th>\n",
       "    </tr>\n",
       "  </thead>\n",
       "  <tbody>\n",
       "    <tr>\n",
       "      <th>0</th>\n",
       "      <td>cond-mat</td>\n",
       "      <td>87697</td>\n",
       "    </tr>\n",
       "    <tr>\n",
       "      <th>1</th>\n",
       "      <td>astro-ph</td>\n",
       "      <td>80062</td>\n",
       "    </tr>\n",
       "    <tr>\n",
       "      <th>2</th>\n",
       "      <td>physics</td>\n",
       "      <td>60610</td>\n",
       "    </tr>\n",
       "    <tr>\n",
       "      <th>3</th>\n",
       "      <td>hep-ph</td>\n",
       "      <td>30510</td>\n",
       "    </tr>\n",
       "    <tr>\n",
       "      <th>4</th>\n",
       "      <td>quant-ph</td>\n",
       "      <td>30077</td>\n",
       "    </tr>\n",
       "    <tr>\n",
       "      <th>5</th>\n",
       "      <td>hep-th</td>\n",
       "      <td>23828</td>\n",
       "    </tr>\n",
       "    <tr>\n",
       "      <th>6</th>\n",
       "      <td>gr-qc</td>\n",
       "      <td>17422</td>\n",
       "    </tr>\n",
       "    <tr>\n",
       "      <th>7</th>\n",
       "      <td>math</td>\n",
       "      <td>10356</td>\n",
       "    </tr>\n",
       "    <tr>\n",
       "      <th>8</th>\n",
       "      <td>math-ph</td>\n",
       "      <td>10338</td>\n",
       "    </tr>\n",
       "    <tr>\n",
       "      <th>9</th>\n",
       "      <td>nucl-th</td>\n",
       "      <td>8220</td>\n",
       "    </tr>\n",
       "    <tr>\n",
       "      <th>10</th>\n",
       "      <td>hep-ex</td>\n",
       "      <td>6052</td>\n",
       "    </tr>\n",
       "    <tr>\n",
       "      <th>11</th>\n",
       "      <td>nlin</td>\n",
       "      <td>5238</td>\n",
       "    </tr>\n",
       "    <tr>\n",
       "      <th>12</th>\n",
       "      <td>cs</td>\n",
       "      <td>4652</td>\n",
       "    </tr>\n",
       "    <tr>\n",
       "      <th>13</th>\n",
       "      <td>hep-lat</td>\n",
       "      <td>3997</td>\n",
       "    </tr>\n",
       "    <tr>\n",
       "      <th>14</th>\n",
       "      <td>nucl-ex</td>\n",
       "      <td>3231</td>\n",
       "    </tr>\n",
       "    <tr>\n",
       "      <th>15</th>\n",
       "      <td>q-bio</td>\n",
       "      <td>2288</td>\n",
       "    </tr>\n",
       "  </tbody>\n",
       "</table>\n",
       "</div>"
      ],
      "text/plain": [
       "   clean_cat  cat_counts\n",
       "0   cond-mat       87697\n",
       "1   astro-ph       80062\n",
       "2    physics       60610\n",
       "3     hep-ph       30510\n",
       "4   quant-ph       30077\n",
       "5     hep-th       23828\n",
       "6      gr-qc       17422\n",
       "7       math       10356\n",
       "8    math-ph       10338\n",
       "9    nucl-th        8220\n",
       "10    hep-ex        6052\n",
       "11      nlin        5238\n",
       "12        cs        4652\n",
       "13   hep-lat        3997\n",
       "14   nucl-ex        3231\n",
       "15     q-bio        2288"
      ]
     },
     "execution_count": 258,
     "metadata": {},
     "output_type": "execute_result"
    }
   ],
   "source": [
    "df_cat_count = pd.DataFrame(df_100['clean_cat'].value_counts())\n",
    "df_cat_count.reset_index(inplace=True)\n",
    "df_cat_count.columns = ['clean_cat','cat_counts']\n",
    "df_cat_count"
   ]
  },
  {
   "cell_type": "code",
   "execution_count": 259,
   "metadata": {},
   "outputs": [],
   "source": [
    "from sklearn.preprocessing import LabelBinarizer\n"
   ]
  },
  {
   "cell_type": "code",
   "execution_count": 260,
   "metadata": {},
   "outputs": [],
   "source": [
    "y = LabelBinarizer().fit_transform(df_100.clean_cat)\n"
   ]
  },
  {
   "cell_type": "code",
   "execution_count": 261,
   "metadata": {},
   "outputs": [],
   "source": [
    "list_=[]\n",
    "for c in y:\n",
    "    list_.append(c)"
   ]
  },
  {
   "cell_type": "markdown",
   "metadata": {},
   "source": [
    "حال زیر شاخه ها را تبدیل به بردار کرده و سپس به عدد تبدیل میکنیم"
   ]
  },
  {
   "cell_type": "code",
   "execution_count": 263,
   "metadata": {},
   "outputs": [
    {
     "data": {
      "text/html": [
       "<div>\n",
       "<style scoped>\n",
       "    .dataframe tbody tr th:only-of-type {\n",
       "        vertical-align: middle;\n",
       "    }\n",
       "\n",
       "    .dataframe tbody tr th {\n",
       "        vertical-align: top;\n",
       "    }\n",
       "\n",
       "    .dataframe thead th {\n",
       "        text-align: right;\n",
       "    }\n",
       "</style>\n",
       "<table border=\"1\" class=\"dataframe\">\n",
       "  <thead>\n",
       "    <tr style=\"text-align: right;\">\n",
       "      <th></th>\n",
       "      <th>one_hot</th>\n",
       "    </tr>\n",
       "  </thead>\n",
       "  <tbody>\n",
       "    <tr>\n",
       "      <th>0</th>\n",
       "      <td>[0, 0, 0, 0, 0, 0, 0, 0, 0, 0, 0, 0, 0, 1, 0, 0]</td>\n",
       "    </tr>\n",
       "    <tr>\n",
       "      <th>1</th>\n",
       "      <td>[0, 0, 0, 0, 0, 0, 0, 0, 0, 0, 0, 0, 0, 1, 0, 0]</td>\n",
       "    </tr>\n",
       "    <tr>\n",
       "      <th>2</th>\n",
       "      <td>[0, 0, 0, 0, 0, 0, 0, 0, 0, 0, 0, 0, 0, 1, 0, 0]</td>\n",
       "    </tr>\n",
       "    <tr>\n",
       "      <th>3</th>\n",
       "      <td>[0, 0, 0, 0, 0, 0, 0, 0, 0, 0, 0, 0, 0, 1, 0, 0]</td>\n",
       "    </tr>\n",
       "    <tr>\n",
       "      <th>4</th>\n",
       "      <td>[0, 0, 0, 0, 0, 0, 0, 0, 0, 0, 0, 0, 0, 1, 0, 0]</td>\n",
       "    </tr>\n",
       "    <tr>\n",
       "      <th>...</th>\n",
       "      <td>...</td>\n",
       "    </tr>\n",
       "    <tr>\n",
       "      <th>384573</th>\n",
       "      <td>[0, 0, 0, 0, 0, 0, 0, 0, 0, 0, 0, 1, 0, 0, 0, 0]</td>\n",
       "    </tr>\n",
       "    <tr>\n",
       "      <th>384574</th>\n",
       "      <td>[0, 0, 0, 0, 0, 0, 0, 0, 0, 0, 0, 1, 0, 0, 0, 0]</td>\n",
       "    </tr>\n",
       "    <tr>\n",
       "      <th>384575</th>\n",
       "      <td>[0, 0, 0, 0, 0, 0, 0, 0, 0, 0, 0, 1, 0, 0, 0, 0]</td>\n",
       "    </tr>\n",
       "    <tr>\n",
       "      <th>384576</th>\n",
       "      <td>[0, 0, 0, 0, 0, 0, 0, 0, 0, 0, 0, 1, 0, 0, 0, 0]</td>\n",
       "    </tr>\n",
       "    <tr>\n",
       "      <th>384577</th>\n",
       "      <td>[0, 0, 0, 0, 0, 0, 0, 0, 0, 0, 0, 1, 0, 0, 0, 0]</td>\n",
       "    </tr>\n",
       "  </tbody>\n",
       "</table>\n",
       "<p>384578 rows × 1 columns</p>\n",
       "</div>"
      ],
      "text/plain": [
       "                                                 one_hot\n",
       "0       [0, 0, 0, 0, 0, 0, 0, 0, 0, 0, 0, 0, 0, 1, 0, 0]\n",
       "1       [0, 0, 0, 0, 0, 0, 0, 0, 0, 0, 0, 0, 0, 1, 0, 0]\n",
       "2       [0, 0, 0, 0, 0, 0, 0, 0, 0, 0, 0, 0, 0, 1, 0, 0]\n",
       "3       [0, 0, 0, 0, 0, 0, 0, 0, 0, 0, 0, 0, 0, 1, 0, 0]\n",
       "4       [0, 0, 0, 0, 0, 0, 0, 0, 0, 0, 0, 0, 0, 1, 0, 0]\n",
       "...                                                  ...\n",
       "384573  [0, 0, 0, 0, 0, 0, 0, 0, 0, 0, 0, 1, 0, 0, 0, 0]\n",
       "384574  [0, 0, 0, 0, 0, 0, 0, 0, 0, 0, 0, 1, 0, 0, 0, 0]\n",
       "384575  [0, 0, 0, 0, 0, 0, 0, 0, 0, 0, 0, 1, 0, 0, 0, 0]\n",
       "384576  [0, 0, 0, 0, 0, 0, 0, 0, 0, 0, 0, 1, 0, 0, 0, 0]\n",
       "384577  [0, 0, 0, 0, 0, 0, 0, 0, 0, 0, 0, 1, 0, 0, 0, 0]\n",
       "\n",
       "[384578 rows x 1 columns]"
      ]
     },
     "execution_count": 263,
     "metadata": {},
     "output_type": "execute_result"
    }
   ],
   "source": [
    "df = (pd.DataFrame({'one_hot':list_}))\n",
    "df"
   ]
  },
  {
   "cell_type": "code",
   "execution_count": 264,
   "metadata": {},
   "outputs": [],
   "source": [
    "data_final=pd.concat([df_100,df],axis=1)\n"
   ]
  },
  {
   "cell_type": "code",
   "execution_count": 266,
   "metadata": {},
   "outputs": [
    {
     "data": {
      "text/html": [
       "<div>\n",
       "<style scoped>\n",
       "    .dataframe tbody tr th:only-of-type {\n",
       "        vertical-align: middle;\n",
       "    }\n",
       "\n",
       "    .dataframe tbody tr th {\n",
       "        vertical-align: top;\n",
       "    }\n",
       "\n",
       "    .dataframe thead th {\n",
       "        text-align: right;\n",
       "    }\n",
       "</style>\n",
       "<table border=\"1\" class=\"dataframe\">\n",
       "  <thead>\n",
       "    <tr style=\"text-align: right;\">\n",
       "      <th></th>\n",
       "      <th>abstract</th>\n",
       "      <th>sub_cat</th>\n",
       "      <th>preprocessed_abstract</th>\n",
       "      <th>w2v_vector</th>\n",
       "      <th>clean_cat</th>\n",
       "      <th>cat_counts</th>\n",
       "      <th>one_hot</th>\n",
       "    </tr>\n",
       "  </thead>\n",
       "  <tbody>\n",
       "    <tr>\n",
       "      <th>0</th>\n",
       "      <td>A wildland fire model based on semi-empirica...</td>\n",
       "      <td>[physics, cs]</td>\n",
       "      <td>wildland fire model base semi empir relat spre...</td>\n",
       "      <td>[-12.933845438994467, -2.664905859157443, -12....</td>\n",
       "      <td>physics</td>\n",
       "      <td>60610.0</td>\n",
       "      <td>[0, 0, 0, 0, 0, 0, 0, 0, 0, 0, 0, 0, 0, 1, 0, 0]</td>\n",
       "    </tr>\n",
       "    <tr>\n",
       "      <th>1</th>\n",
       "      <td>We present few-femtosecond shadowgraphic sna...</td>\n",
       "      <td>[physics, physics, physics]</td>\n",
       "      <td>present femtosecond shadowgraph snapshot taken...</td>\n",
       "      <td>[-9.9330103546381, 10.613403514958918, -7.4501...</td>\n",
       "      <td>physics</td>\n",
       "      <td>60610.0</td>\n",
       "      <td>[0, 0, 0, 0, 0, 0, 0, 0, 0, 0, 0, 0, 0, 1, 0, 0]</td>\n",
       "    </tr>\n",
       "    <tr>\n",
       "      <th>2</th>\n",
       "      <td>It is important to identify and reduce the g...</td>\n",
       "      <td>[physics, nucl-ex]</td>\n",
       "      <td>import identifi reduc gamma radiat signific so...</td>\n",
       "      <td>[-12.62926208274439, -0.7040283367969096, -12....</td>\n",
       "      <td>physics</td>\n",
       "      <td>60610.0</td>\n",
       "      <td>[0, 0, 0, 0, 0, 0, 0, 0, 0, 0, 0, 0, 0, 1, 0, 0]</td>\n",
       "    </tr>\n",
       "    <tr>\n",
       "      <th>3</th>\n",
       "      <td>We propose a simple stochastic model describ...</td>\n",
       "      <td>[physics, physics]</td>\n",
       "      <td>propos simpl stochast model describ posit depe...</td>\n",
       "      <td>[-9.197438054834493, 0.4336396874859929, -7.67...</td>\n",
       "      <td>physics</td>\n",
       "      <td>60610.0</td>\n",
       "      <td>[0, 0, 0, 0, 0, 0, 0, 0, 0, 0, 0, 0, 0, 1, 0, 0]</td>\n",
       "    </tr>\n",
       "    <tr>\n",
       "      <th>4</th>\n",
       "      <td>Rayleigh scattering poses an intrinsic limit...</td>\n",
       "      <td>[physics, hep-ex, physics]</td>\n",
       "      <td>rayleigh scatter pose intrins limit transpar o...</td>\n",
       "      <td>[-5.075774980708957, -5.866810740932124, -11.9...</td>\n",
       "      <td>physics</td>\n",
       "      <td>60610.0</td>\n",
       "      <td>[0, 0, 0, 0, 0, 0, 0, 0, 0, 0, 0, 0, 0, 1, 0, 0]</td>\n",
       "    </tr>\n",
       "    <tr>\n",
       "      <th>...</th>\n",
       "      <td>...</td>\n",
       "      <td>...</td>\n",
       "      <td>...</td>\n",
       "      <td>...</td>\n",
       "      <td>...</td>\n",
       "      <td>...</td>\n",
       "      <td>...</td>\n",
       "    </tr>\n",
       "    <tr>\n",
       "      <th>384573</th>\n",
       "      <td>The CBELSA/TAPS experiment with a longitudin...</td>\n",
       "      <td>[nucl-ex]</td>\n",
       "      <td>cbelsa tap experi longitudin transvers polar t...</td>\n",
       "      <td>[-10.296935763850342, 5.856681696081068, -12.0...</td>\n",
       "      <td>nucl-ex</td>\n",
       "      <td>3231.0</td>\n",
       "      <td>[0, 0, 0, 0, 0, 0, 0, 0, 0, 0, 0, 1, 0, 0, 0, 0]</td>\n",
       "    </tr>\n",
       "    <tr>\n",
       "      <th>384574</th>\n",
       "      <td>The photoproduction of $\\eta^{'}$-mesons fro...</td>\n",
       "      <td>[nucl-ex]</td>\n",
       "      <td>photoproduct eta meson differ nuclei ha measur...</td>\n",
       "      <td>[-4.424932585563511, 1.5827641242649406, -8.67...</td>\n",
       "      <td>nucl-ex</td>\n",
       "      <td>3231.0</td>\n",
       "      <td>[0, 0, 0, 0, 0, 0, 0, 0, 0, 0, 0, 1, 0, 0, 0, 0]</td>\n",
       "    </tr>\n",
       "    <tr>\n",
       "      <th>384575</th>\n",
       "      <td>The measurements of flow harmonics $v_2$-$v_...</td>\n",
       "      <td>[nucl-ex]</td>\n",
       "      <td>measur flow harmon v 2 v 6 use event plane two...</td>\n",
       "      <td>[-16.984326497651637, -1.7221592250280082, -14...</td>\n",
       "      <td>nucl-ex</td>\n",
       "      <td>3231.0</td>\n",
       "      <td>[0, 0, 0, 0, 0, 0, 0, 0, 0, 0, 0, 1, 0, 0, 0, 0]</td>\n",
       "    </tr>\n",
       "    <tr>\n",
       "      <th>384576</th>\n",
       "      <td>Recent collective flow measurements includin...</td>\n",
       "      <td>[nucl-ex]</td>\n",
       "      <td>recent collect flow measur includ higher momen...</td>\n",
       "      <td>[-36.39547759015113, 8.415648974885698, -26.29...</td>\n",
       "      <td>nucl-ex</td>\n",
       "      <td>3231.0</td>\n",
       "      <td>[0, 0, 0, 0, 0, 0, 0, 0, 0, 0, 0, 1, 0, 0, 0, 0]</td>\n",
       "    </tr>\n",
       "    <tr>\n",
       "      <th>384577</th>\n",
       "      <td>In this paper selected results obtained by t...</td>\n",
       "      <td>[nucl-ex]</td>\n",
       "      <td>thi paper select result obtain alic experi lhc...</td>\n",
       "      <td>[-20.493974179029465, 6.027057410188718, -10.2...</td>\n",
       "      <td>nucl-ex</td>\n",
       "      <td>3231.0</td>\n",
       "      <td>[0, 0, 0, 0, 0, 0, 0, 0, 0, 0, 0, 1, 0, 0, 0, 0]</td>\n",
       "    </tr>\n",
       "  </tbody>\n",
       "</table>\n",
       "<p>384136 rows × 7 columns</p>\n",
       "</div>"
      ],
      "text/plain": [
       "                                                 abstract  \\\n",
       "0         A wildland fire model based on semi-empirica...   \n",
       "1         We present few-femtosecond shadowgraphic sna...   \n",
       "2         It is important to identify and reduce the g...   \n",
       "3         We propose a simple stochastic model describ...   \n",
       "4         Rayleigh scattering poses an intrinsic limit...   \n",
       "...                                                   ...   \n",
       "384573    The CBELSA/TAPS experiment with a longitudin...   \n",
       "384574    The photoproduction of $\\eta^{'}$-mesons fro...   \n",
       "384575    The measurements of flow harmonics $v_2$-$v_...   \n",
       "384576    Recent collective flow measurements includin...   \n",
       "384577    In this paper selected results obtained by t...   \n",
       "\n",
       "                            sub_cat  \\\n",
       "0                     [physics, cs]   \n",
       "1       [physics, physics, physics]   \n",
       "2                [physics, nucl-ex]   \n",
       "3                [physics, physics]   \n",
       "4        [physics, hep-ex, physics]   \n",
       "...                             ...   \n",
       "384573                    [nucl-ex]   \n",
       "384574                    [nucl-ex]   \n",
       "384575                    [nucl-ex]   \n",
       "384576                    [nucl-ex]   \n",
       "384577                    [nucl-ex]   \n",
       "\n",
       "                                    preprocessed_abstract  \\\n",
       "0       wildland fire model base semi empir relat spre...   \n",
       "1       present femtosecond shadowgraph snapshot taken...   \n",
       "2       import identifi reduc gamma radiat signific so...   \n",
       "3       propos simpl stochast model describ posit depe...   \n",
       "4       rayleigh scatter pose intrins limit transpar o...   \n",
       "...                                                   ...   \n",
       "384573  cbelsa tap experi longitudin transvers polar t...   \n",
       "384574  photoproduct eta meson differ nuclei ha measur...   \n",
       "384575  measur flow harmon v 2 v 6 use event plane two...   \n",
       "384576  recent collect flow measur includ higher momen...   \n",
       "384577  thi paper select result obtain alic experi lhc...   \n",
       "\n",
       "                                               w2v_vector clean_cat  \\\n",
       "0       [-12.933845438994467, -2.664905859157443, -12....   physics   \n",
       "1       [-9.9330103546381, 10.613403514958918, -7.4501...   physics   \n",
       "2       [-12.62926208274439, -0.7040283367969096, -12....   physics   \n",
       "3       [-9.197438054834493, 0.4336396874859929, -7.67...   physics   \n",
       "4       [-5.075774980708957, -5.866810740932124, -11.9...   physics   \n",
       "...                                                   ...       ...   \n",
       "384573  [-10.296935763850342, 5.856681696081068, -12.0...   nucl-ex   \n",
       "384574  [-4.424932585563511, 1.5827641242649406, -8.67...   nucl-ex   \n",
       "384575  [-16.984326497651637, -1.7221592250280082, -14...   nucl-ex   \n",
       "384576  [-36.39547759015113, 8.415648974885698, -26.29...   nucl-ex   \n",
       "384577  [-20.493974179029465, 6.027057410188718, -10.2...   nucl-ex   \n",
       "\n",
       "        cat_counts                                           one_hot  \n",
       "0          60610.0  [0, 0, 0, 0, 0, 0, 0, 0, 0, 0, 0, 0, 0, 1, 0, 0]  \n",
       "1          60610.0  [0, 0, 0, 0, 0, 0, 0, 0, 0, 0, 0, 0, 0, 1, 0, 0]  \n",
       "2          60610.0  [0, 0, 0, 0, 0, 0, 0, 0, 0, 0, 0, 0, 0, 1, 0, 0]  \n",
       "3          60610.0  [0, 0, 0, 0, 0, 0, 0, 0, 0, 0, 0, 0, 0, 1, 0, 0]  \n",
       "4          60610.0  [0, 0, 0, 0, 0, 0, 0, 0, 0, 0, 0, 0, 0, 1, 0, 0]  \n",
       "...            ...                                               ...  \n",
       "384573      3231.0  [0, 0, 0, 0, 0, 0, 0, 0, 0, 0, 0, 1, 0, 0, 0, 0]  \n",
       "384574      3231.0  [0, 0, 0, 0, 0, 0, 0, 0, 0, 0, 0, 1, 0, 0, 0, 0]  \n",
       "384575      3231.0  [0, 0, 0, 0, 0, 0, 0, 0, 0, 0, 0, 1, 0, 0, 0, 0]  \n",
       "384576      3231.0  [0, 0, 0, 0, 0, 0, 0, 0, 0, 0, 0, 1, 0, 0, 0, 0]  \n",
       "384577      3231.0  [0, 0, 0, 0, 0, 0, 0, 0, 0, 0, 0, 1, 0, 0, 0, 0]  \n",
       "\n",
       "[384136 rows x 7 columns]"
      ]
     },
     "execution_count": 266,
     "metadata": {},
     "output_type": "execute_result"
    }
   ],
   "source": [
    "data_final.dropna()"
   ]
  },
  {
   "cell_type": "markdown",
   "metadata": {},
   "source": [
    "صورت نهایی دیتای بدست آمده برای پیاده سازی الگوریتم کلسیفیکیشن"
   ]
  },
  {
   "cell_type": "code",
   "execution_count": 382,
   "metadata": {},
   "outputs": [],
   "source": [
    "data_final_clean=data_final.drop(['abstract','sub_cat','preprocessed_abstract','clean_cat','cat_counts'],axis=1)"
   ]
  },
  {
   "cell_type": "code",
   "execution_count": 383,
   "metadata": {},
   "outputs": [],
   "source": [
    "data_final_clean = data_final_clean.dropna()"
   ]
  },
  {
   "cell_type": "code",
   "execution_count": 428,
   "metadata": {},
   "outputs": [
    {
     "data": {
      "text/html": [
       "<div>\n",
       "<style scoped>\n",
       "    .dataframe tbody tr th:only-of-type {\n",
       "        vertical-align: middle;\n",
       "    }\n",
       "\n",
       "    .dataframe tbody tr th {\n",
       "        vertical-align: top;\n",
       "    }\n",
       "\n",
       "    .dataframe thead th {\n",
       "        text-align: right;\n",
       "    }\n",
       "</style>\n",
       "<table border=\"1\" class=\"dataframe\">\n",
       "  <thead>\n",
       "    <tr style=\"text-align: right;\">\n",
       "      <th></th>\n",
       "      <th>w2v_vector</th>\n",
       "      <th>one_hot</th>\n",
       "    </tr>\n",
       "  </thead>\n",
       "  <tbody>\n",
       "    <tr>\n",
       "      <th>0</th>\n",
       "      <td>[-12.933845438994467, -2.664905859157443, -12....</td>\n",
       "      <td>[0, 0, 0, 0, 0, 0, 0, 0, 0, 0, 0, 0, 0, 1, 0, 0]</td>\n",
       "    </tr>\n",
       "    <tr>\n",
       "      <th>1</th>\n",
       "      <td>[-9.9330103546381, 10.613403514958918, -7.4501...</td>\n",
       "      <td>[0, 0, 0, 0, 0, 0, 0, 0, 0, 0, 0, 0, 0, 1, 0, 0]</td>\n",
       "    </tr>\n",
       "    <tr>\n",
       "      <th>2</th>\n",
       "      <td>[-12.62926208274439, -0.7040283367969096, -12....</td>\n",
       "      <td>[0, 0, 0, 0, 0, 0, 0, 0, 0, 0, 0, 0, 0, 1, 0, 0]</td>\n",
       "    </tr>\n",
       "    <tr>\n",
       "      <th>3</th>\n",
       "      <td>[-9.197438054834493, 0.4336396874859929, -7.67...</td>\n",
       "      <td>[0, 0, 0, 0, 0, 0, 0, 0, 0, 0, 0, 0, 0, 1, 0, 0]</td>\n",
       "    </tr>\n",
       "    <tr>\n",
       "      <th>4</th>\n",
       "      <td>[-5.075774980708957, -5.866810740932124, -11.9...</td>\n",
       "      <td>[0, 0, 0, 0, 0, 0, 0, 0, 0, 0, 0, 0, 0, 1, 0, 0]</td>\n",
       "    </tr>\n",
       "    <tr>\n",
       "      <th>...</th>\n",
       "      <td>...</td>\n",
       "      <td>...</td>\n",
       "    </tr>\n",
       "    <tr>\n",
       "      <th>384573</th>\n",
       "      <td>[-10.296935763850342, 5.856681696081068, -12.0...</td>\n",
       "      <td>[0, 0, 0, 0, 0, 0, 0, 0, 0, 0, 0, 1, 0, 0, 0, 0]</td>\n",
       "    </tr>\n",
       "    <tr>\n",
       "      <th>384574</th>\n",
       "      <td>[-4.424932585563511, 1.5827641242649406, -8.67...</td>\n",
       "      <td>[0, 0, 0, 0, 0, 0, 0, 0, 0, 0, 0, 1, 0, 0, 0, 0]</td>\n",
       "    </tr>\n",
       "    <tr>\n",
       "      <th>384575</th>\n",
       "      <td>[-16.984326497651637, -1.7221592250280082, -14...</td>\n",
       "      <td>[0, 0, 0, 0, 0, 0, 0, 0, 0, 0, 0, 1, 0, 0, 0, 0]</td>\n",
       "    </tr>\n",
       "    <tr>\n",
       "      <th>384576</th>\n",
       "      <td>[-36.39547759015113, 8.415648974885698, -26.29...</td>\n",
       "      <td>[0, 0, 0, 0, 0, 0, 0, 0, 0, 0, 0, 1, 0, 0, 0, 0]</td>\n",
       "    </tr>\n",
       "    <tr>\n",
       "      <th>384577</th>\n",
       "      <td>[-20.493974179029465, 6.027057410188718, -10.2...</td>\n",
       "      <td>[0, 0, 0, 0, 0, 0, 0, 0, 0, 0, 0, 1, 0, 0, 0, 0]</td>\n",
       "    </tr>\n",
       "  </tbody>\n",
       "</table>\n",
       "<p>384136 rows × 2 columns</p>\n",
       "</div>"
      ],
      "text/plain": [
       "                                               w2v_vector  \\\n",
       "0       [-12.933845438994467, -2.664905859157443, -12....   \n",
       "1       [-9.9330103546381, 10.613403514958918, -7.4501...   \n",
       "2       [-12.62926208274439, -0.7040283367969096, -12....   \n",
       "3       [-9.197438054834493, 0.4336396874859929, -7.67...   \n",
       "4       [-5.075774980708957, -5.866810740932124, -11.9...   \n",
       "...                                                   ...   \n",
       "384573  [-10.296935763850342, 5.856681696081068, -12.0...   \n",
       "384574  [-4.424932585563511, 1.5827641242649406, -8.67...   \n",
       "384575  [-16.984326497651637, -1.7221592250280082, -14...   \n",
       "384576  [-36.39547759015113, 8.415648974885698, -26.29...   \n",
       "384577  [-20.493974179029465, 6.027057410188718, -10.2...   \n",
       "\n",
       "                                                 one_hot  \n",
       "0       [0, 0, 0, 0, 0, 0, 0, 0, 0, 0, 0, 0, 0, 1, 0, 0]  \n",
       "1       [0, 0, 0, 0, 0, 0, 0, 0, 0, 0, 0, 0, 0, 1, 0, 0]  \n",
       "2       [0, 0, 0, 0, 0, 0, 0, 0, 0, 0, 0, 0, 0, 1, 0, 0]  \n",
       "3       [0, 0, 0, 0, 0, 0, 0, 0, 0, 0, 0, 0, 0, 1, 0, 0]  \n",
       "4       [0, 0, 0, 0, 0, 0, 0, 0, 0, 0, 0, 0, 0, 1, 0, 0]  \n",
       "...                                                  ...  \n",
       "384573  [0, 0, 0, 0, 0, 0, 0, 0, 0, 0, 0, 1, 0, 0, 0, 0]  \n",
       "384574  [0, 0, 0, 0, 0, 0, 0, 0, 0, 0, 0, 1, 0, 0, 0, 0]  \n",
       "384575  [0, 0, 0, 0, 0, 0, 0, 0, 0, 0, 0, 1, 0, 0, 0, 0]  \n",
       "384576  [0, 0, 0, 0, 0, 0, 0, 0, 0, 0, 0, 1, 0, 0, 0, 0]  \n",
       "384577  [0, 0, 0, 0, 0, 0, 0, 0, 0, 0, 0, 1, 0, 0, 0, 0]  \n",
       "\n",
       "[384136 rows x 2 columns]"
      ]
     },
     "execution_count": 428,
     "metadata": {},
     "output_type": "execute_result"
    }
   ],
   "source": [
    "data_final_clean"
   ]
  },
  {
   "cell_type": "code",
   "execution_count": 429,
   "metadata": {},
   "outputs": [],
   "source": [
    "data_final_clean.to_json(r'C:\\Users\\asus\\Desktop\\data\\data_clean.json')\n"
   ]
  },
  {
   "cell_type": "code",
   "execution_count": 7,
   "metadata": {},
   "outputs": [],
   "source": [
    "import pandas as pd\n",
    "from sklearn.preprocessing import LabelEncoder\n",
    "from sklearn.model_selection import train_test_split\n",
    "from copy import deepcopy\n",
    "from sklearn.preprocessing import normalize,LabelEncoder\n"
   ]
  },
  {
   "cell_type": "code",
   "execution_count": 2,
   "metadata": {},
   "outputs": [
    {
     "data": {
      "text/html": [
       "<div>\n",
       "<style scoped>\n",
       "    .dataframe tbody tr th:only-of-type {\n",
       "        vertical-align: middle;\n",
       "    }\n",
       "\n",
       "    .dataframe tbody tr th {\n",
       "        vertical-align: top;\n",
       "    }\n",
       "\n",
       "    .dataframe thead th {\n",
       "        text-align: right;\n",
       "    }\n",
       "</style>\n",
       "<table border=\"1\" class=\"dataframe\">\n",
       "  <thead>\n",
       "    <tr style=\"text-align: right;\">\n",
       "      <th></th>\n",
       "      <th>w2v_vector</th>\n",
       "      <th>one_hot</th>\n",
       "    </tr>\n",
       "  </thead>\n",
       "  <tbody>\n",
       "    <tr>\n",
       "      <th>0</th>\n",
       "      <td>[-12.933845439, -2.6649058592, -12.4313581297,...</td>\n",
       "      <td>[0, 0, 0, 0, 0, 0, 0, 0, 0, 0, 0, 0, 0, 1, 0, 0]</td>\n",
       "    </tr>\n",
       "    <tr>\n",
       "      <th>1</th>\n",
       "      <td>[-9.9330103546, 10.613403515, -7.4501811611, 3...</td>\n",
       "      <td>[0, 0, 0, 0, 0, 0, 0, 0, 0, 0, 0, 0, 0, 1, 0, 0]</td>\n",
       "    </tr>\n",
       "    <tr>\n",
       "      <th>2</th>\n",
       "      <td>[-12.6292620827, -0.7040283368, -12.5240059556...</td>\n",
       "      <td>[0, 0, 0, 0, 0, 0, 0, 0, 0, 0, 0, 0, 0, 1, 0, 0]</td>\n",
       "    </tr>\n",
       "    <tr>\n",
       "      <th>3</th>\n",
       "      <td>[-9.1974380548, 0.43363968750000004, -7.676824...</td>\n",
       "      <td>[0, 0, 0, 0, 0, 0, 0, 0, 0, 0, 0, 0, 0, 1, 0, 0]</td>\n",
       "    </tr>\n",
       "    <tr>\n",
       "      <th>4</th>\n",
       "      <td>[-5.0757749807, -5.8668107409, -11.9917171951,...</td>\n",
       "      <td>[0, 0, 0, 0, 0, 0, 0, 0, 0, 0, 0, 0, 0, 1, 0, 0]</td>\n",
       "    </tr>\n",
       "    <tr>\n",
       "      <th>...</th>\n",
       "      <td>...</td>\n",
       "      <td>...</td>\n",
       "    </tr>\n",
       "    <tr>\n",
       "      <th>384573</th>\n",
       "      <td>[-10.2969357639, 5.8566816961, -12.067341404, ...</td>\n",
       "      <td>[0, 0, 0, 0, 0, 0, 0, 0, 0, 0, 0, 1, 0, 0, 0, 0]</td>\n",
       "    </tr>\n",
       "    <tr>\n",
       "      <th>384574</th>\n",
       "      <td>[-4.4249325856, 1.5827641243000001, -8.6796761...</td>\n",
       "      <td>[0, 0, 0, 0, 0, 0, 0, 0, 0, 0, 0, 1, 0, 0, 0, 0]</td>\n",
       "    </tr>\n",
       "    <tr>\n",
       "      <th>384575</th>\n",
       "      <td>[-16.9843264977, -1.722159225, -14.1680786479,...</td>\n",
       "      <td>[0, 0, 0, 0, 0, 0, 0, 0, 0, 0, 0, 1, 0, 0, 0, 0]</td>\n",
       "    </tr>\n",
       "    <tr>\n",
       "      <th>384576</th>\n",
       "      <td>[-36.3954775902, 8.4156489749, -26.2948491247,...</td>\n",
       "      <td>[0, 0, 0, 0, 0, 0, 0, 0, 0, 0, 0, 1, 0, 0, 0, 0]</td>\n",
       "    </tr>\n",
       "    <tr>\n",
       "      <th>384577</th>\n",
       "      <td>[-20.493974179, 6.0270574102, -10.2494495092, ...</td>\n",
       "      <td>[0, 0, 0, 0, 0, 0, 0, 0, 0, 0, 0, 1, 0, 0, 0, 0]</td>\n",
       "    </tr>\n",
       "  </tbody>\n",
       "</table>\n",
       "<p>384136 rows × 2 columns</p>\n",
       "</div>"
      ],
      "text/plain": [
       "                                               w2v_vector  \\\n",
       "0       [-12.933845439, -2.6649058592, -12.4313581297,...   \n",
       "1       [-9.9330103546, 10.613403515, -7.4501811611, 3...   \n",
       "2       [-12.6292620827, -0.7040283368, -12.5240059556...   \n",
       "3       [-9.1974380548, 0.43363968750000004, -7.676824...   \n",
       "4       [-5.0757749807, -5.8668107409, -11.9917171951,...   \n",
       "...                                                   ...   \n",
       "384573  [-10.2969357639, 5.8566816961, -12.067341404, ...   \n",
       "384574  [-4.4249325856, 1.5827641243000001, -8.6796761...   \n",
       "384575  [-16.9843264977, -1.722159225, -14.1680786479,...   \n",
       "384576  [-36.3954775902, 8.4156489749, -26.2948491247,...   \n",
       "384577  [-20.493974179, 6.0270574102, -10.2494495092, ...   \n",
       "\n",
       "                                                 one_hot  \n",
       "0       [0, 0, 0, 0, 0, 0, 0, 0, 0, 0, 0, 0, 0, 1, 0, 0]  \n",
       "1       [0, 0, 0, 0, 0, 0, 0, 0, 0, 0, 0, 0, 0, 1, 0, 0]  \n",
       "2       [0, 0, 0, 0, 0, 0, 0, 0, 0, 0, 0, 0, 0, 1, 0, 0]  \n",
       "3       [0, 0, 0, 0, 0, 0, 0, 0, 0, 0, 0, 0, 0, 1, 0, 0]  \n",
       "4       [0, 0, 0, 0, 0, 0, 0, 0, 0, 0, 0, 0, 0, 1, 0, 0]  \n",
       "...                                                  ...  \n",
       "384573  [0, 0, 0, 0, 0, 0, 0, 0, 0, 0, 0, 1, 0, 0, 0, 0]  \n",
       "384574  [0, 0, 0, 0, 0, 0, 0, 0, 0, 0, 0, 1, 0, 0, 0, 0]  \n",
       "384575  [0, 0, 0, 0, 0, 0, 0, 0, 0, 0, 0, 1, 0, 0, 0, 0]  \n",
       "384576  [0, 0, 0, 0, 0, 0, 0, 0, 0, 0, 0, 1, 0, 0, 0, 0]  \n",
       "384577  [0, 0, 0, 0, 0, 0, 0, 0, 0, 0, 0, 1, 0, 0, 0, 0]  \n",
       "\n",
       "[384136 rows x 2 columns]"
      ]
     },
     "execution_count": 2,
     "metadata": {},
     "output_type": "execute_result"
    }
   ],
   "source": [
    "path = 'C:/Users/asus/Desktop/data/data_clean.json'\n",
    "r = pd.read_json(path)\n",
    "r"
   ]
  },
  {
   "cell_type": "code",
   "execution_count": 3,
   "metadata": {},
   "outputs": [],
   "source": [
    "X=r.drop(['one_hot'],axis=1)\n",
    "y=r['one_hot']\n",
    "X2=X['w2v_vector']"
   ]
  },
  {
   "cell_type": "markdown",
   "metadata": {},
   "source": [
    "قسمتی از دیتا را برای تست و قسمتی را برای یادگیری جدا میکنیم"
   ]
  },
  {
   "cell_type": "code",
   "execution_count": 4,
   "metadata": {},
   "outputs": [],
   "source": [
    "X_train, X_test, y_train, y_test = train_test_split(X2, y, test_size=0.3, random_state=101)"
   ]
  },
  {
   "cell_type": "code",
   "execution_count": 5,
   "metadata": {},
   "outputs": [],
   "source": [
    "lb = LabelEncoder()\n",
    "y_train = lb.fit_transform(y_train.astype(str))\n",
    "y_test = lb.transform(y_test.astype(str))"
   ]
  },
  {
   "cell_type": "code",
   "execution_count": 6,
   "metadata": {},
   "outputs": [
    {
     "data": {
      "text/plain": [
       "array([[-0.11883234,  0.02633098, -0.1279191 , ...,  0.16806907,\n",
       "         0.0321831 ,  0.00687315],\n",
       "       [-0.14377403,  0.05362094, -0.09201366, ...,  0.10246094,\n",
       "         0.07549015, -0.10230112],\n",
       "       [-0.148033  ,  0.11010884, -0.11564907, ...,  0.11773467,\n",
       "         0.0668164 , -0.09140308],\n",
       "       ...,\n",
       "       [-0.17672357, -0.01521543, -0.13091938, ...,  0.13819342,\n",
       "         0.02847971, -0.04253738],\n",
       "       [-0.10259846,  0.02707162, -0.18754193, ...,  0.09010993,\n",
       "         0.06225202, -0.06098582],\n",
       "       [-0.18213739,  0.0096818 , -0.09136963, ...,  0.05376644,\n",
       "         0.02869406, -0.05469807]])"
      ]
     },
     "execution_count": 6,
     "metadata": {},
     "output_type": "execute_result"
    }
   ],
   "source": [
    "\n",
    "X_train_normal = normalize(list(X_train))\n",
    "X_test_normal= normalize(list(X_test))\n",
    "X_train_normal"
   ]
  },
  {
   "cell_type": "code",
   "execution_count": 8,
   "metadata": {},
   "outputs": [
    {
     "data": {
      "text/plain": [
       "array([14, 14, 14, ..., 15, 15, 14])"
      ]
     },
     "execution_count": 8,
     "metadata": {},
     "output_type": "execute_result"
    }
   ],
   "source": [
    "y_train"
   ]
  },
  {
   "cell_type": "markdown",
   "metadata": {},
   "source": [
    "شروع به پیاده سازی الگوریتم های کلسیفیکیشن میکنیم و میزان درستی عملکرد آن ها را نمایش میدهیم"
   ]
  },
  {
   "cell_type": "markdown",
   "metadata": {},
   "source": [
    "الگوریتم شماره 1 \n"
   ]
  },
  {
   "cell_type": "markdown",
   "metadata": {},
   "source": [
    "logistic regression\n"
   ]
  },
  {
   "cell_type": "markdown",
   "metadata": {},
   "source": [
    "الگوریتم مناسبی برای دیتای ما نیست"
   ]
  },
  {
   "cell_type": "code",
   "execution_count": 9,
   "metadata": {},
   "outputs": [],
   "source": [
    "from sklearn.linear_model import LogisticRegression"
   ]
  },
  {
   "cell_type": "code",
   "execution_count": 10,
   "metadata": {},
   "outputs": [],
   "source": [
    "logmodel=LogisticRegression(max_iter=200)"
   ]
  },
  {
   "cell_type": "code",
   "execution_count": 11,
   "metadata": {},
   "outputs": [
    {
     "name": "stderr",
     "output_type": "stream",
     "text": [
      "C:\\ProgramData\\Anaconda3\\lib\\site-packages\\sklearn\\linear_model\\_logistic.py:940: ConvergenceWarning: lbfgs failed to converge (status=1):\n",
      "STOP: TOTAL NO. of ITERATIONS REACHED LIMIT.\n",
      "\n",
      "Increase the number of iterations (max_iter) or scale the data as shown in:\n",
      "    https://scikit-learn.org/stable/modules/preprocessing.html\n",
      "Please also refer to the documentation for alternative solver options:\n",
      "    https://scikit-learn.org/stable/modules/linear_model.html#logistic-regression\n",
      "  extra_warning_msg=_LOGISTIC_SOLVER_CONVERGENCE_MSG)\n"
     ]
    },
    {
     "data": {
      "text/plain": [
       "LogisticRegression(C=1.0, class_weight=None, dual=False, fit_intercept=True,\n",
       "                   intercept_scaling=1, l1_ratio=None, max_iter=200,\n",
       "                   multi_class='auto', n_jobs=None, penalty='l2',\n",
       "                   random_state=None, solver='lbfgs', tol=0.0001, verbose=0,\n",
       "                   warm_start=False)"
      ]
     },
     "execution_count": 11,
     "metadata": {},
     "output_type": "execute_result"
    }
   ],
   "source": [
    "logmodel.fit(X_train_normal,y_train,)"
   ]
  },
  {
   "cell_type": "markdown",
   "metadata": {},
   "source": [
    "الگوریتم شماره 2"
   ]
  },
  {
   "cell_type": "markdown",
   "metadata": {},
   "source": [
    "random forest"
   ]
  },
  {
   "cell_type": "code",
   "execution_count": 12,
   "metadata": {},
   "outputs": [],
   "source": [
    "from sklearn.ensemble import RandomForestClassifier\n"
   ]
  },
  {
   "cell_type": "code",
   "execution_count": 13,
   "metadata": {},
   "outputs": [],
   "source": [
    "clf=RandomForestClassifier(n_estimators=100)\n"
   ]
  },
  {
   "cell_type": "code",
   "execution_count": 14,
   "metadata": {},
   "outputs": [
    {
     "data": {
      "text/plain": [
       "RandomForestClassifier(bootstrap=True, ccp_alpha=0.0, class_weight=None,\n",
       "                       criterion='gini', max_depth=None, max_features='auto',\n",
       "                       max_leaf_nodes=None, max_samples=None,\n",
       "                       min_impurity_decrease=0.0, min_impurity_split=None,\n",
       "                       min_samples_leaf=1, min_samples_split=2,\n",
       "                       min_weight_fraction_leaf=0.0, n_estimators=100,\n",
       "                       n_jobs=None, oob_score=False, random_state=None,\n",
       "                       verbose=0, warm_start=False)"
      ]
     },
     "execution_count": 14,
     "metadata": {},
     "output_type": "execute_result"
    }
   ],
   "source": [
    "clf.fit(X_train_normal,y_train)\n"
   ]
  },
  {
   "cell_type": "code",
   "execution_count": 15,
   "metadata": {},
   "outputs": [],
   "source": [
    "y_pred=clf.predict(X_test_normal)\n"
   ]
  },
  {
   "cell_type": "code",
   "execution_count": 16,
   "metadata": {},
   "outputs": [],
   "source": [
    "from sklearn import metrics\n",
    "import matplotlib.pyplot as plt\n",
    "from sklearn.metrics import classification_report\n",
    "from sklearn.metrics import confusion_matrix\n",
    "import seaborn as sns\n"
   ]
  },
  {
   "cell_type": "code",
   "execution_count": 17,
   "metadata": {},
   "outputs": [
    {
     "name": "stdout",
     "output_type": "stream",
     "text": [
      "Accuracy: 0.7769370276203782\n"
     ]
    }
   ],
   "source": [
    "print(\"Accuracy:\",metrics.accuracy_score(y_test, y_pred))\n"
   ]
  },
  {
   "cell_type": "code",
   "execution_count": 18,
   "metadata": {},
   "outputs": [
    {
     "name": "stdout",
     "output_type": "stream",
     "text": [
      "              precision    recall  f1-score   support\n",
      "\n",
      "           0       0.79      0.75      0.77      8977\n",
      "           1       0.73      0.13      0.22       714\n",
      "           2       0.66      0.75      0.70     18031\n",
      "           3       0.79      0.53      0.63      2478\n",
      "           4       0.74      0.37      0.50       825\n",
      "           5       0.70      0.28      0.40      1605\n",
      "           6       0.48      0.37      0.42      3204\n",
      "           7       0.60      0.47      0.53      3102\n",
      "           8       0.72      0.73      0.73      7141\n",
      "           9       0.77      0.85      0.81      9119\n",
      "          10       0.91      0.38      0.54      1186\n",
      "          11       0.85      0.63      0.73      1805\n",
      "          12       0.69      0.67      0.68      5268\n",
      "          13       0.74      0.25      0.38      1374\n",
      "          14       0.80      0.89      0.84     26282\n",
      "          15       0.93      0.94      0.93     24130\n",
      "\n",
      "    accuracy                           0.78    115241\n",
      "   macro avg       0.74      0.56      0.61    115241\n",
      "weighted avg       0.78      0.78      0.77    115241\n",
      "\n"
     ]
    }
   ],
   "source": [
    "print(classification_report(y_test,y_pred))\n"
   ]
  },
  {
   "cell_type": "code",
   "execution_count": 43,
   "metadata": {},
   "outputs": [],
   "source": [
    "mat=confusion_matrix(y_test,y_pred)\n"
   ]
  },
  {
   "cell_type": "code",
   "execution_count": 20,
   "metadata": {},
   "outputs": [
    {
     "data": {
      "image/png": "[encoded data removed]",
      "text/plain": [
       "<Figure size 720x504 with 2 Axes>"
      ]
     },
     "metadata": {},
     "output_type": "display_data"
    }
   ],
   "source": [
    "df_cm = pd.DataFrame(mat, range(16), range(16))\n",
    "plt.figure(figsize=(10,7))\n",
    "sns.set(font_scale=1.4) # for label size\n",
    "sns.heatmap(df_cm, annot=True,fmt=\"d\", annot_kws={\"size\": 10},cmap=\"BuPu\",vmin=0, vmax=700) # font size\n",
    "\n",
    "plt.show()"
   ]
  },
  {
   "cell_type": "markdown",
   "metadata": {
    "scrolled": false
   },
   "source": [
    "الگوریتم شماره 3"
   ]
  },
  {
   "cell_type": "markdown",
   "metadata": {},
   "source": [
    "support vector machine"
   ]
  },
  {
   "cell_type": "code",
   "execution_count": 22,
   "metadata": {},
   "outputs": [],
   "source": [
    "from sklearn import svm\n",
    "clf_s= svm.SVC(kernel='linear')"
   ]
  },
  {
   "cell_type": "code",
   "execution_count": 23,
   "metadata": {},
   "outputs": [
    {
     "data": {
      "text/plain": [
       "SVC(C=1.0, break_ties=False, cache_size=200, class_weight=None, coef0=0.0,\n",
       "    decision_function_shape='ovr', degree=3, gamma='scale', kernel='linear',\n",
       "    max_iter=-1, probability=False, random_state=None, shrinking=True,\n",
       "    tol=0.001, verbose=False)"
      ]
     },
     "execution_count": 23,
     "metadata": {},
     "output_type": "execute_result"
    }
   ],
   "source": [
    "clf_s.fit(X_train_normal,y_train)\n"
   ]
  },
  {
   "cell_type": "code",
   "execution_count": 24,
   "metadata": {},
   "outputs": [],
   "source": [
    "y_pred=clf_s.predict(X_test_normal)\n"
   ]
  },
  {
   "cell_type": "code",
   "execution_count": 25,
   "metadata": {},
   "outputs": [
    {
     "name": "stdout",
     "output_type": "stream",
     "text": [
      "Accuracy: 0.7820480558134691\n"
     ]
    }
   ],
   "source": [
    "print(\"Accuracy:\",metrics.accuracy_score(y_test, y_pred))\n"
   ]
  },
  {
   "cell_type": "code",
   "execution_count": 26,
   "metadata": {},
   "outputs": [
    {
     "name": "stdout",
     "output_type": "stream",
     "text": [
      "              precision    recall  f1-score   support\n",
      "\n",
      "           0       0.78      0.78      0.78      8977\n",
      "           1       0.52      0.17      0.25       714\n",
      "           2       0.67      0.72      0.69     18031\n",
      "           3       0.75      0.64      0.69      2478\n",
      "           4       0.66      0.51      0.58       825\n",
      "           5       0.58      0.44      0.50      1605\n",
      "           6       0.46      0.37      0.41      3204\n",
      "           7       0.55      0.51      0.53      3102\n",
      "           8       0.74      0.74      0.74      7141\n",
      "           9       0.80      0.83      0.82      9119\n",
      "          10       0.83      0.63      0.71      1186\n",
      "          11       0.82      0.70      0.75      1805\n",
      "          12       0.69      0.72      0.70      5268\n",
      "          13       0.60      0.30      0.40      1374\n",
      "          14       0.83      0.87      0.85     26282\n",
      "          15       0.93      0.93      0.93     24130\n",
      "\n",
      "    accuracy                           0.78    115241\n",
      "   macro avg       0.70      0.62      0.65    115241\n",
      "weighted avg       0.78      0.78      0.78    115241\n",
      "\n"
     ]
    }
   ],
   "source": [
    "print(classification_report(y_test,y_pred))\n"
   ]
  },
  {
   "cell_type": "code",
   "execution_count": 39,
   "metadata": {},
   "outputs": [],
   "source": [
    "mat=confusion_matrix(y_test,y_pred)\n"
   ]
  },
  {
   "cell_type": "code",
   "execution_count": 32,
   "metadata": {},
   "outputs": [
    {
     "data": {
      "image/png": "[encoded data removed]",
      "text/plain": [
       "<Figure size 720x504 with 2 Axes>"
      ]
     },
     "metadata": {},
     "output_type": "display_data"
    }
   ],
   "source": [
    "df_cm = pd.DataFrame(mat, range(16), range(16))\n",
    "plt.figure(figsize=(10,7))\n",
    "sns.set(font_scale=1.4) # for label size\n",
    "sns.heatmap(df_cm, annot=True,fmt=\"d\", annot_kws={\"size\": 10},cmap=\"BuGn\",vmin=0, vmax=700) # font size\n",
    "\n",
    "plt.show()"
   ]
  },
  {
   "cell_type": "markdown",
   "metadata": {},
   "source": [
    "الگوریتم شماره 4"
   ]
  },
  {
   "cell_type": "markdown",
   "metadata": {},
   "source": [
    "naive bayes"
   ]
  },
  {
   "cell_type": "code",
   "execution_count": 33,
   "metadata": {},
   "outputs": [],
   "source": [
    "from sklearn.naive_bayes import GaussianNB\n"
   ]
  },
  {
   "cell_type": "code",
   "execution_count": 34,
   "metadata": {},
   "outputs": [],
   "source": [
    "gnb = GaussianNB()\n"
   ]
  },
  {
   "cell_type": "code",
   "execution_count": 35,
   "metadata": {},
   "outputs": [
    {
     "data": {
      "text/plain": [
       "GaussianNB(priors=None, var_smoothing=1e-09)"
      ]
     },
     "execution_count": 35,
     "metadata": {},
     "output_type": "execute_result"
    }
   ],
   "source": [
    "gnb.fit(X_train_normal, y_train)\n"
   ]
  },
  {
   "cell_type": "code",
   "execution_count": 36,
   "metadata": {},
   "outputs": [],
   "source": [
    "y_pred = gnb.predict(X_test_normal)\n"
   ]
  },
  {
   "cell_type": "code",
   "execution_count": 37,
   "metadata": {},
   "outputs": [
    {
     "name": "stdout",
     "output_type": "stream",
     "text": [
      "Accuracy: 0.6626894941904357\n"
     ]
    }
   ],
   "source": [
    "print(\"Accuracy:\",metrics.accuracy_score(y_test, y_pred))\n"
   ]
  },
  {
   "cell_type": "code",
   "execution_count": 38,
   "metadata": {},
   "outputs": [
    {
     "name": "stdout",
     "output_type": "stream",
     "text": [
      "              precision    recall  f1-score   support\n",
      "\n",
      "           0       0.72      0.66      0.69      8977\n",
      "           1       0.22      0.69      0.33       714\n",
      "           2       0.60      0.48      0.53     18031\n",
      "           3       0.50      0.61      0.55      2478\n",
      "           4       0.27      0.68      0.39       825\n",
      "           5       0.19      0.50      0.27      1605\n",
      "           6       0.31      0.50      0.38      3204\n",
      "           7       0.44      0.46      0.45      3102\n",
      "           8       0.70      0.64      0.67      7141\n",
      "           9       0.83      0.56      0.67      9119\n",
      "          10       0.34      0.62      0.44      1186\n",
      "          11       0.47      0.73      0.57      1805\n",
      "          12       0.55      0.70      0.62      5268\n",
      "          13       0.23      0.73      0.34      1374\n",
      "          14       0.84      0.72      0.78     26282\n",
      "          15       0.95      0.82      0.88     24130\n",
      "\n",
      "    accuracy                           0.66    115241\n",
      "   macro avg       0.51      0.63      0.54    115241\n",
      "weighted avg       0.72      0.66      0.68    115241\n",
      "\n"
     ]
    }
   ],
   "source": [
    "print(classification_report(y_test,y_pred))\n"
   ]
  },
  {
   "cell_type": "code",
   "execution_count": 40,
   "metadata": {},
   "outputs": [],
   "source": [
    "mat=confusion_matrix(y_test,y_pred)\n"
   ]
  },
  {
   "cell_type": "code",
   "execution_count": 42,
   "metadata": {},
   "outputs": [
    {
     "data": {
      "image/png": "[encoded data removed]",
      "text/plain": [
       "<Figure size 720x504 with 2 Axes>"
      ]
     },
     "metadata": {},
     "output_type": "display_data"
    }
   ],
   "source": [
    "df_cm = pd.DataFrame(mat, range(16), range(16))\n",
    "plt.figure(figsize=(10,7))\n",
    "sns.set(font_scale=1.4) # for label size\n",
    "sns.heatmap(df_cm, annot=True,fmt=\"d\", annot_kws={\"size\": 10},cmap=\"RdPu\",vmin=0, vmax=700) # font size\n",
    "\n",
    "plt.show()"
   ]
  },
  {
   "cell_type": "markdown",
   "metadata": {},
   "source": [
    "الگوریتم شماره 5"
   ]
  },
  {
   "cell_type": "markdown",
   "metadata": {},
   "source": [
    "xgboost"
   ]
  },
  {
   "cell_type": "code",
   "execution_count": 44,
   "metadata": {},
   "outputs": [
    {
     "name": "stderr",
     "output_type": "stream",
     "text": [
      "C:\\ProgramData\\Anaconda3\\lib\\site-packages\\dask\\dataframe\\utils.py:14: FutureWarning: pandas.util.testing is deprecated. Use the functions in the public API at pandas.testing instead.\n",
      "  import pandas.util.testing as tm\n"
     ]
    }
   ],
   "source": [
    "from xgboost import XGBClassifier\n"
   ]
  },
  {
   "cell_type": "code",
   "execution_count": 45,
   "metadata": {},
   "outputs": [],
   "source": [
    "model = XGBClassifier()\n"
   ]
  },
  {
   "cell_type": "code",
   "execution_count": 46,
   "metadata": {},
   "outputs": [
    {
     "data": {
      "text/plain": [
       "XGBClassifier(base_score=0.5, booster=None, colsample_bylevel=1,\n",
       "              colsample_bynode=1, colsample_bytree=1, gamma=0, gpu_id=-1,\n",
       "              importance_type='gain', interaction_constraints=None,\n",
       "              learning_rate=0.300000012, max_delta_step=0, max_depth=6,\n",
       "              min_child_weight=1, missing=nan, monotone_constraints=None,\n",
       "              n_estimators=100, n_jobs=0, num_parallel_tree=1,\n",
       "              objective='multi:softprob', random_state=0, reg_alpha=0,\n",
       "              reg_lambda=1, scale_pos_weight=None, subsample=1,\n",
       "              tree_method=None, validate_parameters=False, verbosity=None)"
      ]
     },
     "execution_count": 46,
     "metadata": {},
     "output_type": "execute_result"
    }
   ],
   "source": [
    "model.fit(X_train_normal, y_train)"
   ]
  },
  {
   "cell_type": "code",
   "execution_count": 47,
   "metadata": {},
   "outputs": [],
   "source": [
    "y_pred = model.predict(X_test_normal)\n"
   ]
  },
  {
   "cell_type": "code",
   "execution_count": 48,
   "metadata": {},
   "outputs": [
    {
     "name": "stdout",
     "output_type": "stream",
     "text": [
      "Accuracy: 0.7878446039170087\n"
     ]
    }
   ],
   "source": [
    "print(\"Accuracy:\",metrics.accuracy_score(y_test, y_pred))\n"
   ]
  },
  {
   "cell_type": "code",
   "execution_count": 49,
   "metadata": {},
   "outputs": [
    {
     "name": "stdout",
     "output_type": "stream",
     "text": [
      "              precision    recall  f1-score   support\n",
      "\n",
      "           0       0.78      0.78      0.78      8977\n",
      "           1       0.55      0.34      0.42       714\n",
      "           2       0.69      0.73      0.71     18031\n",
      "           3       0.74      0.65      0.69      2478\n",
      "           4       0.66      0.50      0.57       825\n",
      "           5       0.61      0.46      0.52      1605\n",
      "           6       0.46      0.39      0.42      3204\n",
      "           7       0.55      0.51      0.53      3102\n",
      "           8       0.74      0.74      0.74      7141\n",
      "           9       0.80      0.83      0.82      9119\n",
      "          10       0.82      0.63      0.71      1186\n",
      "          11       0.81      0.71      0.76      1805\n",
      "          12       0.69      0.69      0.69      5268\n",
      "          13       0.57      0.37      0.44      1374\n",
      "          14       0.83      0.88      0.85     26282\n",
      "          15       0.93      0.94      0.94     24130\n",
      "\n",
      "    accuracy                           0.79    115241\n",
      "   macro avg       0.70      0.63      0.66    115241\n",
      "weighted avg       0.78      0.79      0.78    115241\n",
      "\n"
     ]
    }
   ],
   "source": [
    "print(classification_report(y_test,y_pred))\n"
   ]
  },
  {
   "cell_type": "code",
   "execution_count": 50,
   "metadata": {},
   "outputs": [],
   "source": [
    "mat=confusion_matrix(y_test,y_pred)\n"
   ]
  },
  {
   "cell_type": "code",
   "execution_count": 52,
   "metadata": {},
   "outputs": [
    {
     "data": {
      "image/png": "[encoded data removed]",
      "text/plain": [
       "<Figure size 720x504 with 2 Axes>"
      ]
     },
     "metadata": {},
     "output_type": "display_data"
    }
   ],
   "source": [
    "df_cm = pd.DataFrame(mat, range(16), range(16))\n",
    "plt.figure(figsize=(10,7))\n",
    "sns.set(font_scale=1.4) # for label size\n",
    "sns.heatmap(df_cm, annot=True,fmt=\"d\", annot_kws={\"size\": 10},cmap=\"OrRd\",vmin=0, vmax=1000) # font size\n",
    "\n",
    "plt.show()"
   ]
  },
  {
   "cell_type": "code",
   "execution_count": null,
   "metadata": {},
   "outputs": [],
   "source": []
  }
 ],
 "metadata": {
  "kernelspec": {
   "display_name": "Python 3",
   "language": "python",
   "name": "python3"
  },
  "language_info": {
   "codemirror_mode": {
    "name": "ipython",
    "version": 3
   },
   "file_extension": ".py",
   "mimetype": "text/x-python",
   "name": "python",
   "nbconvert_exporter": "python",
   "pygments_lexer": "ipython3",
   "version": "3.6.5"
  }
 },
 "nbformat": 4,
 "nbformat_minor": 2
}
