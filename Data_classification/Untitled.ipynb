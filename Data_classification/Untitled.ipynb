{
 "cells": [
  {
   "cell_type": "code",
   "execution_count": 13,
   "metadata": {},
   "outputs": [
    {
     "data": {
      "text/plain": [
       "Text(0,0.5,'Susceptibles')"
      ]
     },
     "execution_count": 13,
     "metadata": {},
     "output_type": "execute_result"
    },
    {
     "data": {
      "image/png": "[encoded data removed]",
      "text/plain": [
       "<Figure size 432x288 with 1 Axes>"
      ]
     },
     "metadata": {},
     "output_type": "display_data"
    }
   ],
   "source": [
    "import scipy.integrate as spi\n",
    "import numpy as np\n",
    "import pylab as pl\n",
    "\n",
    "beta_w, beta_r = 1, 0.1\n",
    "gamma = 0.14286\n",
    "nou = 0.1\n",
    "miu = 0.1\n",
    "T = -0.01\n",
    "TS=1.0\n",
    "ND=70.0\n",
    "S0=0.8\n",
    "Iw0=0.1\n",
    "Ir0=0.1\n",
    "INPUT = (S0, Iw0, Ir0)\n",
    "\n",
    "\n",
    "def diff_eqs(INP,t):  \n",
    "\t'''The main set of equations'''\n",
    "\tY=np.zeros((3))\n",
    "\tV = INP    \n",
    "\tY[0] = nou - beta_w * V[0] * V[1] - beta_r * V[0] * V[2] - miu * V[0]\n",
    "\tY[1] = beta_w * V[0] * V[1] - (gamma + T) * V[1] - miu * V[1]\n",
    "\tY[2] = beta_r * V[0] * V[2] - gamma * V[2] - miu * V[2]\n",
    "\treturn Y   # For odeint\n",
    "\n",
    "t_start = 0.0; t_end = ND; t_inc = TS\n",
    "t_range = np.arange(t_start, t_end+t_inc, t_inc)\n",
    "RES = spi.odeint(diff_eqs,INPUT,t_range)\n",
    "\n",
    "\n",
    "\n",
    "#Ploting\n",
    "pl.subplot(211)\n",
    "pl.plot(RES[:,0], '-g', label='Susceptibles')\n",
    "#pl.plot(RES[:,2], '-k', label='Recovereds')\n",
    "pl.legend(loc=0)\n",
    "#pl.title('')\n",
    "pl.xlabel('Time')\n",
    "pl.ylabel('Susceptibles')\n",
    "#pl.subplot(212)\n",
    "#pl.plot(RES[:,1], '-r', label='Infectious')\n",
    "#pl.xlabel('Time')\n",
    "#pl.ylabel('Infectious')\n",
    "#pl.show()"
   ]
  },
  {
   "cell_type": "code",
   "execution_count": null,
   "metadata": {},
   "outputs": [],
   "source": []
  }
 ],
 "metadata": {
  "kernelspec": {
   "display_name": "Python 3",
   "language": "python",
   "name": "python3"
  },
  "language_info": {
   "codemirror_mode": {
    "name": "ipython",
    "version": 3
   },
   "file_extension": ".py",
   "mimetype": "text/x-python",
   "name": "python",
   "nbconvert_exporter": "python",
   "pygments_lexer": "ipython3",
   "version": "3.6.5"
  }
 },
 "nbformat": 4,
 "nbformat_minor": 2
}
