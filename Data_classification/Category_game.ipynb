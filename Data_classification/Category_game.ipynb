{
 "cells": [
  {
   "cell_type": "code",
   "execution_count": 5,
   "metadata": {},
   "outputs": [],
   "source": [
    "import pandas as pd\n",
    "import json as j\n",
    "import os"
   ]
  },
  {
   "cell_type": "code",
   "execution_count": 48,
   "metadata": {},
   "outputs": [],
   "source": [
    "def Category_SubCategory_maker(Giant_dict, path):\n",
    "    \n",
    "    Category, SubCategory, new_dict = list(), list(), dict()\n",
    "    \n",
    "    for key in list(Giant_dict.keys()):\n",
    "        new_dict[key] = list()\n",
    "        new_dict[key].extend(Giant_dict[key])\n",
    "    \n",
    "    for i in range(len(Giant_dict[\"title\"])):\n",
    "        temp = \"\"\n",
    "        Category.append(Giant_dict[\"categories\"][i].split())\n",
    "        for cat in Giant_dict[\"categories\"][i].split():\n",
    "            if cat.find(\".\") != -1:\n",
    "                temp += \" \" + cat[:cat.find(\".\")]\n",
    "            elif cat.find(\".\") == -1:\n",
    "                temp += \" \" + cat\n",
    "        SubCategory.append(temp.split())\n",
    "    new_dict[\"category\"] = Category\n",
    "    new_dict[\"sub category\"] = SubCategory\n",
    "    \n",
    "    with open(path+\"/Giant.json\", 'w') as f:\n",
    "        j.dump(new_dict, f)\n",
    "    \n",
    "    return "
   ]
  },
  {
   "cell_type": "code",
   "execution_count": 45,
   "metadata": {},
   "outputs": [],
   "source": [
    "def Category_game():\n",
    " \n",
    "    Giant_path = input(\"Enter the path of the Giant : \")\n",
    "    output_Giant_path = input(\"Enter the path that you want to save new files(with no / at the end) : \")\n",
    "    Giant_dict = dict(pd.read_json(Giant_path))\n",
    "    keys = [\"identifier\", \"datestamp\", \"setSpec\", \"id\", \"created\", \"updated\", \"authors\", \"title\", \"categories\", \"comments\", \"journal-ref\", \"doi\", \"abstract\"]\n",
    "    Category_dict = dict()\n",
    "\n",
    "    for Cat in Giant_dict[\"categories\"]:\n",
    "        for cat in Cat.split():\n",
    "            if cat.find(\".\") != -1:\n",
    "                if cat[:cat.find(\".\")] not in list(Category_dict.keys()):\n",
    "                    Category_dict[cat[:cat.find(\".\")]] = {cat[:cat.find(\".\")] : dict(), cat : dict()}\n",
    "                elif cat[:cat.find(\".\")] in Category_dict:\n",
    "                    if cat not in list(Category_dict[cat[:cat.find(\".\")]].keys()):\n",
    "                        Category_dict[cat[:cat.find(\".\")]][cat] = dict()\n",
    "            elif cat.find(\".\") == -1:\n",
    "                if cat not in list(Category_dict.keys()):\n",
    "                    Category_dict[cat] = dict()\n",
    "                    Category_dict[cat][cat] = dict()\n",
    "  \n",
    "    for i in range(len(Giant_dict[\"id\"])):\n",
    "        for cat in Giant_dict[\"categories\"][i].split():\n",
    "            if cat.find(\".\") != -1:\n",
    "                if len(list(Category_dict[cat[:cat.find(\".\")]][cat].keys())) == 0:\n",
    "                    for key in keys:\n",
    "                        Category_dict[cat[:cat.find(\".\")]][cat][key] = [Giant_dict[key][i]]\n",
    "                elif len(list(Category_dict[cat[:cat.find(\".\")]][cat].keys())) != 0:\n",
    "                    for key in keys:\n",
    "                        Category_dict[cat[:cat.find(\".\")]][cat][key].append(Giant_dict[key][i])\n",
    "            elif cat.find(\".\") == -1:\n",
    "                if len(list(Category_dict[cat][cat].keys())) == 0:\n",
    "                    for key in keys:\n",
    "                        Category_dict[cat][cat][key] = [Giant_dict[key][i]]\n",
    "                elif len(list(Category_dict[cat][cat].keys())) != 0:\n",
    "                    for key in keys:\n",
    "                        Category_dict[cat][cat][key].append(Giant_dict[key][i])\n",
    "    address = output_Giant_path+\"/KOochoOlOoOha\"\n",
    "    os.makedirs(address)\n",
    "    for sub_cat in list(Category_dict.keys()):\n",
    "        Path = address+\"/\"+sub_cat\n",
    "        os.makedirs(Path)\n",
    "        for cat in list(Category_dict[sub_cat].keys()):\n",
    "            if cat == sub_cat:\n",
    "                os.makedirs(Path+\"/SubCat\")\n",
    "                path = Path+\"/SubCat/\"+cat+\".json\"\n",
    "                with open(path, 'w') as f:\n",
    "                    j.dump(Category_dict[sub_cat][cat], f)\n",
    "            elif cat != sub_cat:\n",
    "                path = Path+\"/\"+cat+\".json\"\n",
    "                with open(path, 'w') as f:\n",
    "                    j.dump(Category_dict[sub_cat][cat], f)\n",
    "        \n",
    "    path = output_Giant_path+\"/Giant with Category and SubCategory\"\n",
    "    os.makedirs(path)\n",
    "    Category_SubCategory_maker(Giant_dict, path)\n",
    "                         \n",
    "    return "
   ]
  },
  {
   "cell_type": "code",
   "execution_count": 32,
   "metadata": {},
   "outputs": [
    {
     "name": "stdout",
     "output_type": "stream",
     "text": [
      "Enter the path of the Giant : D:/kkkk/term 8/Machine Learning/project/arXiv-project/DataSets/arxix-metadata-2019/2019-01count5877.json\n",
      "Enter the path that you want to save new files(with no / at the end) : D:/kkkk/term 8/Machine Learning/new\n"
     ]
    }
   ],
   "source": [
    "Category_game()"
   ]
  },
  {
   "cell_type": "code",
   "execution_count": null,
   "metadata": {},
   "outputs": [],
   "source": []
  }
 ],
 "metadata": {
  "kernelspec": {
   "display_name": "Python 3",
   "language": "python",
   "name": "python3"
  },
  "language_info": {
   "codemirror_mode": {
    "name": "ipython",
    "version": 3
   },
   "file_extension": ".py",
   "mimetype": "text/x-python",
   "name": "python",
   "nbconvert_exporter": "python",
   "pygments_lexer": "ipython3",
   "version": "3.6.5"
  }
 },
 "nbformat": 4,
 "nbformat_minor": 2
}
