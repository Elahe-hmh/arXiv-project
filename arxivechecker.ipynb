{
 "cells": [
  {
   "cell_type": "code",
   "execution_count": 1,
   "metadata": {},
   "outputs": [],
   "source": [
    "#A Python module to search arXiv.org\n"
   ]
  },
  {
   "cell_type": "code",
   "execution_count": null,
   "metadata": {},
   "outputs": [],
   "source": [
    "import arxivchecker"
   ]
  },
  {
   "cell_type": "code",
   "execution_count": 2,
   "metadata": {},
   "outputs": [
    {
     "name": "stdout",
     "output_type": "stream",
     "text": [
      "\tChecking http://arxiv.org/list/astro-ph/new\n",
      "\tChecking http://arxiv.org/list/gr-qc/new\n",
      "\tChecking http://arxiv.org/list/physics/new\n",
      "No results.\n"
     ]
    }
   ],
   "source": [
    "#most recent mailings of several arXiv subjects against a list of authors\n",
    "papers = arxivchecker.check_authors(['astro-ph', 'gr-qc', 'physics'], ['Smith, John', 'Doe, Jane'])\n"
   ]
  },
  {
   "cell_type": "code",
   "execution_count": 4,
   "metadata": {},
   "outputs": [
    {
     "name": "stdout",
     "output_type": "stream",
     "text": [
      "\tChecking http://arxiv.org/list/astro-ph/new\n",
      "\tChecking http://arxiv.org/list/gr-qc/new\n",
      "\tChecking http://arxiv.org/list/physics/new\n",
      "No results.\n"
     ]
    }
   ],
   "source": [
    "#check against a long list of names, use a file\n",
    "papers = arxivchecker.check_authors(['astro-ph', 'gr-qc', 'physics'], 'names.txt')\n"
   ]
  },
  {
   "cell_type": "code",
   "execution_count": 5,
   "metadata": {},
   "outputs": [
    {
     "name": "stdout",
     "output_type": "stream",
     "text": [
      "\tChecking http://arxiv.org/list/astro-ph/new\n",
      "Found 1 paper\n",
      "3 hits\n",
      "['hot jupiter']\n",
      "\n",
      "%%%%%%%%%%%%%%%%%%%%%%%%%%%%%%%%%%%%%%%%%%%%%%%%%%%%%%%%%%%%%%%%%%%%%%%%%%%%%%%%%%%%%%%%%%%%%%\n",
      "%%%                                                                                        %%%\n",
      "%%%    Strong biases in retrieved atmospheric composition caused by strong  day-night c-    %%%\n",
      "%%%    hemical heterogeneities                                                             %%%\n",
      "%%%                                                                                        %%%\n",
      "%%%    http://arxiv.org/abs/2003.05943                                                     %%%\n",
      "%%%                                                                                        %%%\n",
      "%%%    William Pluriel, Tiziano Zingales, Jérémy Leconte, & Vivien Parmentier              %%%\n",
      "%%%                                                                                        %%%\n",
      "%%%%%%%%%%%%%%%%%%%%%%%%%%%%%%%%%%%%%%%%%%%%%%%%%%%%%%%%%%%%%%%%%%%%%%%%%%%%%%%%%%%%%%%%%%%%%%\n",
      "\n",
      "\n"
     ]
    }
   ],
   "source": [
    "#instead of names, you want to check each paper against a list of keywords in the title and abstract \n",
    "papers = arxivchecker.check_keywords('astro-ph', ['Planet Formation','Hot Jupiter'])\n"
   ]
  },
  {
   "cell_type": "code",
   "execution_count": 6,
   "metadata": {},
   "outputs": [
    {
     "name": "stdout",
     "output_type": "stream",
     "text": [
      "\tChecking http://arxiv.org/list/astro-ph/new\n",
      "\tParsing data...\n",
      "No results.\n"
     ]
    }
   ],
   "source": [
    "#grab all of the papers\n",
    "papers = arxivchecker.scrape_arxiv('astro-ph')\n",
    "results = arxivchecker.check_authors_from_papers(papers, 'Doe, Jane')\n"
   ]
  },
  {
   "cell_type": "code",
   "execution_count": 7,
   "metadata": {},
   "outputs": [
    {
     "name": "stdout",
     "output_type": "stream",
     "text": [
      "\tChecking http://arxiv.org/list/astro-ph/new\n",
      "\tParsing data...\n",
      "No results.\n"
     ]
    }
   ],
   "source": [
    "papers = arxivchecker.scrape_arxiv('astro-ph')\n",
    "results = arxivchecker.check_keywords_from_papers(papers, ['GJ876','Gilese-876'])"
   ]
  },
  {
   "cell_type": "code",
   "execution_count": 8,
   "metadata": {},
   "outputs": [
    {
     "name": "stdout",
     "output_type": "stream",
     "text": [
      "\tChecking http://arxiv.org/list/?year=16&month=06&archive=astro-ph&show=200\n",
      "\tParsing data...\n",
      "\tChecking http://arxiv.org/list/?year=16&month=05&archive=astro-ph&show=200\n",
      "\tParsing data...\n"
     ]
    }
   ],
   "source": [
    "#grab all of the papers from a given month\n",
    "papers = arxivchecker.scrape_arxiv('astro-ph',year=2016,month=6) # June 2016\n",
    "papers = arxivchecker.scrape_arxiv('astro-ph',year=2016,month='May') # May 2016"
   ]
  },
  {
   "cell_type": "code",
   "execution_count": 9,
   "metadata": {},
   "outputs": [
    {
     "name": "stdout",
     "output_type": "stream",
     "text": [
      "\tChecking http://arxiv.org/list/?year=16&month=all&archive=astro-ph&show=200\n",
      "\tParsing data...\n"
     ]
    }
   ],
   "source": [
    "#grab all of the papers for a given year\n",
    "papers = arxivchecker.scrape_arxiv('astro-ph',year=2016,month='all')"
   ]
  },
  {
   "cell_type": "code",
   "execution_count": 12,
   "metadata": {},
   "outputs": [],
   "source": [
    "#To email the results use the Unix mail command\n",
    "#mail -s \"Arxiv Mailing\" email@gmail.com < results.txt"
   ]
  },
  {
   "cell_type": "code",
   "execution_count": null,
   "metadata": {},
   "outputs": [],
   "source": []
  }
 ],
 "metadata": {
  "kernelspec": {
   "display_name": "Python 3",
   "language": "python",
   "name": "python3"
  },
  "language_info": {
   "codemirror_mode": {
    "name": "ipython",
    "version": 3
   },
   "file_extension": ".py",
   "mimetype": "text/x-python",
   "name": "python",
   "nbconvert_exporter": "python",
   "pygments_lexer": "ipython3",
   "version": "3.7.3"
  }
 },
 "nbformat": 4,
 "nbformat_minor": 2
}
