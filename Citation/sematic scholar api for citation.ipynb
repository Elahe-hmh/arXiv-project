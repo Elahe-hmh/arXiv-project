{
 "cells": [
  {
   "cell_type": "code",
   "execution_count": 1,
   "metadata": {},
   "outputs": [],
   "source": [
    "import json\n",
    "import re\n",
    "import pandas as pd\n",
    "import urllib\n",
    "import sys\n",
    "from datetime import date\n"
   ]
  },
  {
   "cell_type": "code",
   "execution_count": 23,
   "metadata": {},
   "outputs": [],
   "source": [
    "def semantic_scholar_api(id):\n",
    "    \"\"\" Uses the sematic scholar api to get metadata and citation infrmation from semantic scholar\n",
    "    \n",
    "    Args:\n",
    "        id (TYPE): arxiv id\n",
    "    \n",
    "    Returns:\n",
    "        dict: metadata as a dict. None if paper not found\n",
    "    \"\"\"\n",
    "    while True:\n",
    "        try:\n",
    "            query = \"http://api.semanticscholar.org/v1/paper/arXiv:id\"\n",
    "            print(query)\n",
    "            with urllib.request.urlopen(query) as url:\n",
    "                data = json.loads(url.read().decode())\n",
    "                data['arxiv_id'] = id\n",
    "                if 'error' in data:\n",
    "                    return None\n",
    "                break\n",
    "        except urllib.error.URLError as e:\n",
    "            print(\"paper not found\")\n",
    "            return None\n",
    "\n",
    "    return data\n",
    "\n"
   ]
  },
  {
   "cell_type": "code",
   "execution_count": 50,
   "metadata": {},
   "outputs": [
    {
     "name": "stdout",
     "output_type": "stream",
     "text": [
      "http://api.semanticscholar.org/v1/paper/arXiv:1705.10311\n"
     ]
    },
    {
     "data": {
      "text/html": [
       "<div>\n",
       "<style scoped>\n",
       "    .dataframe tbody tr th:only-of-type {\n",
       "        vertical-align: middle;\n",
       "    }\n",
       "\n",
       "    .dataframe tbody tr th {\n",
       "        vertical-align: top;\n",
       "    }\n",
       "\n",
       "    .dataframe thead th {\n",
       "        text-align: right;\n",
       "    }\n",
       "</style>\n",
       "<table border=\"1\" class=\"dataframe\">\n",
       "  <thead>\n",
       "    <tr style=\"text-align: right;\">\n",
       "      <th></th>\n",
       "      <th>abstract</th>\n",
       "      <th>arxivId</th>\n",
       "      <th>authors</th>\n",
       "      <th>citationVelocity</th>\n",
       "      <th>citations</th>\n",
       "      <th>corpusId</th>\n",
       "      <th>doi</th>\n",
       "      <th>fieldsOfStudy</th>\n",
       "      <th>influentialCitationCount</th>\n",
       "      <th>is_open_access</th>\n",
       "      <th>is_publisher_licensed</th>\n",
       "      <th>paperId</th>\n",
       "      <th>references</th>\n",
       "      <th>title</th>\n",
       "      <th>topics</th>\n",
       "      <th>url</th>\n",
       "      <th>venue</th>\n",
       "      <th>year</th>\n",
       "      <th>arxiv_id</th>\n",
       "    </tr>\n",
       "  </thead>\n",
       "  <tbody>\n",
       "    <tr>\n",
       "      <td>0</td>\n",
       "      <td>Shape priors have been widely utilized in medi...</td>\n",
       "      <td>1705.10311</td>\n",
       "      <td>[{'authorId': '3324024', 'name': 'Junjie Bai',...</td>\n",
       "      <td>0</td>\n",
       "      <td>[{'arxivId': None, 'authors': [{'authorId': '2...</td>\n",
       "      <td>10595067</td>\n",
       "      <td>10.1016/j.compmedimag.2018.08.004</td>\n",
       "      <td>[Computer Science, Medicine]</td>\n",
       "      <td>0</td>\n",
       "      <td>True</td>\n",
       "      <td>True</td>\n",
       "      <td>47be321bff23f73c71d7e5716cd107ead087c3ae</td>\n",
       "      <td>[{'arxivId': None, 'authors': [{'authorId': '3...</td>\n",
       "      <td>Optimal Multi-Object Segmentation with Novel G...</td>\n",
       "      <td>[{'topic': 'Gradient', 'topicId': '3221', 'url...</td>\n",
       "      <td>https://www.semanticscholar.org/paper/47be321b...</td>\n",
       "      <td>Comput. Medical Imaging Graph.</td>\n",
       "      <td>2017</td>\n",
       "      <td>709.035</td>\n",
       "    </tr>\n",
       "  </tbody>\n",
       "</table>\n",
       "</div>"
      ],
      "text/plain": [
       "                                            abstract     arxivId  \\\n",
       "0  Shape priors have been widely utilized in medi...  1705.10311   \n",
       "\n",
       "                                             authors citationVelocity  \\\n",
       "0  [{'authorId': '3324024', 'name': 'Junjie Bai',...                0   \n",
       "\n",
       "                                           citations  corpusId  \\\n",
       "0  [{'arxivId': None, 'authors': [{'authorId': '2...  10595067   \n",
       "\n",
       "                                 doi                 fieldsOfStudy  \\\n",
       "0  10.1016/j.compmedimag.2018.08.004  [Computer Science, Medicine]   \n",
       "\n",
       "  influentialCitationCount is_open_access is_publisher_licensed  \\\n",
       "0                        0           True                  True   \n",
       "\n",
       "                                    paperId  \\\n",
       "0  47be321bff23f73c71d7e5716cd107ead087c3ae   \n",
       "\n",
       "                                          references  \\\n",
       "0  [{'arxivId': None, 'authors': [{'authorId': '3...   \n",
       "\n",
       "                                               title  \\\n",
       "0  Optimal Multi-Object Segmentation with Novel G...   \n",
       "\n",
       "                                              topics  \\\n",
       "0  [{'topic': 'Gradient', 'topicId': '3221', 'url...   \n",
       "\n",
       "                                                 url  \\\n",
       "0  https://www.semanticscholar.org/paper/47be321b...   \n",
       "\n",
       "                            venue  year arxiv_id  \n",
       "0  Comput. Medical Imaging Graph.  2017  709.035  "
      ]
     },
     "execution_count": 50,
     "metadata": {},
     "output_type": "execute_result"
    }
   ],
   "source": [
    "r=semantic_scholar_api(0709.0355)\n",
    "df=pd.DataFrame.from_dict(r,orient='index')\n",
    "df.transpose()"
   ]
  },
  {
   "cell_type": "code",
   "execution_count": 51,
   "metadata": {},
   "outputs": [
    {
     "data": {
      "text/plain": [
       "[{'arxivId': None,\n",
       "  'authors': [{'authorId': '29338988',\n",
       "    'name': 'Leissi Margarita Castañeda Leon',\n",
       "    'url': 'https://www.semanticscholar.org/author/29338988'}],\n",
       "  'doi': '10.5753/sibgrapi.est.2019.8301',\n",
       "  'intent': [],\n",
       "  'isInfluential': False,\n",
       "  'paperId': 'b5e7fc776168aee2ade89b0da49d135512d86493',\n",
       "  'title': 'Efficient hierarchical layered graph approach for multi-region segmentation',\n",
       "  'url': 'https://www.semanticscholar.org/paper/b5e7fc776168aee2ade89b0da49d135512d86493',\n",
       "  'venue': '',\n",
       "  'year': 2019}]"
      ]
     },
     "execution_count": 51,
     "metadata": {},
     "output_type": "execute_result"
    }
   ],
   "source": [
    "cit=r.get(\"citations\")\n",
    "cit"
   ]
  },
  {
   "cell_type": "code",
   "execution_count": 46,
   "metadata": {},
   "outputs": [
    {
     "data": {
      "text/html": [
       "<div>\n",
       "<style scoped>\n",
       "    .dataframe tbody tr th:only-of-type {\n",
       "        vertical-align: middle;\n",
       "    }\n",
       "\n",
       "    .dataframe tbody tr th {\n",
       "        vertical-align: top;\n",
       "    }\n",
       "\n",
       "    .dataframe thead th {\n",
       "        text-align: right;\n",
       "    }\n",
       "</style>\n",
       "<table border=\"1\" class=\"dataframe\">\n",
       "  <thead>\n",
       "    <tr style=\"text-align: right;\">\n",
       "      <th></th>\n",
       "      <th>arxivId</th>\n",
       "      <th>authors</th>\n",
       "      <th>doi</th>\n",
       "      <th>intent</th>\n",
       "      <th>isInfluential</th>\n",
       "      <th>paperId</th>\n",
       "      <th>title</th>\n",
       "      <th>url</th>\n",
       "      <th>venue</th>\n",
       "      <th>year</th>\n",
       "    </tr>\n",
       "  </thead>\n",
       "  <tbody>\n",
       "    <tr>\n",
       "      <td>0</td>\n",
       "      <td>None</td>\n",
       "      <td>[{'authorId': '29338988', 'name': 'Leissi Marg...</td>\n",
       "      <td>10.5753/sibgrapi.est.2019.8301</td>\n",
       "      <td>[]</td>\n",
       "      <td>False</td>\n",
       "      <td>b5e7fc776168aee2ade89b0da49d135512d86493</td>\n",
       "      <td>Efficient hierarchical layered graph approach ...</td>\n",
       "      <td>https://www.semanticscholar.org/paper/b5e7fc77...</td>\n",
       "      <td></td>\n",
       "      <td>2019</td>\n",
       "    </tr>\n",
       "  </tbody>\n",
       "</table>\n",
       "</div>"
      ],
      "text/plain": [
       "  arxivId                                            authors  \\\n",
       "0    None  [{'authorId': '29338988', 'name': 'Leissi Marg...   \n",
       "\n",
       "                              doi intent  isInfluential  \\\n",
       "0  10.5753/sibgrapi.est.2019.8301     []          False   \n",
       "\n",
       "                                    paperId  \\\n",
       "0  b5e7fc776168aee2ade89b0da49d135512d86493   \n",
       "\n",
       "                                               title  \\\n",
       "0  Efficient hierarchical layered graph approach ...   \n",
       "\n",
       "                                                 url venue  year  \n",
       "0  https://www.semanticscholar.org/paper/b5e7fc77...        2019  "
      ]
     },
     "execution_count": 46,
     "metadata": {},
     "output_type": "execute_result"
    }
   ],
   "source": [
    "cit_df=pd.DataFrame(cit)\n",
    "cit_df"
   ]
  },
  {
   "cell_type": "code",
   "execution_count": null,
   "metadata": {},
   "outputs": [],
   "source": []
  }
 ],
 "metadata": {
  "kernelspec": {
   "display_name": "Python 3",
   "language": "python",
   "name": "python3"
  },
  "language_info": {
   "codemirror_mode": {
    "name": "ipython",
    "version": 3
   },
   "file_extension": ".py",
   "mimetype": "text/x-python",
   "name": "python",
   "nbconvert_exporter": "python",
   "pygments_lexer": "ipython3",
   "version": "3.7.4"
  }
 },
 "nbformat": 4,
 "nbformat_minor": 2
}
