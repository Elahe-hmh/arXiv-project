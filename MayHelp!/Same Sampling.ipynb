{
 "cells": [
  {
   "cell_type": "code",
   "execution_count": 1,
   "metadata": {},
   "outputs": [],
   "source": [
    "import pandas as pd"
   ]
  },
  {
   "cell_type": "code",
   "execution_count": 2,
   "metadata": {},
   "outputs": [
    {
     "data": {
      "text/html": [
       "<div>\n",
       "<style scoped>\n",
       "    .dataframe tbody tr th:only-of-type {\n",
       "        vertical-align: middle;\n",
       "    }\n",
       "\n",
       "    .dataframe tbody tr th {\n",
       "        vertical-align: top;\n",
       "    }\n",
       "\n",
       "    .dataframe thead th {\n",
       "        text-align: right;\n",
       "    }\n",
       "</style>\n",
       "<table border=\"1\" class=\"dataframe\">\n",
       "  <thead>\n",
       "    <tr style=\"text-align: right;\">\n",
       "      <th></th>\n",
       "      <th>identifier</th>\n",
       "      <th>datestamp</th>\n",
       "      <th>setSpec</th>\n",
       "      <th>id</th>\n",
       "      <th>created</th>\n",
       "      <th>updated</th>\n",
       "      <th>authors</th>\n",
       "      <th>title</th>\n",
       "      <th>categories</th>\n",
       "      <th>comments</th>\n",
       "      <th>journal-ref</th>\n",
       "      <th>doi</th>\n",
       "      <th>abstract</th>\n",
       "    </tr>\n",
       "  </thead>\n",
       "  <tbody>\n",
       "    <tr>\n",
       "      <td>0</td>\n",
       "      <td>oai:arXiv.org:1411.7040</td>\n",
       "      <td>2014-11-28</td>\n",
       "      <td>physics</td>\n",
       "      <td>1411.7</td>\n",
       "      <td>2014-11-25</td>\n",
       "      <td>None</td>\n",
       "      <td>{'keyname': ['Degrassi', 'Gambino', 'Giardino'...</td>\n",
       "      <td>The $m_{\\scriptscriptstyle W}-m_{\\scriptscript...</td>\n",
       "      <td>hep-ph</td>\n",
       "      <td>21 pages, 1 figure</td>\n",
       "      <td>None</td>\n",
       "      <td>None</td>\n",
       "      <td>The $m_{\\scriptscriptstyle W}-m_{\\scriptscri...</td>\n",
       "    </tr>\n",
       "  </tbody>\n",
       "</table>\n",
       "</div>"
      ],
      "text/plain": [
       "                identifier   datestamp  setSpec      id     created updated  \\\n",
       "0  oai:arXiv.org:1411.7040  2014-11-28  physics  1411.7  2014-11-25    None   \n",
       "\n",
       "                                             authors  \\\n",
       "0  {'keyname': ['Degrassi', 'Gambino', 'Giardino'...   \n",
       "\n",
       "                                               title categories  \\\n",
       "0  The $m_{\\scriptscriptstyle W}-m_{\\scriptscript...     hep-ph   \n",
       "\n",
       "             comments journal-ref   doi  \\\n",
       "0  21 pages, 1 figure        None  None   \n",
       "\n",
       "                                            abstract  \n",
       "0    The $m_{\\scriptscriptstyle W}-m_{\\scriptscri...  "
      ]
     },
     "execution_count": 2,
     "metadata": {},
     "output_type": "execute_result"
    }
   ],
   "source": [
    "df_long=pd.read_json('merged_14.json')\n",
    "df_long.head(1)"
   ]
  },
  {
   "cell_type": "code",
   "execution_count": 3,
   "metadata": {},
   "outputs": [
    {
     "data": {
      "text/html": [
       "<div>\n",
       "<style scoped>\n",
       "    .dataframe tbody tr th:only-of-type {\n",
       "        vertical-align: middle;\n",
       "    }\n",
       "\n",
       "    .dataframe tbody tr th {\n",
       "        vertical-align: top;\n",
       "    }\n",
       "\n",
       "    .dataframe thead th {\n",
       "        text-align: right;\n",
       "    }\n",
       "</style>\n",
       "<table border=\"1\" class=\"dataframe\">\n",
       "  <thead>\n",
       "    <tr style=\"text-align: right;\">\n",
       "      <th></th>\n",
       "      <th>title</th>\n",
       "      <th>categories</th>\n",
       "      <th>doi</th>\n",
       "      <th>abstract</th>\n",
       "    </tr>\n",
       "  </thead>\n",
       "  <tbody>\n",
       "    <tr>\n",
       "      <td>0</td>\n",
       "      <td>The $m_{\\scriptscriptstyle W}-m_{\\scriptscript...</td>\n",
       "      <td>hep-ph</td>\n",
       "      <td>None</td>\n",
       "      <td>The $m_{\\scriptscriptstyle W}-m_{\\scriptscri...</td>\n",
       "    </tr>\n",
       "    <tr>\n",
       "      <td>1</td>\n",
       "      <td>Comments on Hastings' Additivity Counterexamples</td>\n",
       "      <td>quant-ph</td>\n",
       "      <td>10.1007/s00220-010-0996-9</td>\n",
       "      <td>Hastings recently provided a proof of the ex...</td>\n",
       "    </tr>\n",
       "    <tr>\n",
       "      <td>2</td>\n",
       "      <td>An application of decomposable maps in proving...</td>\n",
       "      <td>quant-ph</td>\n",
       "      <td>10.1063/1.3277186</td>\n",
       "      <td>In this paper we present a class of maps for...</td>\n",
       "    </tr>\n",
       "    <tr>\n",
       "      <td>3</td>\n",
       "      <td>On the peculiarity of the Coulomb gauge</td>\n",
       "      <td>physics.class-ph physics.gen-ph</td>\n",
       "      <td>None</td>\n",
       "      <td>In an earlier paper we provided an alternati...</td>\n",
       "    </tr>\n",
       "    <tr>\n",
       "      <td>4</td>\n",
       "      <td>Entanglement of random subspaces via the Hasti...</td>\n",
       "      <td>quant-ph</td>\n",
       "      <td>10.1063/1.3309418</td>\n",
       "      <td>Recently Hastings proved the existence of ra...</td>\n",
       "    </tr>\n",
       "  </tbody>\n",
       "</table>\n",
       "</div>"
      ],
      "text/plain": [
       "                                               title  \\\n",
       "0  The $m_{\\scriptscriptstyle W}-m_{\\scriptscript...   \n",
       "1   Comments on Hastings' Additivity Counterexamples   \n",
       "2  An application of decomposable maps in proving...   \n",
       "3            On the peculiarity of the Coulomb gauge   \n",
       "4  Entanglement of random subspaces via the Hasti...   \n",
       "\n",
       "                        categories                        doi  \\\n",
       "0                           hep-ph                       None   \n",
       "1                         quant-ph  10.1007/s00220-010-0996-9   \n",
       "2                         quant-ph          10.1063/1.3277186   \n",
       "3  physics.class-ph physics.gen-ph                       None   \n",
       "4                         quant-ph          10.1063/1.3309418   \n",
       "\n",
       "                                            abstract  \n",
       "0    The $m_{\\scriptscriptstyle W}-m_{\\scriptscri...  \n",
       "1    Hastings recently provided a proof of the ex...  \n",
       "2    In this paper we present a class of maps for...  \n",
       "3    In an earlier paper we provided an alternati...  \n",
       "4    Recently Hastings proved the existence of ra...  "
      ]
     },
     "execution_count": 3,
     "metadata": {},
     "output_type": "execute_result"
    }
   ],
   "source": [
    "dff=df_long.drop(['identifier','datestamp','setSpec','created','id'],axis=1)\n",
    "df=dff.drop(['updated','authors','comments','journal-ref'],axis=1)\n",
    "df.head()"
   ]
  },
  {
   "cell_type": "code",
   "execution_count": 4,
   "metadata": {},
   "outputs": [],
   "source": [
    "def stratified_sample_df(df, col, n_samples):\n",
    "    n = min(n_samples, df[col].value_counts().min())\n",
    "    df_ = df.groupby(col).apply(lambda x: x.sample(n))\n",
    "    df_.index = df_.index.droplevel(0)\n",
    "    return df_\n",
    "\n",
    "df_sample=stratified_sample_df(df,'categories',2000)"
   ]
  },
  {
   "cell_type": "code",
   "execution_count": 5,
   "metadata": {},
   "outputs": [
    {
     "name": "stdout",
     "output_type": "stream",
     "text": [
      "physics.soc-ph math.NA physics.comp-ph       0.000212\n",
      "cond-mat.other physics.plasm-ph              0.000212\n",
      "hep-ph hep-th physics.atom-ph quant-ph       0.000212\n",
      "quant-ph math.AG                             0.000212\n",
      "quant-ph cs.LO                               0.000212\n",
      "                                               ...   \n",
      "cond-mat.str-el cond-mat.mtrl-sci nlin.PS    0.000212\n",
      "stat.CO physics.data-an                      0.000212\n",
      "cond-mat.mes-hall gr-qc hep-th               0.000212\n",
      "cs.SI cs.DB physics.soc-ph stat.AP           0.000212\n",
      "physics.gen-ph quant-ph                      0.000212\n",
      "Name: categories, Length: 4724, dtype: float64\n"
     ]
    }
   ],
   "source": [
    "cats_sample=df_sample[\"categories\"].value_counts(normalize=True,ascending=False)\n",
    "print(cats_sample)"
   ]
  },
  {
   "cell_type": "code",
   "execution_count": null,
   "metadata": {},
   "outputs": [],
   "source": []
  }
 ],
 "metadata": {
  "kernelspec": {
   "display_name": "Python 3",
   "language": "python",
   "name": "python3"
  },
  "language_info": {
   "codemirror_mode": {
    "name": "ipython",
    "version": 3
   },
   "file_extension": ".py",
   "mimetype": "text/x-python",
   "name": "python",
   "nbconvert_exporter": "python",
   "pygments_lexer": "ipython3",
   "version": "3.7.4"
  }
 },
 "nbformat": 4,
 "nbformat_minor": 2
}
