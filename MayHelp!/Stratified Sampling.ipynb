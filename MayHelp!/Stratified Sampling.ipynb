{
 "cells": [
  {
   "cell_type": "code",
   "execution_count": 1,
   "metadata": {},
   "outputs": [],
   "source": [
    "import pandas as pd"
   ]
  },
  {
   "cell_type": "code",
   "execution_count": 96,
   "metadata": {},
   "outputs": [
    {
     "data": {
      "text/html": [
       "<div>\n",
       "<style scoped>\n",
       "    .dataframe tbody tr th:only-of-type {\n",
       "        vertical-align: middle;\n",
       "    }\n",
       "\n",
       "    .dataframe tbody tr th {\n",
       "        vertical-align: top;\n",
       "    }\n",
       "\n",
       "    .dataframe thead th {\n",
       "        text-align: right;\n",
       "    }\n",
       "</style>\n",
       "<table border=\"1\" class=\"dataframe\">\n",
       "  <thead>\n",
       "    <tr style=\"text-align: right;\">\n",
       "      <th></th>\n",
       "      <th>identifier</th>\n",
       "      <th>datestamp</th>\n",
       "      <th>setSpec</th>\n",
       "      <th>id</th>\n",
       "      <th>created</th>\n",
       "      <th>updated</th>\n",
       "      <th>authors</th>\n",
       "      <th>title</th>\n",
       "      <th>categories</th>\n",
       "      <th>comments</th>\n",
       "      <th>journal-ref</th>\n",
       "      <th>doi</th>\n",
       "      <th>abstract</th>\n",
       "    </tr>\n",
       "  </thead>\n",
       "  <tbody>\n",
       "    <tr>\n",
       "      <td>0</td>\n",
       "      <td>oai:arXiv.org:1411.7040</td>\n",
       "      <td>2014-11-28</td>\n",
       "      <td>physics</td>\n",
       "      <td>1411.7</td>\n",
       "      <td>2014-11-25</td>\n",
       "      <td>None</td>\n",
       "      <td>{'keyname': ['Degrassi', 'Gambino', 'Giardino'...</td>\n",
       "      <td>The $m_{\\scriptscriptstyle W}-m_{\\scriptscript...</td>\n",
       "      <td>hep-ph</td>\n",
       "      <td>21 pages, 1 figure</td>\n",
       "      <td>None</td>\n",
       "      <td>None</td>\n",
       "      <td>The $m_{\\scriptscriptstyle W}-m_{\\scriptscri...</td>\n",
       "    </tr>\n",
       "  </tbody>\n",
       "</table>\n",
       "</div>"
      ],
      "text/plain": [
       "                identifier   datestamp  setSpec      id     created updated  \\\n",
       "0  oai:arXiv.org:1411.7040  2014-11-28  physics  1411.7  2014-11-25    None   \n",
       "\n",
       "                                             authors  \\\n",
       "0  {'keyname': ['Degrassi', 'Gambino', 'Giardino'...   \n",
       "\n",
       "                                               title categories  \\\n",
       "0  The $m_{\\scriptscriptstyle W}-m_{\\scriptscript...     hep-ph   \n",
       "\n",
       "             comments journal-ref   doi  \\\n",
       "0  21 pages, 1 figure        None  None   \n",
       "\n",
       "                                            abstract  \n",
       "0    The $m_{\\scriptscriptstyle W}-m_{\\scriptscri...  "
      ]
     },
     "execution_count": 96,
     "metadata": {},
     "output_type": "execute_result"
    }
   ],
   "source": [
    "df_long=pd.read_json('merged_14.json')\n",
    "df_long.head(1)"
   ]
  },
  {
   "cell_type": "code",
   "execution_count": 97,
   "metadata": {},
   "outputs": [
    {
     "data": {
      "text/html": [
       "<div>\n",
       "<style scoped>\n",
       "    .dataframe tbody tr th:only-of-type {\n",
       "        vertical-align: middle;\n",
       "    }\n",
       "\n",
       "    .dataframe tbody tr th {\n",
       "        vertical-align: top;\n",
       "    }\n",
       "\n",
       "    .dataframe thead th {\n",
       "        text-align: right;\n",
       "    }\n",
       "</style>\n",
       "<table border=\"1\" class=\"dataframe\">\n",
       "  <thead>\n",
       "    <tr style=\"text-align: right;\">\n",
       "      <th></th>\n",
       "      <th>title</th>\n",
       "      <th>categories</th>\n",
       "      <th>doi</th>\n",
       "      <th>abstract</th>\n",
       "    </tr>\n",
       "  </thead>\n",
       "  <tbody>\n",
       "    <tr>\n",
       "      <td>0</td>\n",
       "      <td>The $m_{\\scriptscriptstyle W}-m_{\\scriptscript...</td>\n",
       "      <td>hep-ph</td>\n",
       "      <td>None</td>\n",
       "      <td>The $m_{\\scriptscriptstyle W}-m_{\\scriptscri...</td>\n",
       "    </tr>\n",
       "    <tr>\n",
       "      <td>1</td>\n",
       "      <td>Comments on Hastings' Additivity Counterexamples</td>\n",
       "      <td>quant-ph</td>\n",
       "      <td>10.1007/s00220-010-0996-9</td>\n",
       "      <td>Hastings recently provided a proof of the ex...</td>\n",
       "    </tr>\n",
       "    <tr>\n",
       "      <td>2</td>\n",
       "      <td>An application of decomposable maps in proving...</td>\n",
       "      <td>quant-ph</td>\n",
       "      <td>10.1063/1.3277186</td>\n",
       "      <td>In this paper we present a class of maps for...</td>\n",
       "    </tr>\n",
       "    <tr>\n",
       "      <td>3</td>\n",
       "      <td>On the peculiarity of the Coulomb gauge</td>\n",
       "      <td>physics.class-ph physics.gen-ph</td>\n",
       "      <td>None</td>\n",
       "      <td>In an earlier paper we provided an alternati...</td>\n",
       "    </tr>\n",
       "    <tr>\n",
       "      <td>4</td>\n",
       "      <td>Entanglement of random subspaces via the Hasti...</td>\n",
       "      <td>quant-ph</td>\n",
       "      <td>10.1063/1.3309418</td>\n",
       "      <td>Recently Hastings proved the existence of ra...</td>\n",
       "    </tr>\n",
       "  </tbody>\n",
       "</table>\n",
       "</div>"
      ],
      "text/plain": [
       "                                               title  \\\n",
       "0  The $m_{\\scriptscriptstyle W}-m_{\\scriptscript...   \n",
       "1   Comments on Hastings' Additivity Counterexamples   \n",
       "2  An application of decomposable maps in proving...   \n",
       "3            On the peculiarity of the Coulomb gauge   \n",
       "4  Entanglement of random subspaces via the Hasti...   \n",
       "\n",
       "                        categories                        doi  \\\n",
       "0                           hep-ph                       None   \n",
       "1                         quant-ph  10.1007/s00220-010-0996-9   \n",
       "2                         quant-ph          10.1063/1.3277186   \n",
       "3  physics.class-ph physics.gen-ph                       None   \n",
       "4                         quant-ph          10.1063/1.3309418   \n",
       "\n",
       "                                            abstract  \n",
       "0    The $m_{\\scriptscriptstyle W}-m_{\\scriptscri...  \n",
       "1    Hastings recently provided a proof of the ex...  \n",
       "2    In this paper we present a class of maps for...  \n",
       "3    In an earlier paper we provided an alternati...  \n",
       "4    Recently Hastings proved the existence of ra...  "
      ]
     },
     "execution_count": 97,
     "metadata": {},
     "output_type": "execute_result"
    }
   ],
   "source": [
    "dff=df_long.drop(['identifier','datestamp','setSpec','created','id'],axis=1)\n",
    "df=dff.drop(['updated','authors','comments','journal-ref'],axis=1)\n",
    "df.head()"
   ]
  },
  {
   "cell_type": "code",
   "execution_count": 111,
   "metadata": {},
   "outputs": [],
   "source": [
    "s=df[\"categories\"].value_counts(normalize=False,ascending=False)\n",
    "df2 = pd.DataFrame(df['categories'].value_counts())\n",
    "df2.reset_index(inplace=True)\n",
    "df2.columns = ['categories','cat_counts']\n",
    "df3 = df.merge(df2,on='categories')\n",
    "df_=df3[df3.cat_counts>2]"
   ]
  },
  {
   "cell_type": "code",
   "execution_count": 121,
   "metadata": {},
   "outputs": [],
   "source": [
    "x1=df_[\"categories\"].value_counts(normalize=True)"
   ]
  },
  {
   "cell_type": "code",
   "execution_count": 132,
   "metadata": {},
   "outputs": [
    {
     "name": "stderr",
     "output_type": "stream",
     "text": [
      "/home/elahe/anaconda3/lib/python3.7/site-packages/ipykernel_launcher.py:5: FutureWarning: \n",
      "Passing list-likes to .loc or [] with any missing label will raise\n",
      "KeyError in the future, you can use .reindex() as an alternative.\n",
      "\n",
      "See the documentation here:\n",
      "https://pandas.pydata.org/pandas-docs/stable/user_guide/indexing.html#deprecate-loc-reindex-listlike\n",
      "  \"\"\"\n"
     ]
    },
    {
     "data": {
      "text/plain": [
       "1667"
      ]
     },
     "execution_count": 132,
     "metadata": {},
     "output_type": "execute_result"
    }
   ],
   "source": [
    "from sklearn.model_selection import StratifiedShuffleSplit\n",
    "\n",
    "split = StratifiedShuffleSplit(n_splits=1, test_size=0.04, random_state=42)\n",
    "for train_index, test_index in split.split(df_, df_[\"categories\"]):\n",
    "    strat_test_set = df_.loc[test_index]\n",
    "\n",
    "len(strat_test_set)       \n",
    "    \n",
    "    "
   ]
  },
  {
   "cell_type": "code",
   "execution_count": null,
   "metadata": {},
   "outputs": [],
   "source": []
  },
  {
   "cell_type": "code",
   "execution_count": 134,
   "metadata": {},
   "outputs": [
    {
     "data": {
      "text/plain": [
       "quant-ph                                   0.057998\n",
       "hep-ph                                     0.052503\n",
       "cond-mat.mes-hall                          0.037851\n",
       "cond-mat.mtrl-sci                          0.035409\n",
       "gr-qc                                      0.031746\n",
       "                                             ...   \n",
       "physics.atom-ph physics.optics quant-ph    0.000611\n",
       "math-ph math.MP math.SP quant-ph           0.000611\n",
       "nucl-th hep-lat hep-ph                     0.000611\n",
       "astro-ph.HE hep-ex hep-ph                  0.000611\n",
       "math-ph gr-qc hep-th math.MP               0.000611\n",
       "Name: categories, Length: 362, dtype: float64"
      ]
     },
     "execution_count": 134,
     "metadata": {},
     "output_type": "execute_result"
    }
   ],
   "source": [
    "x2=strat_test_set[\"categories\"].value_counts(normalize=True)\n",
    "x2"
   ]
  },
  {
   "cell_type": "code",
   "execution_count": 131,
   "metadata": {},
   "outputs": [
    {
     "data": {
      "text/plain": [
       "quant-ph                                                       0.057074\n",
       "hep-ph                                                         0.051314\n",
       "cond-mat.mes-hall                                              0.036553\n",
       "cond-mat.mtrl-sci                                              0.034993\n",
       "hep-th                                                         0.030721\n",
       "                                                                 ...   \n",
       "astro-ph.SR astro-ph.CO astro-ph.EP astro-ph.GA astro-ph.HE    0.000072\n",
       "astro-ph.CO astro-ph.GA hep-ph hep-th                          0.000072\n",
       "astro-ph.IM cs.CV                                              0.000072\n",
       "cond-mat.mes-hall cond-mat.dis-nn cond-mat.stat-mech           0.000072\n",
       "physics.data-an cond-mat.stat-mech                             0.000072\n",
       "Name: categories, Length: 1174, dtype: float64"
      ]
     },
     "execution_count": 131,
     "metadata": {},
     "output_type": "execute_result"
    }
   ],
   "source": [
    "x1"
   ]
  },
  {
   "cell_type": "code",
   "execution_count": 136,
   "metadata": {},
   "outputs": [],
   "source": [
    "#cats_list=df['categories'].value_counts().index.tolist()   list of categories\n",
    "#cats= df['categories'].value_counts().keys().tolist()      list of categories\n",
    "#counts = df['categories'].value_counts().tolist()  list of numbers\n",
    "#df[\"categories\"].value_counts().to_frame()"
   ]
  }
 ],
 "metadata": {
  "kernelspec": {
   "display_name": "Python 3",
   "language": "python",
   "name": "python3"
  },
  "language_info": {
   "codemirror_mode": {
    "name": "ipython",
    "version": 3
   },
   "file_extension": ".py",
   "mimetype": "text/x-python",
   "name": "python",
   "nbconvert_exporter": "python",
   "pygments_lexer": "ipython3",
   "version": "3.7.4"
  }
 },
 "nbformat": 4,
 "nbformat_minor": 2
}
