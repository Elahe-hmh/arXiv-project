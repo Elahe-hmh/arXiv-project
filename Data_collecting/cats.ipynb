{
 "cells": [
  {
   "cell_type": "code",
   "execution_count": 2,
   "metadata": {},
   "outputs": [],
   "source": [
    "import pandas as pd"
   ]
  },
  {
   "cell_type": "code",
   "execution_count": 3,
   "metadata": {},
   "outputs": [],
   "source": [
    "df_long=pd.read_json('merged_14.json')\n",
    "#df_long.head(1)"
   ]
  },
  {
   "cell_type": "code",
   "execution_count": 4,
   "metadata": {},
   "outputs": [],
   "source": [
    "dff=df_long.drop(['identifier','datestamp','setSpec','created','id'],axis=1)\n",
    "df=dff.drop(['updated','authors','comments','journal-ref'],axis=1)\n",
    "#df.head()"
   ]
  },
  {
   "cell_type": "code",
   "execution_count": 5,
   "metadata": {},
   "outputs": [],
   "source": [
    "s=df[\"categories\"].value_counts(normalize=False,ascending=False)\n",
    "df2 = pd.DataFrame(df['categories'].value_counts())\n",
    "df2.reset_index(inplace=True)\n",
    "df2.columns = ['categories','cat_counts']\n",
    "df3 = df.merge(df2,on='categories')\n",
    "df_=df3[df3.cat_counts>2]"
   ]
  },
  {
   "cell_type": "code",
   "execution_count": 6,
   "metadata": {},
   "outputs": [],
   "source": [
    "x1=df_[\"categories\"].value_counts(normalize=True)"
   ]
  },
  {
   "cell_type": "code",
   "execution_count": 7,
   "metadata": {},
   "outputs": [
    {
     "name": "stderr",
     "output_type": "stream",
     "text": [
      "/home/elahe/anaconda3/lib/python3.7/site-packages/ipykernel_launcher.py:5: FutureWarning: \n",
      "Passing list-likes to .loc or [] with any missing label will raise\n",
      "KeyError in the future, you can use .reindex() as an alternative.\n",
      "\n",
      "See the documentation here:\n",
      "https://pandas.pydata.org/pandas-docs/stable/user_guide/indexing.html#deprecate-loc-reindex-listlike\n",
      "  \"\"\"\n"
     ]
    },
    {
     "data": {
      "text/plain": [
       "1667"
      ]
     },
     "execution_count": 7,
     "metadata": {},
     "output_type": "execute_result"
    }
   ],
   "source": [
    "from sklearn.model_selection import StratifiedShuffleSplit\n",
    "\n",
    "split = StratifiedShuffleSplit(n_splits=1, test_size=0.04, random_state=42)\n",
    "for train_index, test_index in split.split(df_, df_[\"categories\"]):\n",
    "    strat_test_set = df_.loc[test_index]\n",
    "\n",
    "len(strat_test_set)       \n",
    "    \n",
    "    "
   ]
  },
  {
   "cell_type": "code",
   "execution_count": 8,
   "metadata": {},
   "outputs": [
    {
     "data": {
      "text/plain": [
       "quant-ph                           0.057998\n",
       "hep-ph                             0.052503\n",
       "cond-mat.mes-hall                  0.037851\n",
       "cond-mat.mtrl-sci                  0.035409\n",
       "gr-qc                              0.031746\n",
       "                                     ...   \n",
       "quant-ph hep-th math-ph math.MP    0.000611\n",
       "nucl-ex physics.ins-det            0.000611\n",
       "quant-ph physics.chem-ph           0.000611\n",
       "hep-ex physics.ins-det             0.000611\n",
       "math.CA math-ph math.MP            0.000611\n",
       "Name: categories, Length: 362, dtype: float64"
      ]
     },
     "execution_count": 8,
     "metadata": {},
     "output_type": "execute_result"
    }
   ],
   "source": [
    "x1=strat_test_set[\"categories\"].value_counts(normalize=True)\n",
    "x1"
   ]
  },
  {
   "cell_type": "code",
   "execution_count": 9,
   "metadata": {},
   "outputs": [],
   "source": [
    "#cats_list=df['categories'].value_counts().index.tolist()   list of categories\n",
    "#cats= df['categories'].value_counts().keys().tolist()      list of categories\n",
    "#counts = df['categories'].value_counts().tolist()  list of numbers\n",
    "#df[\"categories\"].value_counts().to_frame()"
   ]
  },
  {
   "cell_type": "code",
   "execution_count": 10,
   "metadata": {},
   "outputs": [],
   "source": [
    "data=strat_test_set\n",
    "cat=data['categories']\n",
    "cat_uni=[]\n",
    "for i in cat:\n",
    "    if i not in cat_uni:\n",
    "        cat_uni.append(i)"
   ]
  },
  {
   "cell_type": "code",
   "execution_count": 11,
   "metadata": {},
   "outputs": [
    {
     "data": {
      "text/plain": [
       "363"
      ]
     },
     "execution_count": 11,
     "metadata": {},
     "output_type": "execute_result"
    }
   ],
   "source": [
    "len(cat_uni)"
   ]
  },
  {
   "cell_type": "code",
   "execution_count": 12,
   "metadata": {},
   "outputs": [],
   "source": [
    "cat_total=df['categories']\n",
    "cat_uni_total=[]\n",
    "for i in cat_total:\n",
    "    if i not in cat_uni_total:\n",
    "        cat_uni_total.append(i)"
   ]
  },
  {
   "cell_type": "code",
   "execution_count": 13,
   "metadata": {},
   "outputs": [
    {
     "data": {
      "text/plain": [
       "4724"
      ]
     },
     "execution_count": 13,
     "metadata": {},
     "output_type": "execute_result"
    }
   ],
   "source": [
    "len(cat_uni_total)"
   ]
  },
  {
   "cell_type": "code",
   "execution_count": 14,
   "metadata": {},
   "outputs": [
    {
     "data": {
      "text/plain": [
       "1667"
      ]
     },
     "execution_count": 14,
     "metadata": {},
     "output_type": "execute_result"
    }
   ],
   "source": [
    "len(cat) #this is all of datas :)) with repeated categories"
   ]
  },
  {
   "cell_type": "code",
   "execution_count": 15,
   "metadata": {},
   "outputs": [],
   "source": [
    "#############################################"
   ]
  },
  {
   "cell_type": "code",
   "execution_count": 16,
   "metadata": {},
   "outputs": [],
   "source": [
    "import tensorflow as tf\n",
    "from tensorflow import keras\n",
    "from tensorflow.keras.preprocessing.text import Tokenizer\n"
   ]
  },
  {
   "cell_type": "code",
   "execution_count": 17,
   "metadata": {},
   "outputs": [],
   "source": [
    "abs=data['abstract']\n",
    "abs_list=list(abs)\n",
    "\n"
   ]
  },
  {
   "cell_type": "code",
   "execution_count": 18,
   "metadata": {},
   "outputs": [
    {
     "ename": "TypeError",
     "evalue": "expected string or bytes-like object",
     "output_type": "error",
     "traceback": [
      "\u001b[0;31m---------------------------------------------------------------------------\u001b[0m",
      "\u001b[0;31mTypeError\u001b[0m                                 Traceback (most recent call last)",
      "\u001b[0;32m<ipython-input-18-3eec9093c7f5>\u001b[0m in \u001b[0;36m<module>\u001b[0;34m\u001b[0m\n\u001b[1;32m      5\u001b[0m     \u001b[0mx\u001b[0m\u001b[0;34m=\u001b[0m\u001b[0mabs_list\u001b[0m\u001b[0;34m[\u001b[0m\u001b[0mi\u001b[0m\u001b[0;34m]\u001b[0m\u001b[0;34m\u001b[0m\u001b[0;34m\u001b[0m\u001b[0m\n\u001b[1;32m      6\u001b[0m     \u001b[0mi\u001b[0m\u001b[0;34m+=\u001b[0m\u001b[0;36m1\u001b[0m\u001b[0;34m\u001b[0m\u001b[0;34m\u001b[0m\u001b[0m\n\u001b[0;32m----> 7\u001b[0;31m     \u001b[0ms\u001b[0m\u001b[0;34m=\u001b[0m\u001b[0mre\u001b[0m\u001b[0;34m.\u001b[0m\u001b[0msub\u001b[0m\u001b[0;34m(\u001b[0m\u001b[0;34m\"[^a-zA-Z0-9]+\"\u001b[0m\u001b[0;34m,\u001b[0m \u001b[0;34m' '\u001b[0m\u001b[0;34m,\u001b[0m \u001b[0mx\u001b[0m\u001b[0;34m)\u001b[0m\u001b[0;34m\u001b[0m\u001b[0;34m\u001b[0m\u001b[0m\n\u001b[0m\u001b[1;32m      8\u001b[0m     \u001b[0mabs_list_new\u001b[0m\u001b[0;34m.\u001b[0m\u001b[0mappend\u001b[0m\u001b[0;34m(\u001b[0m\u001b[0ms\u001b[0m\u001b[0;34m)\u001b[0m\u001b[0;34m\u001b[0m\u001b[0;34m\u001b[0m\u001b[0m\n\u001b[1;32m      9\u001b[0m \u001b[0mabs_list_new\u001b[0m\u001b[0;34m[\u001b[0m\u001b[0;36m0\u001b[0m\u001b[0;34m]\u001b[0m\u001b[0;34m\u001b[0m\u001b[0;34m\u001b[0m\u001b[0m\n",
      "\u001b[0;32m~/anaconda3/lib/python3.7/re.py\u001b[0m in \u001b[0;36msub\u001b[0;34m(pattern, repl, string, count, flags)\u001b[0m\n\u001b[1;32m    190\u001b[0m     \u001b[0ma\u001b[0m \u001b[0mcallable\u001b[0m\u001b[0;34m,\u001b[0m \u001b[0mit\u001b[0m\u001b[0;31m'\u001b[0m\u001b[0ms\u001b[0m \u001b[0mpassed\u001b[0m \u001b[0mthe\u001b[0m \u001b[0mMatch\u001b[0m \u001b[0mobject\u001b[0m \u001b[0;32mand\u001b[0m \u001b[0mmust\u001b[0m \u001b[0;32mreturn\u001b[0m\u001b[0;34m\u001b[0m\u001b[0;34m\u001b[0m\u001b[0m\n\u001b[1;32m    191\u001b[0m     a replacement string to be used.\"\"\"\n\u001b[0;32m--> 192\u001b[0;31m     \u001b[0;32mreturn\u001b[0m \u001b[0m_compile\u001b[0m\u001b[0;34m(\u001b[0m\u001b[0mpattern\u001b[0m\u001b[0;34m,\u001b[0m \u001b[0mflags\u001b[0m\u001b[0;34m)\u001b[0m\u001b[0;34m.\u001b[0m\u001b[0msub\u001b[0m\u001b[0;34m(\u001b[0m\u001b[0mrepl\u001b[0m\u001b[0;34m,\u001b[0m \u001b[0mstring\u001b[0m\u001b[0;34m,\u001b[0m \u001b[0mcount\u001b[0m\u001b[0;34m)\u001b[0m\u001b[0;34m\u001b[0m\u001b[0;34m\u001b[0m\u001b[0m\n\u001b[0m\u001b[1;32m    193\u001b[0m \u001b[0;34m\u001b[0m\u001b[0m\n\u001b[1;32m    194\u001b[0m \u001b[0;32mdef\u001b[0m \u001b[0msubn\u001b[0m\u001b[0;34m(\u001b[0m\u001b[0mpattern\u001b[0m\u001b[0;34m,\u001b[0m \u001b[0mrepl\u001b[0m\u001b[0;34m,\u001b[0m \u001b[0mstring\u001b[0m\u001b[0;34m,\u001b[0m \u001b[0mcount\u001b[0m\u001b[0;34m=\u001b[0m\u001b[0;36m0\u001b[0m\u001b[0;34m,\u001b[0m \u001b[0mflags\u001b[0m\u001b[0;34m=\u001b[0m\u001b[0;36m0\u001b[0m\u001b[0;34m)\u001b[0m\u001b[0;34m:\u001b[0m\u001b[0;34m\u001b[0m\u001b[0;34m\u001b[0m\u001b[0m\n",
      "\u001b[0;31mTypeError\u001b[0m: expected string or bytes-like object"
     ]
    }
   ],
   "source": [
    "import re\n",
    "abs_list_new=[]\n",
    "i=0\n",
    "while i!=len(abs_list):\n",
    "    x=abs_list[i]\n",
    "    i+=1\n",
    "    s=re.sub(\"[^a-zA-Z0-9]+\", ' ', x)\n",
    "    abs_list_new.append(s)\n",
    "abs_list_new[0]"
   ]
  },
  {
   "cell_type": "code",
   "execution_count": null,
   "metadata": {},
   "outputs": [],
   "source": []
  },
  {
   "cell_type": "code",
   "execution_count": null,
   "metadata": {},
   "outputs": [],
   "source": [
    "from nltk.stem import WordNetLemmatizer\n",
    "lemmatizer=WordNetLemmatizer()\n",
    "lemmetizer"
   ]
  },
  {
   "cell_type": "code",
   "execution_count": null,
   "metadata": {},
   "outputs": [],
   "source": [
    "#abs_list"
   ]
  },
  {
   "cell_type": "code",
   "execution_count": 19,
   "metadata": {},
   "outputs": [
    {
     "data": {
      "text/plain": [
       "['gr-qc astro-ph hep-th',\n",
       " 'quant-ph physics.optics',\n",
       " nan,\n",
       " 'gr-qc',\n",
       " 'cond-mat.stat-mech',\n",
       " 'quant-ph',\n",
       " 'q-bio.NC physics.bio-ph',\n",
       " 'gr-qc astro-ph.HE hep-ph hep-th',\n",
       " 'cond-mat.quant-gas physics.atom-ph quant-ph',\n",
       " 'hep-th',\n",
       " 'cond-mat.mtrl-sci cond-mat.mes-hall',\n",
       " 'astro-ph.SR',\n",
       " 'hep-ph astro-ph.SR',\n",
       " 'nlin.CD',\n",
       " 'cond-mat.mes-hall',\n",
       " 'physics.flu-dyn',\n",
       " 'hep-th cond-mat.mes-hall',\n",
       " 'math-ph hep-th math.MP nlin.SI',\n",
       " 'hep-ph nucl-th',\n",
       " 'astro-ph.HE gr-qc',\n",
       " 'hep-th gr-qc',\n",
       " 'cond-mat.mtrl-sci',\n",
       " 'physics.ins-det',\n",
       " 'hep-ph',\n",
       " 'cond-mat.mtrl-sci cond-mat.mes-hall physics.optics',\n",
       " 'cs.CL cs.SI physics.soc-ph',\n",
       " 'astro-ph.IM astro-ph.HE',\n",
       " 'hep-ph hep-ex',\n",
       " 'hep-lat',\n",
       " 'astro-ph.GA',\n",
       " 'cond-mat.quant-gas cond-mat.str-el',\n",
       " 'astro-ph.CO',\n",
       " 'physics.ins-det cond-mat.mes-hall',\n",
       " 'quant-ph hep-th math-ph math.MP',\n",
       " 'nucl-ex',\n",
       " 'hep-ph hep-lat nucl-th',\n",
       " 'gr-qc hep-th',\n",
       " 'physics.optics',\n",
       " 'math-ph math.AP math.MP',\n",
       " 'math-ph math.MP',\n",
       " 'cond-mat.soft',\n",
       " 'nucl-ex nucl-th',\n",
       " 'cond-mat.str-el cond-mat.dis-nn',\n",
       " 'hep-th gr-qc hep-ph',\n",
       " 'hep-ex',\n",
       " 'astro-ph.GA gr-qc',\n",
       " 'astro-ph.SR astro-ph.GA',\n",
       " 'physics.acc-ph',\n",
       " 'physics.gen-ph',\n",
       " 'astro-ph',\n",
       " 'nlin.SI',\n",
       " 'gr-qc astro-ph.CO hep-th',\n",
       " 'physics.soc-ph physics.data-an',\n",
       " 'cond-mat.str-el',\n",
       " 'hep-th cond-mat.str-el',\n",
       " 'physics.soc-ph cs.SI',\n",
       " 'physics.plasm-ph',\n",
       " 'cond-mat.str-el cond-mat.supr-con',\n",
       " 'nlin.SI math-ph math.MP',\n",
       " 'astro-ph.HE',\n",
       " 'hep-th astro-ph.CO gr-qc hep-ph',\n",
       " 'gr-qc hep-ph hep-th',\n",
       " 'hep-ex hep-ph nucl-ex nucl-th',\n",
       " 'hep-th math-ph math.MP',\n",
       " 'physics.class-ph',\n",
       " 'astro-ph.GA astro-ph.CO',\n",
       " 'cond-mat.quant-gas',\n",
       " 'gr-qc math-ph math.MP',\n",
       " 'physics.soc-ph cs.SI q-bio.PE',\n",
       " 'cond-mat.supr-con cond-mat.mtrl-sci cond-mat.str-el',\n",
       " 'math.DG math-ph math.AG math.MP',\n",
       " 'cond-mat.str-el cond-mat.stat-mech quant-ph',\n",
       " 'cond-mat.mes-hall cond-mat.mtrl-sci',\n",
       " 'astro-ph.IM astro-ph.CO',\n",
       " 'astro-ph.CO astro-ph.GA gr-qc',\n",
       " 'quant-ph math-ph math.MP',\n",
       " 'hep-ex nucl-ex',\n",
       " 'astro-ph.EP',\n",
       " 'cond-mat.str-el cond-mat.mtrl-sci',\n",
       " 'cond-mat.supr-con',\n",
       " 'nucl-th',\n",
       " 'cond-mat.other',\n",
       " 'cond-mat.supr-con cond-mat.str-el',\n",
       " 'math-ph hep-th math.MP',\n",
       " 'q-bio.NC cond-mat.dis-nn',\n",
       " 'gr-qc astro-ph.CO',\n",
       " 'math.QA hep-th',\n",
       " 'hep-ph hep-ex hep-lat',\n",
       " 'hep-ph astro-ph.CO hep-ex',\n",
       " 'cond-mat.str-el cond-mat.mes-hall',\n",
       " 'physics.acc-ph physics.ins-det',\n",
       " 'hep-lat physics.comp-ph',\n",
       " 'physics.ins-det nucl-ex',\n",
       " 'nucl-th hep-ph',\n",
       " 'physics.chem-ph quant-ph',\n",
       " 'cond-mat.stat-mech cond-mat.dis-nn',\n",
       " 'astro-ph.HE nucl-th',\n",
       " 'gr-qc astro-ph.HE hep-th',\n",
       " 'physics.atom-ph quant-ph',\n",
       " 'cond-mat.stat-mech cond-mat.soft',\n",
       " 'cond-mat.mtrl-sci cond-mat.other',\n",
       " 'cond-mat.stat-mech cond-mat.mtrl-sci',\n",
       " 'hep-lat hep-ph hep-th',\n",
       " 'astro-ph gr-qc',\n",
       " 'cond-mat.soft physics.bio-ph',\n",
       " 'hep-lat cond-mat.stat-mech',\n",
       " 'physics.atom-ph',\n",
       " 'astro-ph.CO gr-qc hep-ph hep-th',\n",
       " 'hep-ph hep-lat',\n",
       " 'cond-mat.mes-hall quant-ph',\n",
       " 'physics.data-an',\n",
       " 'q-bio.PE cs.SI physics.soc-ph',\n",
       " 'gr-qc math-ph math.DG math.MP',\n",
       " 'quant-ph cs.SY',\n",
       " 'astro-ph.CO gr-qc hep-ph',\n",
       " 'hep-ph hep-th',\n",
       " 'nucl-th nucl-ex',\n",
       " 'hep-th quant-ph',\n",
       " 'hep-ph astro-ph.HE hep-ex',\n",
       " 'hep-th astro-ph.HE gr-qc',\n",
       " 'astro-ph.CO hep-ph',\n",
       " 'hep-ph gr-qc hep-th',\n",
       " 'math-ph math.MP quant-ph',\n",
       " 'physics.atom-ph physics.chem-ph quant-ph',\n",
       " 'physics.bio-ph q-bio.BM',\n",
       " 'astro-ph.HE astro-ph.SR',\n",
       " 'quant-ph cs.CC',\n",
       " 'hep-ex physics.ins-det',\n",
       " 'math-ph hep-th math.DG math.MP',\n",
       " 'cond-mat.mtrl-sci cond-mat.soft',\n",
       " 'quant-ph cond-mat.quant-gas',\n",
       " 'hep-th gr-qc hep-ph quant-ph',\n",
       " 'hep-ph astro-ph.CO',\n",
       " 'nlin.AO nlin.CD',\n",
       " 'quant-ph cond-mat.quant-gas physics.atom-ph',\n",
       " 'cond-mat.quant-gas quant-ph',\n",
       " 'astro-ph.HE hep-ex hep-ph',\n",
       " 'hep-th math.CO math.GT',\n",
       " 'physics.comp-ph',\n",
       " 'hep-th hep-ph quant-ph',\n",
       " 'astro-ph.HE hep-ph',\n",
       " 'astro-ph.HE astro-ph.CO gr-qc',\n",
       " 'nucl-th hep-ex hep-ph nucl-ex',\n",
       " 'cond-mat.dis-nn',\n",
       " 'cond-mat.soft cond-mat.stat-mech',\n",
       " 'cond-mat.mtrl-sci physics.comp-ph',\n",
       " 'nucl-th hep-ph nucl-ex',\n",
       " 'quant-ph physics.chem-ph',\n",
       " 'hep-th cond-mat.str-el hep-ph',\n",
       " 'math-ph math.MP math.PR',\n",
       " 'cond-mat.quant-gas physics.atom-ph',\n",
       " 'hep-th hep-ph',\n",
       " 'gr-qc math.AP',\n",
       " 'hep-ph hep-th nucl-th',\n",
       " 'cond-mat.stat-mech physics.bio-ph q-bio.PE',\n",
       " 'hep-lat hep-ph',\n",
       " 'math.AP math-ph math.MP',\n",
       " 'cond-mat.dis-nn cond-mat.stat-mech',\n",
       " 'nlin.CD cond-mat.stat-mech',\n",
       " 'quant-ph gr-qc',\n",
       " 'math-ph gr-qc math.DG math.MP',\n",
       " 'math.PR math-ph math.MP',\n",
       " 'cond-mat.stat-mech hep-th',\n",
       " 'physics.chem-ph',\n",
       " 'nucl-ex hep-ex',\n",
       " 'physics.soc-ph cs.DL',\n",
       " 'math.AP math-ph math.MP physics.flu-dyn',\n",
       " 'hep-ph astro-ph.HE',\n",
       " 'hep-th cond-mat.stat-mech',\n",
       " 'quant-ph cond-mat.str-el math-ph math.MP',\n",
       " 'physics.hist-ph',\n",
       " 'cond-mat.mes-hall cond-mat.mtrl-sci physics.optics',\n",
       " 'cond-mat.mes-hall cond-mat.supr-con',\n",
       " 'hep-ph astro-ph.CO astro-ph.HE hep-ex',\n",
       " 'physics.bio-ph',\n",
       " 'astro-ph.IM',\n",
       " 'cond-mat.mes-hall cond-mat.soft',\n",
       " 'hep-th astro-ph.CO gr-qc',\n",
       " 'cs.SI physics.soc-ph',\n",
       " 'cond-mat.quant-gas cond-mat.str-el quant-ph',\n",
       " 'physics.gen-ph quant-ph',\n",
       " 'quant-ph hep-th',\n",
       " 'hep-lat hep-ph nucl-th',\n",
       " 'cond-mat.mes-hall physics.optics',\n",
       " 'cond-mat.stat-mech cond-mat.quant-gas',\n",
       " 'physics.class-ph physics.optics',\n",
       " 'physics.ins-det hep-ex',\n",
       " 'quant-ph cs.IT math.IT',\n",
       " 'astro-ph.EP astro-ph.SR',\n",
       " 'astro-ph hep-ph',\n",
       " 'math.AP physics.flu-dyn',\n",
       " 'hep-ex hep-ph',\n",
       " 'math-ph math.DG math.MP',\n",
       " 'math.DG math-ph math.MP',\n",
       " 'math.AG math-ph math.MP',\n",
       " 'math-ph math.MP physics.plasm-ph',\n",
       " 'cond-mat.mes-hall cond-mat.str-el',\n",
       " 'cond-mat.mes-hall cond-mat.dis-nn',\n",
       " 'nucl-th astro-ph.SR',\n",
       " 'physics.optics physics.ins-det',\n",
       " 'quant-ph cond-mat.mes-hall',\n",
       " 'physics.comp-ph cond-mat.mtrl-sci',\n",
       " 'astro-ph gr-qc hep-th',\n",
       " 'hep-th cond-mat.str-el hep-lat',\n",
       " 'physics.atom-ph physics.optics quant-ph',\n",
       " 'cond-mat.mtrl-sci physics.chem-ph',\n",
       " 'quant-ph physics.hist-ph',\n",
       " 'hep-ex hep-ph nucl-th',\n",
       " 'astro-ph.SR astro-ph.IM',\n",
       " 'astro-ph.GA astro-ph.SR',\n",
       " 'cond-mat.soft cond-mat.dis-nn cond-mat.mtrl-sci',\n",
       " 'physics.soc-ph q-fin.GN',\n",
       " 'math-ph cond-mat.stat-mech math.MP',\n",
       " 'astro-ph.SR astro-ph.EP',\n",
       " 'gr-qc astro-ph',\n",
       " 'physics.optics nlin.PS',\n",
       " 'physics.flu-dyn cond-mat.soft nlin.CD',\n",
       " 'physics.ins-det physics.optics',\n",
       " 'math.PR math-ph math.AP math.MP',\n",
       " 'cond-mat.quant-gas math-ph math.MP nucl-th quant-ph',\n",
       " 'astro-ph.CO hep-th',\n",
       " 'cond-mat.stat-mech math.PR',\n",
       " 'cond-mat.stat-mech quant-ph',\n",
       " 'quant-ph physics.atom-ph',\n",
       " 'math-ph math.MP math.SP',\n",
       " 'math.CA math-ph math.MP',\n",
       " 'hep-th gr-qc quant-ph',\n",
       " 'physics.bio-ph cond-mat.soft',\n",
       " 'physics.comp-ph physics.plasm-ph',\n",
       " 'nucl-th hep-lat hep-ph',\n",
       " 'hep-th hep-ph nucl-th',\n",
       " 'cs.CY cs.SI physics.soc-ph',\n",
       " 'quant-ph cond-mat.stat-mech',\n",
       " 'cond-mat.quant-gas nucl-th',\n",
       " 'physics.ao-ph',\n",
       " 'math-ph math.FA math.MP',\n",
       " 'math-ph math.MP math.SP quant-ph',\n",
       " 'cond-mat.stat-mech math-ph math.MP',\n",
       " 'astro-ph.CO astro-ph.HE',\n",
       " 'astro-ph.CO astro-ph.GA',\n",
       " 'astro-ph.IM physics.ins-det',\n",
       " 'quant-ph cond-mat.mes-hall physics.optics',\n",
       " 'hep-th astro-ph hep-ph',\n",
       " 'hep-ph astro-ph.CO gr-qc hep-th',\n",
       " 'astro-ph.EP astro-ph.IM',\n",
       " 'cond-mat.soft physics.bio-ph q-bio.BM',\n",
       " 'astro-ph.HE astro-ph.GA',\n",
       " 'astro-ph.SR physics.plasm-ph physics.space-ph',\n",
       " 'astro-ph.IM astro-ph.EP',\n",
       " 'q-fin.ST physics.soc-ph',\n",
       " 'math-ph math.MP nlin.SI',\n",
       " 'cond-mat.mtrl-sci cond-mat.str-el',\n",
       " 'nlin.PS',\n",
       " 'hep-ph physics.atom-ph',\n",
       " 'cond-mat.supr-con cond-mat.mes-hall cond-mat.mtrl-sci',\n",
       " 'physics.plasm-ph physics.ins-det',\n",
       " 'hep-ph hep-ex nucl-ex nucl-th',\n",
       " 'astro-ph.HE astro-ph.CO',\n",
       " 'math-ph hep-lat math.MP',\n",
       " 'physics.optics cond-mat.mtrl-sci',\n",
       " 'cond-mat.supr-con cond-mat.mtrl-sci',\n",
       " 'cond-mat.mtrl-sci cond-mat.mes-hall physics.chem-ph',\n",
       " 'cs.SI cs.CY physics.soc-ph',\n",
       " 'physics.gen-ph gr-qc',\n",
       " 'physics.ins-det hep-ex nucl-ex',\n",
       " 'gr-qc astro-ph.CO hep-th quant-ph',\n",
       " 'gr-qc astro-ph.CO math-ph math.MP',\n",
       " 'q-bio.BM cond-mat.soft physics.bio-ph',\n",
       " 'hep-ph astro-ph.CO hep-th',\n",
       " 'physics.chem-ph physics.bio-ph',\n",
       " 'gr-qc astro-ph.HE',\n",
       " 'physics.class-ph quant-ph',\n",
       " 'hep-ph hep-ex nucl-th',\n",
       " 'math-ph gr-qc math.MP',\n",
       " 'cond-mat.supr-con cond-mat.mes-hall',\n",
       " 'physics.ed-ph',\n",
       " 'cond-mat.soft cond-mat.mtrl-sci',\n",
       " 'cond-mat.str-el cond-mat.mes-hall cond-mat.supr-con',\n",
       " 'hep-th math-ph math.MP math.QA',\n",
       " 'cond-mat.str-el hep-th',\n",
       " 'astro-ph.CO gr-qc',\n",
       " 'physics.pop-ph',\n",
       " 'nucl-th astro-ph.SR nucl-ex',\n",
       " 'math.DS nlin.CD',\n",
       " 'math.DG hep-th math-ph math.MP',\n",
       " 'physics.bio-ph cond-mat.soft q-bio.BM',\n",
       " 'cond-mat.mtrl-sci cond-mat.stat-mech',\n",
       " 'hep-ph hep-lat hep-th',\n",
       " 'physics.soc-ph cs.SI nlin.AO',\n",
       " 'physics.optics cond-mat.mes-hall',\n",
       " 'math.SP math-ph math.MP',\n",
       " 'cond-mat.dis-nn cond-mat.str-el',\n",
       " 'math-ph hep-ph math.MP',\n",
       " 'astro-ph.GA astro-ph.CO astro-ph.SR',\n",
       " 'astro-ph.CO gr-qc hep-th',\n",
       " 'physics.optics math-ph math.MP',\n",
       " 'physics.soc-ph cond-mat.stat-mech',\n",
       " 'cond-mat.dis-nn cond-mat.mtrl-sci',\n",
       " 'math.DG gr-qc',\n",
       " 'hep-ph hep-ex hep-lat nucl-ex nucl-th',\n",
       " 'cond-mat.str-el quant-ph',\n",
       " 'physics.atom-ph cond-mat.quant-gas',\n",
       " 'astro-ph.SR astro-ph.HE',\n",
       " 'cond-mat.mes-hall cond-mat.mtrl-sci cond-mat.str-el',\n",
       " 'cond-mat.quant-gas cond-mat.stat-mech',\n",
       " 'cond-mat.soft physics.flu-dyn',\n",
       " 'cond-mat.stat-mech cond-mat.str-el',\n",
       " 'astro-ph.EP astro-ph.GA',\n",
       " 'nlin.AO',\n",
       " 'physics.flu-dyn cond-mat.soft physics.bio-ph',\n",
       " 'physics.geo-ph',\n",
       " 'quant-ph cond-mat.quant-gas nlin.CD',\n",
       " 'physics.soc-ph',\n",
       " 'physics.comp-ph cond-mat.stat-mech',\n",
       " 'physics.comp-ph physics.chem-ph',\n",
       " 'cond-mat.quant-gas nlin.CD nlin.PS quant-ph',\n",
       " 'physics.space-ph astro-ph.EP',\n",
       " 'physics.hist-ph physics.pop-ph',\n",
       " 'cond-mat.mtrl-sci physics.ins-det',\n",
       " 'math-ph math.AP math.MP math.SP',\n",
       " 'physics.chem-ph cond-mat.soft',\n",
       " 'math.FA math-ph math.MP',\n",
       " 'q-bio.PE cond-mat.stat-mech',\n",
       " 'physics.med-ph',\n",
       " 'math-ph gr-qc hep-th math.MP',\n",
       " 'nucl-ex physics.ins-det',\n",
       " 'physics.ao-ph physics.flu-dyn physics.geo-ph',\n",
       " 'physics.soc-ph cond-mat.stat-mech cs.SI',\n",
       " 'hep-th cond-mat.other math-ph math.MP',\n",
       " 'math.AG hep-th math.SG',\n",
       " 'cond-mat.quant-gas cond-mat.dis-nn',\n",
       " 'cond-mat.quant-gas nlin.PS',\n",
       " 'physics.hist-ph astro-ph.CO',\n",
       " 'physics.optics quant-ph',\n",
       " 'gr-qc hep-th math-ph math.MP',\n",
       " 'hep-th hep-lat',\n",
       " 'physics.soc-ph cs.SI physics.data-an',\n",
       " 'cs.CC quant-ph',\n",
       " 'hep-ph hep-ex physics.ins-det',\n",
       " 'quant-ph cond-mat.str-el',\n",
       " 'astro-ph.SR physics.space-ph',\n",
       " 'hep-th math-ph math.MP quant-ph',\n",
       " 'hep-ex hep-ph nucl-ex',\n",
       " 'quant-ph cs.CR',\n",
       " 'gr-qc astro-ph hep-ph',\n",
       " 'nlin.CG',\n",
       " 'hep-ph hep-th math-ph math.MP',\n",
       " 'cond-mat.str-el cond-mat.stat-mech',\n",
       " 'cond-mat.mes-hall hep-th',\n",
       " 'cs.DL cs.SI physics.soc-ph',\n",
       " 'cond-mat.quant-gas hep-th',\n",
       " 'gr-qc astro-ph.IM',\n",
       " 'math.CO cond-mat.stat-mech',\n",
       " 'hep-th astro-ph.CO',\n",
       " 'physics.ins-det physics.med-ph',\n",
       " 'cs.SI cs.DL physics.soc-ph',\n",
       " 'gr-qc hep-th quant-ph',\n",
       " 'cond-mat.other physics.flu-dyn',\n",
       " 'nucl-th astro-ph.HE',\n",
       " 'nucl-th quant-ph',\n",
       " 'cond-mat.stat-mech cond-mat.mes-hall',\n",
       " 'math-ph hep-th math.MP quant-ph',\n",
       " 'astro-ph gr-qc hep-ph hep-th']"
      ]
     },
     "execution_count": 19,
     "metadata": {},
     "output_type": "execute_result"
    }
   ],
   "source": [
    "cat_uni"
   ]
  },
  {
   "cell_type": "code",
   "execution_count": null,
   "metadata": {},
   "outputs": [],
   "source": []
  }
 ],
 "metadata": {
  "kernelspec": {
   "display_name": "Python 3",
   "language": "python",
   "name": "python3"
  },
  "language_info": {
   "codemirror_mode": {
    "name": "ipython",
    "version": 3
   },
   "file_extension": ".py",
   "mimetype": "text/x-python",
   "name": "python",
   "nbconvert_exporter": "python",
   "pygments_lexer": "ipython3",
   "version": "3.7.4"
  }
 },
 "nbformat": 4,
 "nbformat_minor": 2
}
