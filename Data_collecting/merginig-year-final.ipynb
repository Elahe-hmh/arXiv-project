{
 "cells": [
  {
   "cell_type": "code",
   "execution_count": 1,
   "metadata": {},
   "outputs": [],
   "source": [
    "import pandas as pd\n",
    "import json\n",
    "\n",
    "from os import listdir\n",
    "from os.path import isfile, join\n"
   ]
  },
  {
   "cell_type": "code",
   "execution_count": 10,
   "metadata": {},
   "outputs": [],
   "source": [
    "def merging_json_files():\n",
    "\n",
    "    Path = '/home/yeganeh/Desktop/all'\n",
    "    dict_list = []\n",
    "    mypath = '/home/yeganeh/Desktop/all'\n",
    "\n",
    "    onlyfiles = [f for f in listdir(mypath) if isfile(join(mypath, f)) and '.json' in f]\n",
    "    num = len(onlyfiles)\n",
    "    print(num)\n",
    "    for file in onlyfiles:\n",
    "        r = pd.read_json(mypath+'/'+file)\n",
    "        dict_list.append(dict(r))\n",
    "\n",
    "    if num > 0:\n",
    "        temp = len(list(dict_list[0].keys()))\n",
    "    for n in range(num):\n",
    "        if len(list(dict_list[n].keys())) != temp:\n",
    "            print(\"--EROR-- \\n json files must have the same informations, try again :)\")\n",
    "            merging_json_files()\n",
    "            return\n",
    "\n",
    "    final_dict = {}\n",
    "    if num > 0:\n",
    "        for key in list(dict_list[0].keys()):\n",
    "            final_dict[key] = []\n",
    "            for n in range(num):\n",
    "                final_dict[key].extend(list(dict_list[n][key]))\n",
    "\n",
    "    with open(Path+'/Final-all-years.json', 'w') as f:\n",
    "        json.dump(final_dict, f)"
   ]
  },
  {
   "cell_type": "code",
   "execution_count": 11,
   "metadata": {},
   "outputs": [
    {
     "name": "stdout",
     "output_type": "stream",
     "text": [
      "6\n"
     ]
    }
   ],
   "source": [
    "merging_json_files()"
   ]
  },
  {
   "cell_type": "code",
   "execution_count": null,
   "metadata": {},
   "outputs": [],
   "source": []
  }
 ],
 "metadata": {
  "kernelspec": {
   "display_name": "Python 3",
   "language": "python",
   "name": "python3"
  },
  "language_info": {
   "codemirror_mode": {
    "name": "ipython",
    "version": 3
   },
   "file_extension": ".py",
   "mimetype": "text/x-python",
   "name": "python",
   "nbconvert_exporter": "python",
   "pygments_lexer": "ipython3",
   "version": "3.7.3"
  }
 },
 "nbformat": 4,
 "nbformat_minor": 2
}
